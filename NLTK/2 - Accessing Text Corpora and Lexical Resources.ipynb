{
 "cells": [
  {
   "cell_type": "markdown",
   "metadata": {},
   "source": [
    "# Accessing Text Corpora and Lexical Resources"
   ]
  },
  {
   "cell_type": "code",
   "execution_count": 1,
   "metadata": {},
   "outputs": [
    {
     "data": {
      "text/plain": [
       "['austen-emma.txt',\n",
       " 'austen-persuasion.txt',\n",
       " 'austen-sense.txt',\n",
       " 'bible-kjv.txt',\n",
       " 'blake-poems.txt',\n",
       " 'bryant-stories.txt',\n",
       " 'burgess-busterbrown.txt',\n",
       " 'carroll-alice.txt',\n",
       " 'chesterton-ball.txt',\n",
       " 'chesterton-brown.txt',\n",
       " 'chesterton-thursday.txt',\n",
       " 'edgeworth-parents.txt',\n",
       " 'melville-moby_dick.txt',\n",
       " 'milton-paradise.txt',\n",
       " 'shakespeare-caesar.txt',\n",
       " 'shakespeare-hamlet.txt',\n",
       " 'shakespeare-macbeth.txt',\n",
       " 'whitman-leaves.txt']"
      ]
     },
     "execution_count": 1,
     "metadata": {},
     "output_type": "execute_result"
    }
   ],
   "source": [
    "from nltk.corpus import gutenberg\n",
    "gutenberg.fileids()"
   ]
  },
  {
   "cell_type": "code",
   "execution_count": 2,
   "metadata": {},
   "outputs": [
    {
     "data": {
      "text/plain": [
       "192427"
      ]
     },
     "execution_count": 2,
     "metadata": {},
     "output_type": "execute_result"
    }
   ],
   "source": [
    "emma = gutenberg.words('austen-emma.txt')\n",
    "len(emma)"
   ]
  },
  {
   "cell_type": "code",
   "execution_count": 4,
   "metadata": {},
   "outputs": [
    {
     "name": "stdout",
     "output_type": "stream",
     "text": [
      "5 25 26 austen-emma.txt\n",
      "5 26 17 austen-persuasion.txt\n",
      "5 28 22 austen-sense.txt\n",
      "4 34 79 bible-kjv.txt\n",
      "5 19 5 blake-poems.txt\n",
      "4 19 14 bryant-stories.txt\n",
      "4 18 12 burgess-busterbrown.txt\n",
      "4 20 13 carroll-alice.txt\n",
      "5 20 12 chesterton-ball.txt\n",
      "5 23 11 chesterton-brown.txt\n",
      "5 18 11 chesterton-thursday.txt\n",
      "4 21 25 edgeworth-parents.txt\n",
      "5 26 15 melville-moby_dick.txt\n",
      "5 52 11 milton-paradise.txt\n",
      "4 12 9 shakespeare-caesar.txt\n",
      "4 12 8 shakespeare-hamlet.txt\n",
      "4 12 7 shakespeare-macbeth.txt\n",
      "5 36 12 whitman-leaves.txt\n"
     ]
    }
   ],
   "source": [
    "for fileid in gutenberg.fileids():\n",
    "    num_chars = len(gutenberg.raw(fileid))\n",
    "    num_words = len(gutenberg.words(fileid))\n",
    "    num_sents = len(gutenberg.sents(fileid))\n",
    "    num_vocab = len(set(w.lower() for w in gutenberg.words(fileid)))\n",
    "    print(round(num_chars/num_words), round(num_words/num_sents), round(num_words/num_vocab), fileid)"
   ]
  },
  {
   "cell_type": "code",
   "execution_count": 5,
   "metadata": {},
   "outputs": [
    {
     "data": {
      "text/plain": [
       "[['[', 'The', 'Tragedie', 'of', 'Macbeth', 'by', 'William', 'Shakespeare', '1603', ']'], ['Actus', 'Primus', '.'], ...]"
      ]
     },
     "execution_count": 5,
     "metadata": {},
     "output_type": "execute_result"
    }
   ],
   "source": [
    "macbeth_sentences = gutenberg.sents('shakespeare-macbeth.txt')\n",
    "macbeth_sentences"
   ]
  },
  {
   "cell_type": "code",
   "execution_count": 6,
   "metadata": {},
   "outputs": [
    {
     "data": {
      "text/plain": [
       "[['Doubtfull',\n",
       "  'it',\n",
       "  'stood',\n",
       "  ',',\n",
       "  'As',\n",
       "  'two',\n",
       "  'spent',\n",
       "  'Swimmers',\n",
       "  ',',\n",
       "  'that',\n",
       "  'doe',\n",
       "  'cling',\n",
       "  'together',\n",
       "  ',',\n",
       "  'And',\n",
       "  'choake',\n",
       "  'their',\n",
       "  'Art',\n",
       "  ':',\n",
       "  'The',\n",
       "  'mercilesse',\n",
       "  'Macdonwald',\n",
       "  '(',\n",
       "  'Worthie',\n",
       "  'to',\n",
       "  'be',\n",
       "  'a',\n",
       "  'Rebell',\n",
       "  ',',\n",
       "  'for',\n",
       "  'to',\n",
       "  'that',\n",
       "  'The',\n",
       "  'multiplying',\n",
       "  'Villanies',\n",
       "  'of',\n",
       "  'Nature',\n",
       "  'Doe',\n",
       "  'swarme',\n",
       "  'vpon',\n",
       "  'him',\n",
       "  ')',\n",
       "  'from',\n",
       "  'the',\n",
       "  'Westerne',\n",
       "  'Isles',\n",
       "  'Of',\n",
       "  'Kernes',\n",
       "  'and',\n",
       "  'Gallowgrosses',\n",
       "  'is',\n",
       "  'supply',\n",
       "  \"'\",\n",
       "  'd',\n",
       "  ',',\n",
       "  'And',\n",
       "  'Fortune',\n",
       "  'on',\n",
       "  'his',\n",
       "  'damned',\n",
       "  'Quarry',\n",
       "  'smiling',\n",
       "  ',',\n",
       "  'Shew',\n",
       "  \"'\",\n",
       "  'd',\n",
       "  'like',\n",
       "  'a',\n",
       "  'Rebells',\n",
       "  'Whore',\n",
       "  ':',\n",
       "  'but',\n",
       "  'all',\n",
       "  \"'\",\n",
       "  's',\n",
       "  'too',\n",
       "  'weake',\n",
       "  ':',\n",
       "  'For',\n",
       "  'braue',\n",
       "  'Macbeth',\n",
       "  '(',\n",
       "  'well',\n",
       "  'hee',\n",
       "  'deserues',\n",
       "  'that',\n",
       "  'Name',\n",
       "  ')',\n",
       "  'Disdayning',\n",
       "  'Fortune',\n",
       "  ',',\n",
       "  'with',\n",
       "  'his',\n",
       "  'brandisht',\n",
       "  'Steele',\n",
       "  ',',\n",
       "  'Which',\n",
       "  'smoak',\n",
       "  \"'\",\n",
       "  'd',\n",
       "  'with',\n",
       "  'bloody',\n",
       "  'execution',\n",
       "  '(',\n",
       "  'Like',\n",
       "  'Valours',\n",
       "  'Minion',\n",
       "  ')',\n",
       "  'caru',\n",
       "  \"'\",\n",
       "  'd',\n",
       "  'out',\n",
       "  'his',\n",
       "  'passage',\n",
       "  ',',\n",
       "  'Till',\n",
       "  'hee',\n",
       "  'fac',\n",
       "  \"'\",\n",
       "  'd',\n",
       "  'the',\n",
       "  'Slaue',\n",
       "  ':',\n",
       "  'Which',\n",
       "  'neu',\n",
       "  \"'\",\n",
       "  'r',\n",
       "  'shooke',\n",
       "  'hands',\n",
       "  ',',\n",
       "  'nor',\n",
       "  'bad',\n",
       "  'farwell',\n",
       "  'to',\n",
       "  'him',\n",
       "  ',',\n",
       "  'Till',\n",
       "  'he',\n",
       "  'vnseam',\n",
       "  \"'\",\n",
       "  'd',\n",
       "  'him',\n",
       "  'from',\n",
       "  'the',\n",
       "  'Naue',\n",
       "  'toth',\n",
       "  \"'\",\n",
       "  'Chops',\n",
       "  ',',\n",
       "  'And',\n",
       "  'fix',\n",
       "  \"'\",\n",
       "  'd',\n",
       "  'his',\n",
       "  'Head',\n",
       "  'vpon',\n",
       "  'our',\n",
       "  'Battlements']]"
      ]
     },
     "execution_count": 6,
     "metadata": {},
     "output_type": "execute_result"
    }
   ],
   "source": [
    "longest_len = max(len(s) for s in macbeth_sentences)\n",
    "[s for s in macbeth_sentences if len(s) == longest_len]"
   ]
  },
  {
   "cell_type": "markdown",
   "metadata": {},
   "source": [
    "### Web and Chat text"
   ]
  },
  {
   "cell_type": "code",
   "execution_count": 8,
   "metadata": {},
   "outputs": [
    {
     "name": "stdout",
     "output_type": "stream",
     "text": [
      "firefox.txt Cookie Manager: \"Don't allow sites that set removed cookies to se ....\n",
      "grail.txt SCENE 1: [wind] [clop clop clop] \n",
      "KING ARTHUR: Whoa there!  [clop ....\n",
      "overheard.txt White guy: So, do you have any plans for this evening?\n",
      "Asian girl ....\n",
      "pirates.txt PIRATES OF THE CARRIBEAN: DEAD MAN'S CHEST, by Ted Elliott & Terr ....\n",
      "singles.txt 25 SEXY MALE, seeks attrac older single lady, for discreet encoun ....\n",
      "wine.txt Lovely delicate, fragrant Rhone wine. Polished leather and strawb ....\n"
     ]
    }
   ],
   "source": [
    "from nltk.corpus import webtext\n",
    "for fileid in webtext.fileids():\n",
    "    print(fileid, webtext.raw(fileid)[:65],'....')"
   ]
  },
  {
   "cell_type": "code",
   "execution_count": 11,
   "metadata": {},
   "outputs": [
    {
     "data": {
      "text/plain": [
       "['i',\n",
       " 'do',\n",
       " \"n't\",\n",
       " 'want',\n",
       " 'hot',\n",
       " 'pics',\n",
       " 'of',\n",
       " 'a',\n",
       " 'female',\n",
       " ',',\n",
       " 'I',\n",
       " 'can',\n",
       " 'look',\n",
       " 'in',\n",
       " 'a',\n",
       " 'mirror',\n",
       " '.']"
      ]
     },
     "execution_count": 11,
     "metadata": {},
     "output_type": "execute_result"
    }
   ],
   "source": [
    "from nltk.corpus import nps_chat # chat messages anonimized\n",
    "chatroom = nps_chat.posts('10-19-20s_706posts.xml')\n",
    "chatroom[123]"
   ]
  },
  {
   "cell_type": "code",
   "execution_count": 12,
   "metadata": {},
   "outputs": [
    {
     "data": {
      "text/plain": [
       "['adventure',\n",
       " 'belles_lettres',\n",
       " 'editorial',\n",
       " 'fiction',\n",
       " 'government',\n",
       " 'hobbies',\n",
       " 'humor',\n",
       " 'learned',\n",
       " 'lore',\n",
       " 'mystery',\n",
       " 'news',\n",
       " 'religion',\n",
       " 'reviews',\n",
       " 'romance',\n",
       " 'science_fiction']"
      ]
     },
     "execution_count": 12,
     "metadata": {},
     "output_type": "execute_result"
    }
   ],
   "source": [
    "from nltk.corpus import brown #million word corpus with various categories\n",
    "brown.categories()"
   ]
  },
  {
   "cell_type": "code",
   "execution_count": 15,
   "metadata": {},
   "outputs": [
    {
     "data": {
      "text/plain": [
       "['The', 'Fulton', 'County', 'Grand', 'Jury', 'said', ...]"
      ]
     },
     "execution_count": 15,
     "metadata": {},
     "output_type": "execute_result"
    }
   ],
   "source": [
    "brown.words(categories='news')"
   ]
  },
  {
   "cell_type": "code",
   "execution_count": 16,
   "metadata": {},
   "outputs": [
    {
     "data": {
      "text/plain": [
       "['Does', 'our', 'society', 'have', 'a', 'runaway', ',', ...]"
      ]
     },
     "execution_count": 16,
     "metadata": {},
     "output_type": "execute_result"
    }
   ],
   "source": [
    "brown.words(fileids=['cg22'])"
   ]
  },
  {
   "cell_type": "code",
   "execution_count": 22,
   "metadata": {},
   "outputs": [
    {
     "data": {
      "text/plain": [
       "[['The', 'Fulton', 'County', 'Grand', 'Jury', 'said', 'Friday', 'an', 'investigation', 'of', \"Atlanta's\", 'recent', 'primary', 'election', 'produced', '``', 'no', 'evidence', \"''\", 'that', 'any', 'irregularities', 'took', 'place', '.'], ['The', 'jury', 'further', 'said', 'in', 'term-end', 'presentments', 'that', 'the', 'City', 'Executive', 'Committee', ',', 'which', 'had', 'over-all', 'charge', 'of', 'the', 'election', ',', '``', 'deserves', 'the', 'praise', 'and', 'thanks', 'of', 'the', 'City', 'of', 'Atlanta', \"''\", 'for', 'the', 'manner', 'in', 'which', 'the', 'election', 'was', 'conducted', '.'], ...]"
      ]
     },
     "execution_count": 22,
     "metadata": {},
     "output_type": "execute_result"
    }
   ],
   "source": [
    "brown.sents(categories=['news','editorial','reviews'])"
   ]
  },
  {
   "cell_type": "code",
   "execution_count": 30,
   "metadata": {},
   "outputs": [
    {
     "name": "stdout",
     "output_type": "stream",
     "text": [
      "can: 94 could: 87 may: 93 might: 38 must: 53 will: 389 "
     ]
    }
   ],
   "source": [
    "import nltk\n",
    "news_text = brown.words(categories='news')\n",
    "fdist = nltk.FreqDist(w.lower() for w in news_text)\n",
    "modals = ['can','could','may','might','must','will']\n",
    "for m in modals:\n",
    "    print(m + ':',fdist[m],end=' ')"
   ]
  },
  {
   "cell_type": "code",
   "execution_count": 31,
   "metadata": {},
   "outputs": [
    {
     "name": "stdout",
     "output_type": "stream",
     "text": [
      "                  can could   may might  must  will \n",
      "           news    93    86    66    38    50   389 \n",
      "       religion    82    59    78    12    54    71 \n",
      "        hobbies   268    58   131    22    83   264 \n",
      "science_fiction    16    49     4    12     8    16 \n",
      "        romance    74   193    11    51    45    43 \n",
      "          humor    16    30     8     8     9    13 \n"
     ]
    }
   ],
   "source": [
    "cfg = nltk.ConditionalFreqDist((genre,word)\n",
    "                            for genre in brown.categories()\n",
    "                            for word in brown.words(categories=genre))\n",
    "genres = ['news','religion','hobbies','science_fiction','romance','humor']\n",
    "modals = ['can','could','may','might','must','will']\n",
    "cfg.tabulate(conditions=genres,samples=modals)"
   ]
  },
  {
   "cell_type": "markdown",
   "metadata": {},
   "source": [
    "### Reuter corpus news documents"
   ]
  },
  {
   "cell_type": "code",
   "execution_count": 34,
   "metadata": {},
   "outputs": [
    {
     "data": {
      "text/plain": [
       "['test/14826',\n",
       " 'test/14828',\n",
       " 'test/14829',\n",
       " 'test/14832',\n",
       " 'test/14833',\n",
       " 'test/14839',\n",
       " 'test/14840',\n",
       " 'test/14841',\n",
       " 'test/14842',\n",
       " 'test/14843']"
      ]
     },
     "execution_count": 34,
     "metadata": {},
     "output_type": "execute_result"
    }
   ],
   "source": [
    "from nltk.corpus import reuters\n",
    "reuters.fileids()[:10]"
   ]
  },
  {
   "cell_type": "code",
   "execution_count": 35,
   "metadata": {},
   "outputs": [
    {
     "data": {
      "text/plain": [
       "['acq',\n",
       " 'alum',\n",
       " 'barley',\n",
       " 'bop',\n",
       " 'carcass',\n",
       " 'castor-oil',\n",
       " 'cocoa',\n",
       " 'coconut',\n",
       " 'coconut-oil',\n",
       " 'coffee']"
      ]
     },
     "execution_count": 35,
     "metadata": {},
     "output_type": "execute_result"
    }
   ],
   "source": [
    "reuters.categories()[:10]"
   ]
  },
  {
   "cell_type": "code",
   "execution_count": 37,
   "metadata": {},
   "outputs": [
    {
     "data": {
      "text/plain": [
       "['barley', 'corn', 'grain', 'wheat']"
      ]
     },
     "execution_count": 37,
     "metadata": {},
     "output_type": "execute_result"
    }
   ],
   "source": [
    "reuters.categories('training/9865') #each document can have multiple categories"
   ]
  },
  {
   "cell_type": "code",
   "execution_count": 39,
   "metadata": {},
   "outputs": [
    {
     "data": {
      "text/plain": [
       "['test/15618', 'test/15649', 'test/15676', 'test/15728', 'test/15871']"
      ]
     },
     "execution_count": 39,
     "metadata": {},
     "output_type": "execute_result"
    }
   ],
   "source": [
    "reuters.fileids('barley')[:5]"
   ]
  },
  {
   "cell_type": "code",
   "execution_count": 40,
   "metadata": {},
   "outputs": [
    {
     "data": {
      "text/plain": [
       "['FRENCH',\n",
       " 'FREE',\n",
       " 'MARKET',\n",
       " 'CEREAL',\n",
       " 'EXPORT',\n",
       " 'BIDS',\n",
       " 'DETAILED',\n",
       " 'French',\n",
       " 'operators',\n",
       " 'have',\n",
       " 'requested',\n",
       " 'licences',\n",
       " 'to',\n",
       " 'export']"
      ]
     },
     "execution_count": 40,
     "metadata": {},
     "output_type": "execute_result"
    }
   ],
   "source": [
    "reuters.words('training/9865')[:14]"
   ]
  },
  {
   "cell_type": "code",
   "execution_count": 41,
   "metadata": {},
   "outputs": [
    {
     "data": {
      "text/plain": [
       "['THAI', 'TRADE', 'DEFICIT', 'WIDENS', 'IN', 'FIRST', ...]"
      ]
     },
     "execution_count": 41,
     "metadata": {},
     "output_type": "execute_result"
    }
   ],
   "source": [
    "reuters.words(categories=['barley','corn'])"
   ]
  },
  {
   "cell_type": "markdown",
   "metadata": {},
   "source": [
    "### Inaugural address corpus, speech text of 55 texts all in one."
   ]
  },
  {
   "cell_type": "code",
   "execution_count": 44,
   "metadata": {},
   "outputs": [
    {
     "data": {
      "text/plain": [
       "['1789-Washington.txt',\n",
       " '1793-Washington.txt',\n",
       " '1797-Adams.txt',\n",
       " '1801-Jefferson.txt',\n",
       " '1805-Jefferson.txt']"
      ]
     },
     "execution_count": 44,
     "metadata": {},
     "output_type": "execute_result"
    }
   ],
   "source": [
    "from nltk.corpus import inaugural\n",
    "inaugural.fileids()[:5]"
   ]
  },
  {
   "cell_type": "code",
   "execution_count": 45,
   "metadata": {},
   "outputs": [
    {
     "data": {
      "image/png": "[encoded data removed]",
      "text/plain": [
       "<matplotlib.figure.Figure at 0x7f828947acc0>"
      ]
     },
     "metadata": {},
     "output_type": "display_data"
    }
   ],
   "source": [
    "cfd = nltk.ConditionalFreqDist(\n",
    "(target,fileid[:4])\n",
    "for fileid in inaugural.fileids()\n",
    "for w in inaugural.words(fileid)\n",
    "for target in ['america','citizen']\n",
    "if w.lower().startswith(target))\n",
    "cfd.plot()"
   ]
  },
  {
   "cell_type": "markdown",
   "metadata": {},
   "source": [
    "### Annotated Text Corpora\n",
    "Many text corpora contain linguistic annotations, representing POS tags, named entities, syntactic structures, semantic roles, and so forth"
   ]
  },
  {
   "cell_type": "markdown",
   "metadata": {},
   "source": [
    "### Using your own Corpus"
   ]
  },
  {
   "cell_type": "code",
   "execution_count": 47,
   "metadata": {},
   "outputs": [
    {
     "data": {
      "text/plain": [
       "['README.select-wordlist',\n",
       " 'american-english',\n",
       " 'cracklib-small',\n",
       " 'words',\n",
       " 'words.pre-dictionaries-common']"
      ]
     },
     "execution_count": 47,
     "metadata": {},
     "output_type": "execute_result"
    }
   ],
   "source": [
    "from nltk.corpus import PlaintextCorpusReader\n",
    "corpus_root = '/usr/share/dict'\n",
    "wordlists = PlaintextCorpusReader(corpus_root, '.*')\n",
    "wordlists.fileids()"
   ]
  },
  {
   "cell_type": "code",
   "execution_count": 52,
   "metadata": {},
   "outputs": [
    {
     "data": {
      "text/plain": [
       "['Please', 'use', \"'\", 'select', '-', 'default', '-', ...]"
      ]
     },
     "execution_count": 52,
     "metadata": {},
     "output_type": "execute_result"
    }
   ],
   "source": [
    "wordlists.words()"
   ]
  },
  {
   "cell_type": "code",
   "execution_count": 54,
   "metadata": {},
   "outputs": [
    {
     "data": {
      "text/plain": [
       "['script',\n",
       " 'to',\n",
       " 'change',\n",
       " 'your',\n",
       " 'selection',\n",
       " '.',\n",
       " 'Note',\n",
       " 'that',\n",
       " 'you',\n",
       " 'will',\n",
       " 'need',\n",
       " 'to',\n",
       " 'run',\n",
       " 'that',\n",
       " 'script',\n",
       " 'and',\n",
       " 'select',\n",
       " 'the',\n",
       " \"'\",\n",
       " 'manual',\n",
       " \"'\",\n",
       " 'option',\n",
       " 'if',\n",
       " 'you',\n",
       " 'want',\n",
       " 'to',\n",
       " 'play',\n",
       " 'with',\n",
       " 'symlinks',\n",
       " 'yourself',\n",
       " '.']"
      ]
     },
     "execution_count": 54,
     "metadata": {},
     "output_type": "execute_result"
    }
   ],
   "source": [
    "wordlists.words('README.select-wordlist')[10:]"
   ]
  },
  {
   "cell_type": "markdown",
   "metadata": {},
   "source": [
    "## Conditional Frequency Distributions"
   ]
  },
  {
   "cell_type": "code",
   "execution_count": 57,
   "metadata": {},
   "outputs": [
    {
     "data": {
      "text/plain": [
       "170576"
      ]
     },
     "execution_count": 57,
     "metadata": {},
     "output_type": "execute_result"
    }
   ],
   "source": [
    "genre_word = [(genre,word)\n",
    "                for genre in ['news','romance']\n",
    "                 for word in brown.words(categories=genre)]\n",
    "len(genre_word)"
   ]
  },
  {
   "cell_type": "code",
   "execution_count": 58,
   "metadata": {},
   "outputs": [
    {
     "data": {
      "text/plain": [
       "[('news', 'The'), ('news', 'Fulton'), ('news', 'County'), ('news', 'Grand')]"
      ]
     },
     "execution_count": 58,
     "metadata": {},
     "output_type": "execute_result"
    }
   ],
   "source": [
    "genre_word[:4]"
   ]
  },
  {
   "cell_type": "code",
   "execution_count": 60,
   "metadata": {},
   "outputs": [
    {
     "name": "stdout",
     "output_type": "stream",
     "text": [
      "<ConditionalFreqDist with 2 conditions>\n"
     ]
    }
   ],
   "source": [
    "cfd = nltk.ConditionalFreqDist(genre_word)\n",
    "print(cfd)"
   ]
  },
  {
   "cell_type": "code",
   "execution_count": 62,
   "metadata": {},
   "outputs": [
    {
     "data": {
      "text/plain": [
       "['news', 'romance']"
      ]
     },
     "execution_count": 62,
     "metadata": {},
     "output_type": "execute_result"
    }
   ],
   "source": [
    "cfd.conditions()"
   ]
  },
  {
   "cell_type": "code",
   "execution_count": 63,
   "metadata": {},
   "outputs": [
    {
     "data": {
      "text/plain": [
       "[('the', 5580),\n",
       " (',', 5188),\n",
       " ('.', 4030),\n",
       " ('of', 2849),\n",
       " ('and', 2146),\n",
       " ('to', 2116),\n",
       " ('a', 1993),\n",
       " ('in', 1893),\n",
       " ('for', 943),\n",
       " ('The', 806),\n",
       " ('that', 802),\n",
       " ('``', 732),\n",
       " ('is', 732),\n",
       " ('was', 717),\n",
       " (\"''\", 702),\n",
       " ('on', 657),\n",
       " ('at', 598),\n",
       " ('with', 545),\n",
       " ('be', 526),\n",
       " ('by', 497)]"
      ]
     },
     "execution_count": 63,
     "metadata": {},
     "output_type": "execute_result"
    }
   ],
   "source": [
    "cfd['news'].most_common(20)"
   ]
  },
  {
   "cell_type": "code",
   "execution_count": 64,
   "metadata": {},
   "outputs": [
    {
     "data": {
      "text/plain": [
       "193"
      ]
     },
     "execution_count": 64,
     "metadata": {},
     "output_type": "execute_result"
    }
   ],
   "source": [
    "cfd['romance']['could']"
   ]
  },
  {
   "cell_type": "code",
   "execution_count": 65,
   "metadata": {},
   "outputs": [
    {
     "data": {
      "text/plain": [
       "['English',\n",
       " 'Greenlandic_Inuktikut',\n",
       " 'German_Deutsch',\n",
       " 'Ibibio_Efik',\n",
       " 'Hungarian_Magyar',\n",
       " 'Chickasaw']"
      ]
     },
     "execution_count": 65,
     "metadata": {},
     "output_type": "execute_result"
    }
   ],
   "source": [
    "from nltk.corpus import udhr\n",
    "languages = ['Chickasaw', 'English', 'German_Deutsch','Greenlandic_Inuktikut', 'Hungarian_Magyar', 'Ibibio_Efik']\n",
    "cfd = nltk.ConditionalFreqDist(\n",
    "(lang,len(word))\n",
    "for lang in languages\n",
    "for word in udhr.words(lang+'-Latin1'))\n",
    "cfd.conditions()"
   ]
  },
  {
   "cell_type": "code",
   "execution_count": 71,
   "metadata": {},
   "outputs": [
    {
     "name": "stdout",
     "output_type": "stream",
     "text": [
      "                  0    1    2    3    4    5    6    7    8    9 \n",
      "       English    0  185  525  883  997 1166 1283 1440 1558 1638 \n",
      "German_Deutsch    0  171  263  614  717  894 1013 1110 1213 1275 \n"
     ]
    }
   ],
   "source": [
    "cfd.tabulate(conditions=['English','German_Deutsch'],samples=range(10),cumulative=True)"
   ]
  },
  {
   "cell_type": "code",
   "execution_count": 72,
   "metadata": {},
   "outputs": [
    {
     "data": {
      "text/plain": [
       "FreqDist({',': 1,\n",
       "          '.': 1,\n",
       "          'creature': 7,\n",
       "          'soul': 1,\n",
       "          'substance': 2,\n",
       "          'thing': 4})"
      ]
     },
     "execution_count": 72,
     "metadata": {},
     "output_type": "execute_result"
    }
   ],
   "source": [
    "def generate_model(cfdist, word, num=15):\n",
    "    for i in range(num):\n",
    "        print(word, end=' ')\n",
    "        word = cfdist[word].max()\n",
    "\n",
    "text = nltk.corpus.genesis.words('english-kjv.txt')\n",
    "bigrams = nltk.bigrams(text)\n",
    "cfd = nltk.ConditionalFreqDist(bigrams)\n",
    "cfd['living']"
   ]
  },
  {
   "cell_type": "code",
   "execution_count": 73,
   "metadata": {},
   "outputs": [
    {
     "name": "stdout",
     "output_type": "stream",
     "text": [
      "living creature that he said , and the land of the land of the land "
     ]
    }
   ],
   "source": [
    "generate_model(cfd,'living')"
   ]
  },
  {
   "cell_type": "code",
   "execution_count": 75,
   "metadata": {},
   "outputs": [
    {
     "data": {
      "text/plain": [
       "['aaaaaaaaaaaaaaaaa',\n",
       " 'aaahhhh',\n",
       " 'abortions',\n",
       " 'abou',\n",
       " 'abourted',\n",
       " 'abs',\n",
       " 'ack',\n",
       " 'acros',\n",
       " 'actualy',\n",
       " 'adams',\n",
       " 'adds',\n",
       " 'adduser',\n",
       " 'adjusts',\n",
       " 'adoted',\n",
       " 'adreniline',\n",
       " 'ads',\n",
       " 'adults',\n",
       " 'afe',\n",
       " 'affairs',\n",
       " 'affari',\n",
       " 'affects',\n",
       " 'afk',\n",
       " 'agaibn',\n",
       " 'ages',\n",
       " 'aggravated',\n",
       " 'agurlwithbigguns',\n",
       " 'ahah',\n",
       " 'ahahah',\n",
       " 'ahahh',\n",
       " 'ahahha',\n",
       " 'ahh',\n",
       " 'ahhah',\n",
       " 'ahhahahaha',\n",
       " 'ahhh',\n",
       " 'ahhhh',\n",
       " 'ahhhhhh',\n",
       " 'ahhhhhhhhhhhhhh',\n",
       " 'aiiiiiiiiiiiiiiiiiiiiiiii',\n",
       " 'aiken',\n",
       " 'aime',\n",
       " 'akdt',\n",
       " 'akon',\n",
       " 'akron',\n",
       " 'akst',\n",
       " 'aligator',\n",
       " 'allergies',\n",
       " 'allo',\n",
       " 'allowed',\n",
       " 'aloha',\n",
       " 'alohaaa',\n",
       " 'alohas',\n",
       " 'alot',\n",
       " 'alotta',\n",
       " 'alternatives',\n",
       " 'alterz',\n",
       " 'alwys',\n",
       " 'alzheimers',\n",
       " 'amazingness',\n",
       " 'americans',\n",
       " 'anithing',\n",
       " 'ans',\n",
       " 'answering',\n",
       " 'answers',\n",
       " 'antidepressants',\n",
       " 'anygirl',\n",
       " 'anymore',\n",
       " 'anythin',\n",
       " 'anytime',\n",
       " 'anyyyyyyyyyyyyyyyyy',\n",
       " 'aok',\n",
       " 'apoligize',\n",
       " 'appearently',\n",
       " 'appears',\n",
       " 'applaudes',\n",
       " 'appleton',\n",
       " 'appologise',\n",
       " 'appologize',\n",
       " 'aqwesome',\n",
       " 'arggghhh',\n",
       " 'argh',\n",
       " 'armtnpeat',\n",
       " 'arrested',\n",
       " 'arrived',\n",
       " 'arround',\n",
       " 'asked',\n",
       " 'askin',\n",
       " 'asking',\n",
       " 'asks',\n",
       " 'asl',\n",
       " 'asnwer',\n",
       " 'asses',\n",
       " 'asshole',\n",
       " 'assholes',\n",
       " 'asss',\n",
       " 'assumes',\n",
       " 'aterry',\n",
       " 'atl',\n",
       " 'attempted',\n",
       " 'attracted',\n",
       " 'aussies',\n",
       " 'awesomee',\n",
       " 'awesomes',\n",
       " 'awrighty',\n",
       " 'awsome',\n",
       " 'aww',\n",
       " 'awww',\n",
       " 'awwww',\n",
       " 'awwwwww',\n",
       " 'awwwwwww',\n",
       " 'awwwwwwwwww',\n",
       " 'aynawy',\n",
       " 'az',\n",
       " 'azerbaijan',\n",
       " 'baaaaalllllllliiiiiiinnnnnnnnnnn',\n",
       " 'babay',\n",
       " 'babblein',\n",
       " 'babes',\n",
       " 'babies',\n",
       " 'babiess',\n",
       " 'babycakeses',\n",
       " 'bachelorette',\n",
       " 'backatchya',\n",
       " 'backfrontsidewaysandallaroundtheworld',\n",
       " 'backroom',\n",
       " 'bacl',\n",
       " 'bagels',\n",
       " 'bahahahaa',\n",
       " 'bak',\n",
       " 'balad',\n",
       " 'balck',\n",
       " 'ballin',\n",
       " 'balls',\n",
       " 'bandito',\n",
       " 'bandsaw',\n",
       " 'banjoes',\n",
       " 'banned',\n",
       " 'baord',\n",
       " 'barbie',\n",
       " 'barbieee',\n",
       " 'bares',\n",
       " 'barfights',\n",
       " 'barks',\n",
       " 'bbbbbyyyyyyyeeeeeeeee',\n",
       " 'bbiam',\n",
       " 'bbl',\n",
       " 'bbs',\n",
       " 'bc',\n",
       " 'beachhhh',\n",
       " 'beams',\n",
       " 'beans',\n",
       " 'bears',\n",
       " 'beatles',\n",
       " 'beats',\n",
       " 'beattles',\n",
       " 'beckley',\n",
       " 'beeeeehave',\n",
       " 'beeehave',\n",
       " 'bein',\n",
       " 'beleive',\n",
       " 'belongings',\n",
       " 'benz',\n",
       " 'beuty',\n",
       " 'bf',\n",
       " 'bi',\n",
       " 'biatch',\n",
       " 'biebsa',\n",
       " 'bied',\n",
       " 'bigest',\n",
       " 'biiiatch',\n",
       " 'biiiiiitch',\n",
       " 'bikes',\n",
       " 'bio',\n",
       " 'biographys',\n",
       " 'birdgang',\n",
       " 'birfday',\n",
       " 'bishes',\n",
       " 'bitches',\n",
       " 'bitdh',\n",
       " 'bites',\n",
       " 'biyatch',\n",
       " 'bj',\n",
       " 'blankie',\n",
       " 'blazed',\n",
       " 'blech',\n",
       " 'blessings',\n",
       " 'blew',\n",
       " 'bloe',\n",
       " 'blondes',\n",
       " 'bloooooooood',\n",
       " 'bloooooooooood',\n",
       " 'bloooooooooooood',\n",
       " 'blowjob',\n",
       " 'bodies',\n",
       " 'boed',\n",
       " 'boght',\n",
       " 'boi',\n",
       " 'boing',\n",
       " 'boinked',\n",
       " 'bones',\n",
       " 'boning',\n",
       " 'booboo',\n",
       " 'boobs',\n",
       " 'books',\n",
       " 'boooooooooooglyyyyyy',\n",
       " 'bootay',\n",
       " 'booyah',\n",
       " 'borat',\n",
       " 'bored',\n",
       " 'bothering',\n",
       " 'bounced',\n",
       " 'bouncers',\n",
       " 'bouts',\n",
       " 'boyfriend',\n",
       " 'boys',\n",
       " 'boyz',\n",
       " 'brady',\n",
       " 'brakes',\n",
       " 'brb',\n",
       " 'brbbb',\n",
       " 'breaks',\n",
       " 'brightened',\n",
       " 'brings',\n",
       " 'bro',\n",
       " 'brooklyn',\n",
       " 'brothers',\n",
       " 'brrrrrrr',\n",
       " 'bruises',\n",
       " 'brwn',\n",
       " 'btw',\n",
       " 'bucks',\n",
       " 'buddyyyyyy',\n",
       " 'bugs',\n",
       " 'buh',\n",
       " 'builds',\n",
       " 'bulls',\n",
       " 'bumber',\n",
       " 'bumped',\n",
       " 'burger',\n",
       " 'burito',\n",
       " 'burns',\n",
       " 'burpin',\n",
       " 'burps',\n",
       " 'burried',\n",
       " 'burryed',\n",
       " 'buses',\n",
       " 'buying',\n",
       " 'bwahahahahahahahahahaha',\n",
       " 'bwhaha',\n",
       " 'byb',\n",
       " 'byeee',\n",
       " 'byeeee',\n",
       " 'byeeeeeeee',\n",
       " 'byeeeeeeeeeeeee',\n",
       " 'byes',\n",
       " 'caan',\n",
       " 'caint',\n",
       " 'caiuse',\n",
       " 'cakes',\n",
       " 'cali',\n",
       " 'called',\n",
       " 'callifornia',\n",
       " 'calls',\n",
       " 'cams',\n",
       " 'canadaian',\n",
       " 'canadain',\n",
       " 'canehda',\n",
       " 'caps',\n",
       " 'cardinals',\n",
       " 'cardnials',\n",
       " 'cards',\n",
       " 'cares',\n",
       " 'cars',\n",
       " 'casts',\n",
       " 'catches',\n",
       " 'categories',\n",
       " 'catterick',\n",
       " 'caused',\n",
       " 'cdt',\n",
       " 'cepn',\n",
       " 'cereals',\n",
       " 'chamillionaire',\n",
       " 'changed',\n",
       " 'changing',\n",
       " 'chanop',\n",
       " 'chanowner',\n",
       " 'chathide',\n",
       " 'chatland',\n",
       " 'chatr',\n",
       " 'chatroom',\n",
       " 'chats',\n",
       " 'chatt',\n",
       " 'chatted',\n",
       " 'chattin',\n",
       " 'chcken',\n",
       " 'cheaking',\n",
       " 'checkin',\n",
       " 'checking',\n",
       " 'checks',\n",
       " 'cheeeez',\n",
       " 'cheers',\n",
       " 'cheking',\n",
       " 'chews',\n",
       " 'chica',\n",
       " 'chickens',\n",
       " 'chics',\n",
       " 'chik',\n",
       " 'children',\n",
       " 'chineese',\n",
       " 'chingy',\n",
       " 'choc',\n",
       " 'chocha',\n",
       " 'chococake',\n",
       " 'choices',\n",
       " 'chokes',\n",
       " 'chops',\n",
       " 'chp',\n",
       " 'chuckles',\n",
       " 'chunks',\n",
       " 'churches',\n",
       " 'ciao',\n",
       " 'ciara',\n",
       " 'cigars',\n",
       " 'ciggareets',\n",
       " 'ck',\n",
       " 'claws',\n",
       " 'cleared',\n",
       " 'cleveland',\n",
       " 'clicked',\n",
       " 'clients',\n",
       " 'clinicals',\n",
       " 'clooney',\n",
       " 'closes',\n",
       " 'clubs',\n",
       " 'cmon',\n",
       " 'cnnecticut',\n",
       " 'co',\n",
       " 'coconuts',\n",
       " 'coem',\n",
       " 'coffe',\n",
       " 'coggieeee',\n",
       " 'com',\n",
       " 'combo',\n",
       " 'comenting',\n",
       " 'comin',\n",
       " 'commanded',\n",
       " 'comments',\n",
       " 'comon',\n",
       " 'comp',\n",
       " 'complains',\n",
       " 'completly',\n",
       " 'compliments',\n",
       " 'compoud',\n",
       " 'comprende',\n",
       " 'comps',\n",
       " 'computers',\n",
       " 'computor',\n",
       " 'concernin',\n",
       " 'confessed',\n",
       " 'confusing',\n",
       " 'confusting',\n",
       " 'congrat',\n",
       " 'congrats',\n",
       " 'connecticutt',\n",
       " 'constituents',\n",
       " 'contast',\n",
       " 'contemplating',\n",
       " 'controll',\n",
       " 'controllers',\n",
       " 'controllin',\n",
       " 'controlling',\n",
       " 'convo',\n",
       " 'conway',\n",
       " 'cookie',\n",
       " 'cookies',\n",
       " 'coolcat',\n",
       " 'coonarsee',\n",
       " 'cooooooooookiiiiiiiiiiiieeeeeeeeeeee',\n",
       " 'copone',\n",
       " 'cops',\n",
       " 'costumes',\n",
       " 'cottons',\n",
       " 'coudl',\n",
       " 'coughed',\n",
       " 'coughs',\n",
       " 'cougs',\n",
       " 'couldnt',\n",
       " 'counts',\n",
       " 'coupons',\n",
       " 'courst',\n",
       " 'covers',\n",
       " 'coworkers',\n",
       " 'cpr',\n",
       " 'cramps',\n",
       " 'crashed',\n",
       " 'creme',\n",
       " 'cries',\n",
       " 'cripos',\n",
       " 'crosses',\n",
       " 'csi',\n",
       " 'cst',\n",
       " 'ct',\n",
       " 'ctrl',\n",
       " 'cuddlicious',\n",
       " 'cuffed',\n",
       " 'cums',\n",
       " 'cuppers',\n",
       " 'curls',\n",
       " 'currious',\n",
       " 'cus',\n",
       " 'cusion',\n",
       " 'cutes',\n",
       " 'cuz',\n",
       " 'cya',\n",
       " 'cyas',\n",
       " 'cyber',\n",
       " 'czeching',\n",
       " 'daamn',\n",
       " 'dahlin',\n",
       " 'damnit',\n",
       " 'dances',\n",
       " 'danes',\n",
       " 'dangit',\n",
       " 'darlin',\n",
       " 'darlings',\n",
       " 'darwin',\n",
       " 'dat',\n",
       " 'dated',\n",
       " 'daughters',\n",
       " 'daveeee',\n",
       " 'davis',\n",
       " 'dawg',\n",
       " 'dawnstar',\n",
       " 'dayum',\n",
       " 'dd',\n",
       " 'deals',\n",
       " 'deaths',\n",
       " 'decades',\n",
       " 'deceived',\n",
       " 'deciding',\n",
       " 'declaw',\n",
       " 'declawed',\n",
       " 'deeper',\n",
       " 'definately',\n",
       " 'definitley',\n",
       " 'defragging',\n",
       " 'defrags',\n",
       " 'degrees',\n",
       " 'deleware',\n",
       " 'delivers',\n",
       " 'dem',\n",
       " 'democrats',\n",
       " 'denver',\n",
       " 'denzel',\n",
       " 'deop',\n",
       " 'depeche',\n",
       " 'depends',\n",
       " 'descriminate',\n",
       " 'despie',\n",
       " 'despises',\n",
       " 'detroit',\n",
       " 'didnts',\n",
       " 'died',\n",
       " 'dies',\n",
       " 'diggin',\n",
       " 'dik',\n",
       " 'dipset',\n",
       " 'dirrrrty',\n",
       " 'diseast',\n",
       " 'disocvered',\n",
       " 'dissing',\n",
       " 'divorced',\n",
       " 'dj',\n",
       " 'dl',\n",
       " 'dman',\n",
       " 'docs',\n",
       " 'doggies',\n",
       " 'doin',\n",
       " 'dojn',\n",
       " 'dokey',\n",
       " 'dokken',\n",
       " 'dollars',\n",
       " 'dolls',\n",
       " 'donno',\n",
       " 'dontcha',\n",
       " 'donuts',\n",
       " 'dood',\n",
       " 'doody',\n",
       " 'doors',\n",
       " 'dork',\n",
       " 'dotn',\n",
       " 'doublewide',\n",
       " 'douchebag',\n",
       " 'doupt',\n",
       " 'downloaded',\n",
       " 'downloading',\n",
       " 'downnnnnn',\n",
       " 'downs',\n",
       " 'dr',\n",
       " 'drags',\n",
       " 'dratts',\n",
       " 'dreaded',\n",
       " 'dreammm',\n",
       " 'dreams',\n",
       " 'drinks',\n",
       " 'driveby',\n",
       " 'drivers',\n",
       " 'drivin',\n",
       " 'drools',\n",
       " 'dropped',\n",
       " 'drops',\n",
       " 'drugs',\n",
       " 'dryer',\n",
       " 'dsklgjsdk',\n",
       " 'du',\n",
       " 'duh',\n",
       " 'dumbass',\n",
       " 'dummmm',\n",
       " 'dunkin',\n",
       " 'dunno',\n",
       " 'dvd',\n",
       " 'dya',\n",
       " 'dyed',\n",
       " 'dyslexic',\n",
       " 'earplugs',\n",
       " 'earrings',\n",
       " 'ears',\n",
       " 'eay',\n",
       " 'ebay',\n",
       " 'edgewood',\n",
       " 'edmonton',\n",
       " 'eeeeeeeeewwwwwwww',\n",
       " 'eeeek',\n",
       " 'eeek',\n",
       " 'eeekk',\n",
       " 'eeewww',\n",
       " 'eeewwwwww',\n",
       " 'eeww',\n",
       " 'eggs',\n",
       " 'ehh',\n",
       " 'eitther',\n",
       " 'elbows',\n",
       " 'elected',\n",
       " 'elections',\n",
       " 'elev',\n",
       " 'ello',\n",
       " 'elo',\n",
       " 'email',\n",
       " 'eng',\n",
       " 'england',\n",
       " 'enjoys',\n",
       " 'enters',\n",
       " 'entitled',\n",
       " 'enuf',\n",
       " 'enuff',\n",
       " 'ep',\n",
       " 'erics',\n",
       " 'erm',\n",
       " 'eroticaust',\n",
       " 'errrrr',\n",
       " 'escaped',\n",
       " 'est',\n",
       " 'este',\n",
       " 'estefan',\n",
       " 'estra',\n",
       " 'eticket',\n",
       " 'euphamisms',\n",
       " 'evah',\n",
       " 'everbody',\n",
       " 'everone',\n",
       " 'evertonr',\n",
       " 'everytime',\n",
       " 'ewedding',\n",
       " 'eww',\n",
       " 'ewww',\n",
       " 'ewwww',\n",
       " 'ewwwww',\n",
       " 'ewwwwww',\n",
       " 'ewwwwwww',\n",
       " 'exchanged',\n",
       " 'exchanging',\n",
       " 'excitin',\n",
       " 'excuuuuuuse',\n",
       " 'experimenting',\n",
       " 'extensions',\n",
       " 'extras',\n",
       " 'exwife',\n",
       " 'eyes',\n",
       " 'facilitated',\n",
       " 'fails',\n",
       " 'fairbanks',\n",
       " 'fallout',\n",
       " 'falls',\n",
       " 'fallz',\n",
       " 'farms',\n",
       " 'fart',\n",
       " 'farting',\n",
       " 'farts',\n",
       " 'fav',\n",
       " 'fawk',\n",
       " 'fawked',\n",
       " 'fawker',\n",
       " 'fck',\n",
       " 'febe',\n",
       " 'feeds',\n",
       " 'feelings',\n",
       " 'feels',\n",
       " 'feet',\n",
       " 'fella',\n",
       " 'fellows',\n",
       " 'females',\n",
       " 'femine',\n",
       " 'fer',\n",
       " 'fergalicious',\n",
       " 'fergie',\n",
       " 'fetterline',\n",
       " 'fettish',\n",
       " 'ff',\n",
       " 'fiddles',\n",
       " 'files',\n",
       " 'fillin',\n",
       " 'finds',\n",
       " 'finers',\n",
       " 'fingers',\n",
       " 'firs',\n",
       " 'fishercat',\n",
       " 'fishercats',\n",
       " 'fishers',\n",
       " 'fishin',\n",
       " 'fits',\n",
       " 'fkajslf',\n",
       " 'fl',\n",
       " 'flames',\n",
       " 'flashed',\n",
       " 'flattered',\n",
       " 'flatts',\n",
       " 'flavors',\n",
       " 'flippin',\n",
       " 'flirts',\n",
       " 'fliuds',\n",
       " 'flops',\n",
       " 'fluids',\n",
       " 'fock',\n",
       " 'foley',\n",
       " 'folks',\n",
       " 'fongul',\n",
       " 'foothills',\n",
       " 'footprints',\n",
       " 'foreplay',\n",
       " 'forgets',\n",
       " 'forwads',\n",
       " 'foxes',\n",
       " 'foxwoods',\n",
       " 'fractured',\n",
       " 'fragged',\n",
       " 'fraggle',\n",
       " 'frags',\n",
       " 'freaing',\n",
       " 'freaked',\n",
       " 'freakin',\n",
       " 'freaking',\n",
       " 'freaks',\n",
       " 'freeeezinggg',\n",
       " 'freeezinggggg',\n",
       " 'freesbee',\n",
       " 'freind',\n",
       " 'frenchkiss',\n",
       " 'friends',\n",
       " 'fries',\n",
       " 'frm',\n",
       " 'froogle',\n",
       " 'frst',\n",
       " 'frustrating',\n",
       " 'ft',\n",
       " 'fuck',\n",
       " 'fucker',\n",
       " 'fuckin',\n",
       " 'fucking',\n",
       " 'fucks',\n",
       " 'fuddahnut',\n",
       " 'fuked',\n",
       " 'fulfilling',\n",
       " 'futurama',\n",
       " 'fwd',\n",
       " 'gaaaaaaay',\n",
       " 'gagas',\n",
       " 'gags',\n",
       " 'gained',\n",
       " 'gals',\n",
       " 'gamefly',\n",
       " 'games',\n",
       " 'garciae',\n",
       " 'gaspppp',\n",
       " 'gawd',\n",
       " 'gayoholic',\n",
       " 'gays',\n",
       " 'geeks',\n",
       " 'gees',\n",
       " 'geesh',\n",
       " 'geeshh',\n",
       " 'geeshhh',\n",
       " 'geessh',\n",
       " 'geeze',\n",
       " 'gente',\n",
       " 'gentlemen',\n",
       " 'gets',\n",
       " 'gettign',\n",
       " 'gettin',\n",
       " 'gettysburg',\n",
       " 'gezzz',\n",
       " 'gf',\n",
       " 'gguyyyzzzz',\n",
       " 'ghet',\n",
       " 'giggles',\n",
       " 'girlfriend',\n",
       " 'girls',\n",
       " 'giva',\n",
       " 'gives',\n",
       " 'givs',\n",
       " 'glitches',\n",
       " 'gm',\n",
       " 'gn',\n",
       " 'gng',\n",
       " 'goddamn',\n",
       " 'goin',\n",
       " 'goneee',\n",
       " 'gonna',\n",
       " 'goodbye',\n",
       " 'goodie',\n",
       " 'goodnight',\n",
       " 'goodnite',\n",
       " 'google',\n",
       " 'gooo',\n",
       " 'goooooo',\n",
       " 'gorda',\n",
       " 'gotaa',\n",
       " 'goths',\n",
       " 'gotta',\n",
       " 'gottsa',\n",
       " 'grabs',\n",
       " 'gracemont',\n",
       " 'grea',\n",
       " 'greetings',\n",
       " 'gret',\n",
       " 'grettings',\n",
       " 'grilfriend',\n",
       " 'grins',\n",
       " 'gritt',\n",
       " 'grlz',\n",
       " 'groups',\n",
       " 'grrl',\n",
       " 'grrr',\n",
       " 'grrrrrring',\n",
       " 'grrrrrrrr',\n",
       " 'grrrrrrrrr',\n",
       " 'grrrrrrrrrrrrrrrrr',\n",
       " 'gs',\n",
       " 'gtg',\n",
       " 'guns',\n",
       " 'gurlie',\n",
       " 'gurls',\n",
       " 'gurrrrl',\n",
       " 'guts',\n",
       " 'guys',\n",
       " 'guyz',\n",
       " 'guyzz',\n",
       " 'haaa',\n",
       " 'hafta',\n",
       " 'haha',\n",
       " 'hahaaa',\n",
       " 'hahaaaa',\n",
       " 'hahah',\n",
       " 'hahaha',\n",
       " 'hahahaa',\n",
       " 'hahahah',\n",
       " 'hahahaha',\n",
       " 'hahahahaaa',\n",
       " 'hahahahahaha',\n",
       " 'hahahahahahaha',\n",
       " 'hahahahahahahahahahahahahahahaha',\n",
       " 'hahahhahah',\n",
       " 'hahhaa',\n",
       " 'hahhahahaha',\n",
       " 'hairs',\n",
       " 'halfa',\n",
       " 'hallo',\n",
       " 'handheld',\n",
       " 'handing',\n",
       " 'hands',\n",
       " 'handyman',\n",
       " 'hang',\n",
       " 'hangin',\n",
       " 'hangs',\n",
       " 'happend',\n",
       " 'happened',\n",
       " 'happens',\n",
       " 'happpy',\n",
       " 'harley',\n",
       " 'hartford',\n",
       " 'has',\n",
       " 'haters',\n",
       " 'hates',\n",
       " 'hav',\n",
       " 'havin',\n",
       " 'having',\n",
       " 'hawaii',\n",
       " 'hawt',\n",
       " 'hb',\n",
       " 'headach',\n",
       " 'headlights',\n",
       " 'heads',\n",
       " 'heard',\n",
       " 'hearin',\n",
       " 'hearthechatters',\n",
       " 'heee',\n",
       " 'heeee',\n",
       " 'heeeey',\n",
       " 'heeheeheeheeheehee',\n",
       " 'heh',\n",
       " 'heheh',\n",
       " 'hehehe',\n",
       " 'hehehee',\n",
       " 'hehehehe',\n",
       " 'hel',\n",
       " 'helloooo',\n",
       " 'hellos',\n",
       " 'helped',\n",
       " 'hendrix',\n",
       " 'heroes',\n",
       " 'hertory',\n",
       " 'hes',\n",
       " 'heya',\n",
       " 'heyheyhey',\n",
       " 'heys',\n",
       " 'heyy',\n",
       " 'heyyy',\n",
       " 'heyyyy',\n",
       " 'heyyyyy',\n",
       " 'heyyyyyy',\n",
       " 'heyyyyyyy',\n",
       " 'heyyyyyyyy',\n",
       " 'heyyyyyyyyy',\n",
       " 'heyyyyyyyyyy',\n",
       " 'heyyyyyyyyyyyyyy',\n",
       " 'hfglhs',\n",
       " 'hgey',\n",
       " 'hgfhgfjgf',\n",
       " 'hhaaaaatttee',\n",
       " 'hheeyy',\n",
       " 'hheeyyy',\n",
       " 'hheeyyyyyyyyyyyyyyyyyyyyyyyyyyyyyyyyyyyyyyyyyyyyyyy',\n",
       " 'hhehe',\n",
       " 'hiding',\n",
       " 'hih',\n",
       " 'hii',\n",
       " 'hiii',\n",
       " 'hiiii',\n",
       " 'hio',\n",
       " 'hiom',\n",
       " 'hissy',\n",
       " 'hits',\n",
       " 'hitting',\n",
       " 'hix',\n",
       " 'hiy',\n",
       " 'hiya',\n",
       " 'hiyas',\n",
       " 'hm',\n",
       " 'hmm',\n",
       " 'hmmm',\n",
       " 'hmmmm',\n",
       " 'hmmmmm',\n",
       " 'hmmmmmmm',\n",
       " 'hmmmmmmmm',\n",
       " 'hmmmmmmmmmm',\n",
       " 'hmph',\n",
       " 'hogs',\n",
       " 'hohohohhohhoo',\n",
       " 'hola',\n",
       " 'holdin',\n",
       " 'holds',\n",
       " 'holocaustyourmom',\n",
       " 'hom',\n",
       " 'homeade',\n",
       " 'homeboys',\n",
       " 'homes',\n",
       " 'homies',\n",
       " 'homophobic',\n",
       " 'hoo',\n",
       " 'hooo',\n",
       " 'hooooo',\n",
       " 'hopin',\n",
       " 'hoping',\n",
       " 'horace',\n",
       " 'horriable',\n",
       " 'horrified',\n",
       " 'hots',\n",
       " 'hott',\n",
       " 'hottie',\n",
       " 'hotties',\n",
       " 'hours',\n",
       " 'houses',\n",
       " 'hows',\n",
       " 'howz',\n",
       " 'hpa',\n",
       " 'hr',\n",
       " 'hrs',\n",
       " 'http',\n",
       " 'hubbys',\n",
       " 'hugggs',\n",
       " 'huggs',\n",
       " 'huggss',\n",
       " 'hugs',\n",
       " 'hugss',\n",
       " 'hugsss',\n",
       " 'hugsssss',\n",
       " 'hugsssssssss',\n",
       " 'hugzzzzzzz',\n",
       " 'humm',\n",
       " 'hummmm',\n",
       " 'humple',\n",
       " 'hunters',\n",
       " 'huskers',\n",
       " 'husteling',\n",
       " 'huuuuuuuuuuuuuuuuuuuuuuuuuuuuuuuuuuugz',\n",
       " 'hx',\n",
       " 'hyy',\n",
       " 'iamahotnip',\n",
       " 'iamahotniplickme',\n",
       " 'iamahotnipwithhotnippics',\n",
       " 'iamahotnipwithpics',\n",
       " 'icky',\n",
       " 'ico',\n",
       " 'idiots',\n",
       " 'idnt',\n",
       " 'ifr',\n",
       " 'ignored',\n",
       " 'ignoring',\n",
       " 'ihavehotnips',\n",
       " 'ii',\n",
       " 'il',\n",
       " 'illin',\n",
       " 'im',\n",
       " 'images',\n",
       " 'imhave',\n",
       " 'imma',\n",
       " 'immersed',\n",
       " 'impaired',\n",
       " 'impared',\n",
       " 'impressed',\n",
       " 'indiantown',\n",
       " 'infor',\n",
       " 'inhales',\n",
       " 'injureis',\n",
       " 'innit',\n",
       " 'innocense',\n",
       " 'insuklting',\n",
       " 'internet',\n",
       " 'intersting',\n",
       " 'invisiable',\n",
       " 'involves',\n",
       " 'irc',\n",
       " 'irl',\n",
       " 'isnt',\n",
       " 'issues',\n",
       " 'italians',\n",
       " 'italy',\n",
       " 'itches',\n",
       " 'items',\n",
       " 'itz',\n",
       " 'ive',\n",
       " 'iz',\n",
       " 'ja',\n",
       " 'jackie',\n",
       " 'jacking',\n",
       " 'jajajaaa',\n",
       " 'jammed',\n",
       " 'jammers',\n",
       " 'jammies',\n",
       " 'jayse',\n",
       " 'jerimiah',\n",
       " 'jerkettes',\n",
       " 'jerketts',\n",
       " 'jerks',\n",
       " 'jeter',\n",
       " 'jk',\n",
       " 'johnson',\n",
       " 'johny',\n",
       " 'joined',\n",
       " 'jokes',\n",
       " 'joking',\n",
       " 'jonesboro',\n",
       " 'jordison',\n",
       " 'joshy',\n",
       " 'jr',\n",
       " 'jrz',\n",
       " 'jto',\n",
       " 'jucilicious',\n",
       " 'judges',\n",
       " 'jujubees',\n",
       " 'jumpin',\n",
       " 'jumps',\n",
       " ...]"
      ]
     },
     "execution_count": 75,
     "metadata": {},
     "output_type": "execute_result"
    }
   ],
   "source": [
    "def unusual_words(text):\n",
    "    text_vocab = set(w.lower() for w in text if w.isalpha())\n",
    "    english_vocab = set(w.lower() for w in nltk.corpus.words.words())\n",
    "    unusual = text_vocab - english_vocab\n",
    "    return sorted(unusual)\n",
    "unusual_words(nltk.corpus.nps_chat.words())"
   ]
  },
  {
   "cell_type": "code",
   "execution_count": 76,
   "metadata": {},
   "outputs": [
    {
     "data": {
      "text/plain": [
       "['i',\n",
       " 'me',\n",
       " 'my',\n",
       " 'myself',\n",
       " 'we',\n",
       " 'our',\n",
       " 'ours',\n",
       " 'ourselves',\n",
       " 'you',\n",
       " 'your',\n",
       " 'yours',\n",
       " 'yourself',\n",
       " 'yourselves',\n",
       " 'he',\n",
       " 'him',\n",
       " 'his',\n",
       " 'himself',\n",
       " 'she',\n",
       " 'her',\n",
       " 'hers',\n",
       " 'herself',\n",
       " 'it',\n",
       " 'its',\n",
       " 'itself',\n",
       " 'they',\n",
       " 'them',\n",
       " 'their',\n",
       " 'theirs',\n",
       " 'themselves',\n",
       " 'what',\n",
       " 'which',\n",
       " 'who',\n",
       " 'whom',\n",
       " 'this',\n",
       " 'that',\n",
       " 'these',\n",
       " 'those',\n",
       " 'am',\n",
       " 'is',\n",
       " 'are',\n",
       " 'was',\n",
       " 'were',\n",
       " 'be',\n",
       " 'been',\n",
       " 'being',\n",
       " 'have',\n",
       " 'has',\n",
       " 'had',\n",
       " 'having',\n",
       " 'do',\n",
       " 'does',\n",
       " 'did',\n",
       " 'doing',\n",
       " 'a',\n",
       " 'an',\n",
       " 'the',\n",
       " 'and',\n",
       " 'but',\n",
       " 'if',\n",
       " 'or',\n",
       " 'because',\n",
       " 'as',\n",
       " 'until',\n",
       " 'while',\n",
       " 'of',\n",
       " 'at',\n",
       " 'by',\n",
       " 'for',\n",
       " 'with',\n",
       " 'about',\n",
       " 'against',\n",
       " 'between',\n",
       " 'into',\n",
       " 'through',\n",
       " 'during',\n",
       " 'before',\n",
       " 'after',\n",
       " 'above',\n",
       " 'below',\n",
       " 'to',\n",
       " 'from',\n",
       " 'up',\n",
       " 'down',\n",
       " 'in',\n",
       " 'out',\n",
       " 'on',\n",
       " 'off',\n",
       " 'over',\n",
       " 'under',\n",
       " 'again',\n",
       " 'further',\n",
       " 'then',\n",
       " 'once',\n",
       " 'here',\n",
       " 'there',\n",
       " 'when',\n",
       " 'where',\n",
       " 'why',\n",
       " 'how',\n",
       " 'all',\n",
       " 'any',\n",
       " 'both',\n",
       " 'each',\n",
       " 'few',\n",
       " 'more',\n",
       " 'most',\n",
       " 'other',\n",
       " 'some',\n",
       " 'such',\n",
       " 'no',\n",
       " 'nor',\n",
       " 'not',\n",
       " 'only',\n",
       " 'own',\n",
       " 'same',\n",
       " 'so',\n",
       " 'than',\n",
       " 'too',\n",
       " 'very',\n",
       " 's',\n",
       " 't',\n",
       " 'can',\n",
       " 'will',\n",
       " 'just',\n",
       " 'don',\n",
       " 'should',\n",
       " 'now',\n",
       " 'd',\n",
       " 'll',\n",
       " 'm',\n",
       " 'o',\n",
       " 're',\n",
       " 've',\n",
       " 'y',\n",
       " 'ain',\n",
       " 'aren',\n",
       " 'couldn',\n",
       " 'didn',\n",
       " 'doesn',\n",
       " 'hadn',\n",
       " 'hasn',\n",
       " 'haven',\n",
       " 'isn',\n",
       " 'ma',\n",
       " 'mightn',\n",
       " 'mustn',\n",
       " 'needn',\n",
       " 'shan',\n",
       " 'shouldn',\n",
       " 'wasn',\n",
       " 'weren',\n",
       " 'won',\n",
       " 'wouldn']"
      ]
     },
     "execution_count": 76,
     "metadata": {},
     "output_type": "execute_result"
    }
   ],
   "source": [
    "# stop words high-frequency words like the, to and also that we sometimes want to filter out of a\n",
    "# document before further processing. Stopwords usually have little lexical content, and their\n",
    "#presence in a text fails to distinguish it from other texts.\n",
    "\n",
    "from nltk.corpus import stopwords\n",
    "stopwords.words('english')"
   ]
  },
  {
   "cell_type": "code",
   "execution_count": 77,
   "metadata": {},
   "outputs": [
    {
     "data": {
      "text/plain": [
       "['Abbey',\n",
       " 'Abbie',\n",
       " 'Abby',\n",
       " 'Addie',\n",
       " 'Adrian',\n",
       " 'Adrien',\n",
       " 'Ajay',\n",
       " 'Alex',\n",
       " 'Alexis',\n",
       " 'Alfie',\n",
       " 'Ali',\n",
       " 'Alix',\n",
       " 'Allie',\n",
       " 'Allyn',\n",
       " 'Andie',\n",
       " 'Andrea',\n",
       " 'Andy',\n",
       " 'Angel',\n",
       " 'Angie',\n",
       " 'Ariel',\n",
       " 'Ashley',\n",
       " 'Aubrey',\n",
       " 'Augustine',\n",
       " 'Austin',\n",
       " 'Averil',\n",
       " 'Barrie',\n",
       " 'Barry',\n",
       " 'Beau',\n",
       " 'Bennie',\n",
       " 'Benny',\n",
       " 'Bernie',\n",
       " 'Bert',\n",
       " 'Bertie',\n",
       " 'Bill',\n",
       " 'Billie',\n",
       " 'Billy',\n",
       " 'Blair',\n",
       " 'Blake',\n",
       " 'Bo',\n",
       " 'Bobbie',\n",
       " 'Bobby',\n",
       " 'Brandy',\n",
       " 'Brett',\n",
       " 'Britt',\n",
       " 'Brook',\n",
       " 'Brooke',\n",
       " 'Brooks',\n",
       " 'Bryn',\n",
       " 'Cal',\n",
       " 'Cam',\n",
       " 'Cammy',\n",
       " 'Carey',\n",
       " 'Carlie',\n",
       " 'Carlin',\n",
       " 'Carmine',\n",
       " 'Carroll',\n",
       " 'Cary',\n",
       " 'Caryl',\n",
       " 'Casey',\n",
       " 'Cass',\n",
       " 'Cat',\n",
       " 'Cecil',\n",
       " 'Chad',\n",
       " 'Chris',\n",
       " 'Chrissy',\n",
       " 'Christian',\n",
       " 'Christie',\n",
       " 'Christy',\n",
       " 'Clair',\n",
       " 'Claire',\n",
       " 'Clare',\n",
       " 'Claude',\n",
       " 'Clem',\n",
       " 'Clemmie',\n",
       " 'Cody',\n",
       " 'Connie',\n",
       " 'Constantine',\n",
       " 'Corey',\n",
       " 'Corrie',\n",
       " 'Cory',\n",
       " 'Courtney',\n",
       " 'Cris',\n",
       " 'Daffy',\n",
       " 'Dale',\n",
       " 'Dallas',\n",
       " 'Dana',\n",
       " 'Dani',\n",
       " 'Daniel',\n",
       " 'Dannie',\n",
       " 'Danny',\n",
       " 'Darby',\n",
       " 'Darcy',\n",
       " 'Darryl',\n",
       " 'Daryl',\n",
       " 'Deane',\n",
       " 'Del',\n",
       " 'Dell',\n",
       " 'Demetris',\n",
       " 'Dennie',\n",
       " 'Denny',\n",
       " 'Devin',\n",
       " 'Devon',\n",
       " 'Dion',\n",
       " 'Dionis',\n",
       " 'Dominique',\n",
       " 'Donnie',\n",
       " 'Donny',\n",
       " 'Dorian',\n",
       " 'Dory',\n",
       " 'Drew',\n",
       " 'Eddie',\n",
       " 'Eddy',\n",
       " 'Edie',\n",
       " 'Elisha',\n",
       " 'Emmy',\n",
       " 'Erin',\n",
       " 'Esme',\n",
       " 'Evelyn',\n",
       " 'Felice',\n",
       " 'Fran',\n",
       " 'Francis',\n",
       " 'Frank',\n",
       " 'Frankie',\n",
       " 'Franky',\n",
       " 'Fred',\n",
       " 'Freddie',\n",
       " 'Freddy',\n",
       " 'Gabriel',\n",
       " 'Gabriell',\n",
       " 'Gail',\n",
       " 'Gale',\n",
       " 'Gay',\n",
       " 'Gayle',\n",
       " 'Gene',\n",
       " 'George',\n",
       " 'Georgia',\n",
       " 'Georgie',\n",
       " 'Geri',\n",
       " 'Germaine',\n",
       " 'Gerri',\n",
       " 'Gerry',\n",
       " 'Gill',\n",
       " 'Ginger',\n",
       " 'Glen',\n",
       " 'Glenn',\n",
       " 'Grace',\n",
       " 'Gretchen',\n",
       " 'Gus',\n",
       " 'Haleigh',\n",
       " 'Haley',\n",
       " 'Hannibal',\n",
       " 'Harley',\n",
       " 'Hazel',\n",
       " 'Heath',\n",
       " 'Henrie',\n",
       " 'Hilary',\n",
       " 'Hillary',\n",
       " 'Holly',\n",
       " 'Ike',\n",
       " 'Ikey',\n",
       " 'Ira',\n",
       " 'Isa',\n",
       " 'Isador',\n",
       " 'Isadore',\n",
       " 'Jackie',\n",
       " 'Jaime',\n",
       " 'Jamie',\n",
       " 'Jan',\n",
       " 'Jean',\n",
       " 'Jere',\n",
       " 'Jermaine',\n",
       " 'Jerrie',\n",
       " 'Jerry',\n",
       " 'Jess',\n",
       " 'Jesse',\n",
       " 'Jessie',\n",
       " 'Jo',\n",
       " 'Jodi',\n",
       " 'Jodie',\n",
       " 'Jody',\n",
       " 'Joey',\n",
       " 'Jordan',\n",
       " 'Juanita',\n",
       " 'Jude',\n",
       " 'Judith',\n",
       " 'Judy',\n",
       " 'Julie',\n",
       " 'Justin',\n",
       " 'Karel',\n",
       " 'Kellen',\n",
       " 'Kelley',\n",
       " 'Kelly',\n",
       " 'Kelsey',\n",
       " 'Kerry',\n",
       " 'Kim',\n",
       " 'Kip',\n",
       " 'Kirby',\n",
       " 'Kit',\n",
       " 'Kris',\n",
       " 'Kyle',\n",
       " 'Lane',\n",
       " 'Lanny',\n",
       " 'Lauren',\n",
       " 'Laurie',\n",
       " 'Lee',\n",
       " 'Leigh',\n",
       " 'Leland',\n",
       " 'Lesley',\n",
       " 'Leslie',\n",
       " 'Lin',\n",
       " 'Lind',\n",
       " 'Lindsay',\n",
       " 'Lindsey',\n",
       " 'Lindy',\n",
       " 'Lonnie',\n",
       " 'Loren',\n",
       " 'Lorne',\n",
       " 'Lorrie',\n",
       " 'Lou',\n",
       " 'Luce',\n",
       " 'Lyn',\n",
       " 'Lynn',\n",
       " 'Maddie',\n",
       " 'Maddy',\n",
       " 'Marietta',\n",
       " 'Marion',\n",
       " 'Marlo',\n",
       " 'Martie',\n",
       " 'Marty',\n",
       " 'Mattie',\n",
       " 'Matty',\n",
       " 'Maurise',\n",
       " 'Max',\n",
       " 'Maxie',\n",
       " 'Mead',\n",
       " 'Meade',\n",
       " 'Mel',\n",
       " 'Meredith',\n",
       " 'Merle',\n",
       " 'Merrill',\n",
       " 'Merry',\n",
       " 'Meryl',\n",
       " 'Michal',\n",
       " 'Michel',\n",
       " 'Michele',\n",
       " 'Mickie',\n",
       " 'Micky',\n",
       " 'Millicent',\n",
       " 'Morgan',\n",
       " 'Morlee',\n",
       " 'Muffin',\n",
       " 'Nat',\n",
       " 'Nichole',\n",
       " 'Nickie',\n",
       " 'Nicky',\n",
       " 'Niki',\n",
       " 'Nikki',\n",
       " 'Noel',\n",
       " 'Ollie',\n",
       " 'Page',\n",
       " 'Paige',\n",
       " 'Pat',\n",
       " 'Patrice',\n",
       " 'Patsy',\n",
       " 'Pattie',\n",
       " 'Patty',\n",
       " 'Pen',\n",
       " 'Pennie',\n",
       " 'Penny',\n",
       " 'Perry',\n",
       " 'Phil',\n",
       " 'Pooh',\n",
       " 'Quentin',\n",
       " 'Quinn',\n",
       " 'Randi',\n",
       " 'Randie',\n",
       " 'Randy',\n",
       " 'Ray',\n",
       " 'Regan',\n",
       " 'Reggie',\n",
       " 'Rene',\n",
       " 'Rey',\n",
       " 'Ricki',\n",
       " 'Rickie',\n",
       " 'Ricky',\n",
       " 'Rikki',\n",
       " 'Robbie',\n",
       " 'Robin',\n",
       " 'Ronnie',\n",
       " 'Ronny',\n",
       " 'Rory',\n",
       " 'Ruby',\n",
       " 'Sal',\n",
       " 'Sam',\n",
       " 'Sammy',\n",
       " 'Sandy',\n",
       " 'Sascha',\n",
       " 'Sasha',\n",
       " 'Saundra',\n",
       " 'Sayre',\n",
       " 'Scotty',\n",
       " 'Sean',\n",
       " 'Shaine',\n",
       " 'Shane',\n",
       " 'Shannon',\n",
       " 'Shaun',\n",
       " 'Shawn',\n",
       " 'Shay',\n",
       " 'Shayne',\n",
       " 'Shea',\n",
       " 'Shelby',\n",
       " 'Shell',\n",
       " 'Shelley',\n",
       " 'Sibyl',\n",
       " 'Simone',\n",
       " 'Sonnie',\n",
       " 'Sonny',\n",
       " 'Stacy',\n",
       " 'Sunny',\n",
       " 'Sydney',\n",
       " 'Tabbie',\n",
       " 'Tabby',\n",
       " 'Tallie',\n",
       " 'Tally',\n",
       " 'Tammie',\n",
       " 'Tammy',\n",
       " 'Tate',\n",
       " 'Ted',\n",
       " 'Teddie',\n",
       " 'Teddy',\n",
       " 'Terri',\n",
       " 'Terry',\n",
       " 'Theo',\n",
       " 'Tim',\n",
       " 'Timmie',\n",
       " 'Timmy',\n",
       " 'Tobe',\n",
       " 'Tobie',\n",
       " 'Toby',\n",
       " 'Tommie',\n",
       " 'Tommy',\n",
       " 'Tony',\n",
       " 'Torey',\n",
       " 'Trace',\n",
       " 'Tracey',\n",
       " 'Tracie',\n",
       " 'Tracy',\n",
       " 'Val',\n",
       " 'Vale',\n",
       " 'Valentine',\n",
       " 'Van',\n",
       " 'Vin',\n",
       " 'Vinnie',\n",
       " 'Vinny',\n",
       " 'Virgie',\n",
       " 'Wallie',\n",
       " 'Wallis',\n",
       " 'Wally',\n",
       " 'Whitney',\n",
       " 'Willi',\n",
       " 'Willie',\n",
       " 'Willy',\n",
       " 'Winnie',\n",
       " 'Winny',\n",
       " 'Wynn']"
      ]
     },
     "execution_count": 77,
     "metadata": {},
     "output_type": "execute_result"
    }
   ],
   "source": [
    "names = nltk.corpus.names\n",
    "male_names = names.words('male.txt')\n",
    "female_names = names.words('female.txt')\n",
    "[w for w in male_names if w in female_names]"
   ]
  },
  {
   "cell_type": "code",
   "execution_count": 80,
   "metadata": {},
   "outputs": [
    {
     "data": {
      "image/png": "[encoded data removed]",
      "text/plain": [
       "<matplotlib.figure.Figure at 0x7f828871de48>"
      ]
     },
     "metadata": {},
     "output_type": "display_data"
    }
   ],
   "source": [
    "cfd = nltk.ConditionalFreqDist(\n",
    "(fileid,name[-1])\n",
    "for fileid in names.fileids()\n",
    "for name in names.words(fileid))\n",
    "cfd.plot()"
   ]
  },
  {
   "cell_type": "markdown",
   "metadata": {},
   "source": [
    "### Comparative wordlists lists of about 200 common words in several languages."
   ]
  },
  {
   "cell_type": "code",
   "execution_count": 81,
   "metadata": {},
   "outputs": [
    {
     "data": {
      "text/plain": [
       "['be',\n",
       " 'bg',\n",
       " 'bs',\n",
       " 'ca',\n",
       " 'cs',\n",
       " 'cu',\n",
       " 'de',\n",
       " 'en',\n",
       " 'es',\n",
       " 'fr',\n",
       " 'hr',\n",
       " 'it',\n",
       " 'la',\n",
       " 'mk',\n",
       " 'nl',\n",
       " 'pl',\n",
       " 'pt',\n",
       " 'ro',\n",
       " 'ru',\n",
       " 'sk',\n",
       " 'sl',\n",
       " 'sr',\n",
       " 'sw',\n",
       " 'uk']"
      ]
     },
     "execution_count": 81,
     "metadata": {},
     "output_type": "execute_result"
    }
   ],
   "source": [
    "from nltk.corpus import swadesh\n",
    "swadesh.fileids()"
   ]
  },
  {
   "cell_type": "code",
   "execution_count": 82,
   "metadata": {},
   "outputs": [
    {
     "data": {
      "text/plain": [
       "['I',\n",
       " 'you (singular), thou',\n",
       " 'he',\n",
       " 'we',\n",
       " 'you (plural)',\n",
       " 'they',\n",
       " 'this',\n",
       " 'that',\n",
       " 'here',\n",
       " 'there',\n",
       " 'who',\n",
       " 'what',\n",
       " 'where',\n",
       " 'when',\n",
       " 'how',\n",
       " 'not',\n",
       " 'all',\n",
       " 'many',\n",
       " 'some',\n",
       " 'few',\n",
       " 'other',\n",
       " 'one',\n",
       " 'two',\n",
       " 'three',\n",
       " 'four',\n",
       " 'five',\n",
       " 'big',\n",
       " 'long',\n",
       " 'wide',\n",
       " 'thick',\n",
       " 'heavy',\n",
       " 'small',\n",
       " 'short',\n",
       " 'narrow',\n",
       " 'thin',\n",
       " 'woman',\n",
       " 'man (adult male)',\n",
       " 'man (human being)',\n",
       " 'child',\n",
       " 'wife',\n",
       " 'husband',\n",
       " 'mother',\n",
       " 'father',\n",
       " 'animal',\n",
       " 'fish',\n",
       " 'bird',\n",
       " 'dog',\n",
       " 'louse',\n",
       " 'snake',\n",
       " 'worm',\n",
       " 'tree',\n",
       " 'forest',\n",
       " 'stick',\n",
       " 'fruit',\n",
       " 'seed',\n",
       " 'leaf',\n",
       " 'root',\n",
       " 'bark (from tree)',\n",
       " 'flower',\n",
       " 'grass',\n",
       " 'rope',\n",
       " 'skin',\n",
       " 'meat',\n",
       " 'blood',\n",
       " 'bone',\n",
       " 'fat (noun)',\n",
       " 'egg',\n",
       " 'horn',\n",
       " 'tail',\n",
       " 'feather',\n",
       " 'hair',\n",
       " 'head',\n",
       " 'ear',\n",
       " 'eye',\n",
       " 'nose',\n",
       " 'mouth',\n",
       " 'tooth',\n",
       " 'tongue',\n",
       " 'fingernail',\n",
       " 'foot',\n",
       " 'leg',\n",
       " 'knee',\n",
       " 'hand',\n",
       " 'wing',\n",
       " 'belly',\n",
       " 'guts',\n",
       " 'neck',\n",
       " 'back',\n",
       " 'breast',\n",
       " 'heart',\n",
       " 'liver',\n",
       " 'drink',\n",
       " 'eat',\n",
       " 'bite',\n",
       " 'suck',\n",
       " 'spit',\n",
       " 'vomit',\n",
       " 'blow',\n",
       " 'breathe',\n",
       " 'laugh',\n",
       " 'see',\n",
       " 'hear',\n",
       " 'know (a fact)',\n",
       " 'think',\n",
       " 'smell',\n",
       " 'fear',\n",
       " 'sleep',\n",
       " 'live',\n",
       " 'die',\n",
       " 'kill',\n",
       " 'fight',\n",
       " 'hunt',\n",
       " 'hit',\n",
       " 'cut',\n",
       " 'split',\n",
       " 'stab',\n",
       " 'scratch',\n",
       " 'dig',\n",
       " 'swim',\n",
       " 'fly (verb)',\n",
       " 'walk',\n",
       " 'come',\n",
       " 'lie',\n",
       " 'sit',\n",
       " 'stand',\n",
       " 'turn',\n",
       " 'fall',\n",
       " 'give',\n",
       " 'hold',\n",
       " 'squeeze',\n",
       " 'rub',\n",
       " 'wash',\n",
       " 'wipe',\n",
       " 'pull',\n",
       " 'push',\n",
       " 'throw',\n",
       " 'tie',\n",
       " 'sew',\n",
       " 'count',\n",
       " 'say',\n",
       " 'sing',\n",
       " 'play',\n",
       " 'float',\n",
       " 'flow',\n",
       " 'freeze',\n",
       " 'swell',\n",
       " 'sun',\n",
       " 'moon',\n",
       " 'star',\n",
       " 'water',\n",
       " 'rain',\n",
       " 'river',\n",
       " 'lake',\n",
       " 'sea',\n",
       " 'salt',\n",
       " 'stone',\n",
       " 'sand',\n",
       " 'dust',\n",
       " 'earth',\n",
       " 'cloud',\n",
       " 'fog',\n",
       " 'sky',\n",
       " 'wind',\n",
       " 'snow',\n",
       " 'ice',\n",
       " 'smoke',\n",
       " 'fire',\n",
       " 'ashes',\n",
       " 'burn',\n",
       " 'road',\n",
       " 'mountain',\n",
       " 'red',\n",
       " 'green',\n",
       " 'yellow',\n",
       " 'white',\n",
       " 'black',\n",
       " 'night',\n",
       " 'day',\n",
       " 'year',\n",
       " 'warm',\n",
       " 'cold',\n",
       " 'full',\n",
       " 'new',\n",
       " 'old',\n",
       " 'good',\n",
       " 'bad',\n",
       " 'rotten',\n",
       " 'dirty',\n",
       " 'straight',\n",
       " 'round',\n",
       " 'sharp',\n",
       " 'dull',\n",
       " 'smooth',\n",
       " 'wet',\n",
       " 'dry',\n",
       " 'correct',\n",
       " 'near',\n",
       " 'far',\n",
       " 'right',\n",
       " 'left',\n",
       " 'at',\n",
       " 'in',\n",
       " 'with',\n",
       " 'and',\n",
       " 'if',\n",
       " 'because',\n",
       " 'name']"
      ]
     },
     "execution_count": 82,
     "metadata": {},
     "output_type": "execute_result"
    }
   ],
   "source": [
    "swadesh.words('en')"
   ]
  },
  {
   "cell_type": "code",
   "execution_count": 83,
   "metadata": {},
   "outputs": [
    {
     "data": {
      "text/plain": [
       "[('je', 'I'),\n",
       " ('tu, vous', 'you (singular), thou'),\n",
       " ('il', 'he'),\n",
       " ('nous', 'we'),\n",
       " ('vous', 'you (plural)'),\n",
       " ('ils, elles', 'they'),\n",
       " ('ceci', 'this'),\n",
       " ('cela', 'that'),\n",
       " ('ici', 'here'),\n",
       " ('là', 'there'),\n",
       " ('qui', 'who'),\n",
       " ('quoi', 'what'),\n",
       " ('où', 'where'),\n",
       " ('quand', 'when'),\n",
       " ('comment', 'how'),\n",
       " ('ne...pas', 'not'),\n",
       " ('tout', 'all'),\n",
       " ('plusieurs', 'many'),\n",
       " ('quelques', 'some'),\n",
       " ('peu', 'few'),\n",
       " ('autre', 'other'),\n",
       " ('un', 'one'),\n",
       " ('deux', 'two'),\n",
       " ('trois', 'three'),\n",
       " ('quatre', 'four'),\n",
       " ('cinq', 'five'),\n",
       " ('grand', 'big'),\n",
       " ('long', 'long'),\n",
       " ('large', 'wide'),\n",
       " ('épais', 'thick'),\n",
       " ('lourd', 'heavy'),\n",
       " ('petit', 'small'),\n",
       " ('court', 'short'),\n",
       " ('étroit', 'narrow'),\n",
       " ('mince', 'thin'),\n",
       " ('femme', 'woman'),\n",
       " ('homme', 'man (adult male)'),\n",
       " ('homme', 'man (human being)'),\n",
       " ('enfant', 'child'),\n",
       " ('femme, épouse', 'wife'),\n",
       " ('mari, époux', 'husband'),\n",
       " ('mère', 'mother'),\n",
       " ('père', 'father'),\n",
       " ('animal', 'animal'),\n",
       " ('poisson', 'fish'),\n",
       " ('oiseau', 'bird'),\n",
       " ('chien', 'dog'),\n",
       " ('pou', 'louse'),\n",
       " ('serpent', 'snake'),\n",
       " ('ver', 'worm'),\n",
       " ('arbre', 'tree'),\n",
       " ('forêt', 'forest'),\n",
       " ('bâton', 'stick'),\n",
       " ('fruit', 'fruit'),\n",
       " ('graine', 'seed'),\n",
       " ('feuille', 'leaf'),\n",
       " ('racine', 'root'),\n",
       " ('écorce', 'bark (from tree)'),\n",
       " ('fleur', 'flower'),\n",
       " ('herbe', 'grass'),\n",
       " ('corde', 'rope'),\n",
       " ('peau', 'skin'),\n",
       " ('viande', 'meat'),\n",
       " ('sang', 'blood'),\n",
       " ('os', 'bone'),\n",
       " ('graisse', 'fat (noun)'),\n",
       " ('œuf', 'egg'),\n",
       " ('corne', 'horn'),\n",
       " ('queue', 'tail'),\n",
       " ('plume', 'feather'),\n",
       " ('cheveu', 'hair'),\n",
       " ('tête', 'head'),\n",
       " ('oreille', 'ear'),\n",
       " ('œil', 'eye'),\n",
       " ('nez', 'nose'),\n",
       " ('bouche', 'mouth'),\n",
       " ('dent', 'tooth'),\n",
       " ('langue', 'tongue'),\n",
       " ('ongle', 'fingernail'),\n",
       " ('pied', 'foot'),\n",
       " ('jambe', 'leg'),\n",
       " ('genou', 'knee'),\n",
       " ('main', 'hand'),\n",
       " ('aile', 'wing'),\n",
       " ('ventre', 'belly'),\n",
       " ('entrailles', 'guts'),\n",
       " ('cou', 'neck'),\n",
       " ('dos', 'back'),\n",
       " ('sein, poitrine', 'breast'),\n",
       " ('cœur', 'heart'),\n",
       " ('foie', 'liver'),\n",
       " ('boire', 'drink'),\n",
       " ('manger', 'eat'),\n",
       " ('mordre', 'bite'),\n",
       " ('sucer', 'suck'),\n",
       " ('cracher', 'spit'),\n",
       " ('vomir', 'vomit'),\n",
       " ('souffler', 'blow'),\n",
       " ('respirer', 'breathe'),\n",
       " ('rire', 'laugh'),\n",
       " ('voir', 'see'),\n",
       " ('entendre', 'hear'),\n",
       " ('savoir', 'know (a fact)'),\n",
       " ('penser', 'think'),\n",
       " ('sentir', 'smell'),\n",
       " ('craindre, avoir peur', 'fear'),\n",
       " ('dormir', 'sleep'),\n",
       " ('vivre', 'live'),\n",
       " ('mourir', 'die'),\n",
       " ('tuer', 'kill'),\n",
       " ('se battre', 'fight'),\n",
       " ('chasser', 'hunt'),\n",
       " ('frapper', 'hit'),\n",
       " ('couper', 'cut'),\n",
       " ('fendre', 'split'),\n",
       " ('poignarder', 'stab'),\n",
       " ('gratter', 'scratch'),\n",
       " ('creuser', 'dig'),\n",
       " ('nager', 'swim'),\n",
       " ('voler', 'fly (verb)'),\n",
       " ('marcher', 'walk'),\n",
       " ('venir', 'come'),\n",
       " (\"s'étendre\", 'lie'),\n",
       " (\"s'asseoir\", 'sit'),\n",
       " ('se lever', 'stand'),\n",
       " ('tourner', 'turn'),\n",
       " ('tomber', 'fall'),\n",
       " ('donner', 'give'),\n",
       " ('tenir', 'hold'),\n",
       " ('serrer', 'squeeze'),\n",
       " ('frotter', 'rub'),\n",
       " ('laver', 'wash'),\n",
       " ('essuyer', 'wipe'),\n",
       " ('tirer', 'pull'),\n",
       " ('pousser', 'push'),\n",
       " ('jeter', 'throw'),\n",
       " ('lier', 'tie'),\n",
       " ('coudre', 'sew'),\n",
       " ('compter', 'count'),\n",
       " ('dire', 'say'),\n",
       " ('chanter', 'sing'),\n",
       " ('jouer', 'play'),\n",
       " ('flotter', 'float'),\n",
       " ('couler', 'flow'),\n",
       " ('geler', 'freeze'),\n",
       " ('gonfler', 'swell'),\n",
       " ('soleil', 'sun'),\n",
       " ('lune', 'moon'),\n",
       " ('étoile', 'star'),\n",
       " ('eau', 'water'),\n",
       " ('pluie', 'rain'),\n",
       " ('rivière', 'river'),\n",
       " ('lac', 'lake'),\n",
       " ('mer', 'sea'),\n",
       " ('sel', 'salt'),\n",
       " ('pierre', 'stone'),\n",
       " ('sable', 'sand'),\n",
       " ('poussière', 'dust'),\n",
       " ('terre', 'earth'),\n",
       " ('nuage', 'cloud'),\n",
       " ('brouillard', 'fog'),\n",
       " ('ciel', 'sky'),\n",
       " ('vent', 'wind'),\n",
       " ('neige', 'snow'),\n",
       " ('glace', 'ice'),\n",
       " ('fumée', 'smoke'),\n",
       " ('feu', 'fire'),\n",
       " ('cendres', 'ashes'),\n",
       " ('brûler', 'burn'),\n",
       " ('route', 'road'),\n",
       " ('montagne', 'mountain'),\n",
       " ('rouge', 'red'),\n",
       " ('vert', 'green'),\n",
       " ('jaune', 'yellow'),\n",
       " ('blanc', 'white'),\n",
       " ('noir', 'black'),\n",
       " ('nuit', 'night'),\n",
       " ('jour', 'day'),\n",
       " ('an, année', 'year'),\n",
       " ('chaud', 'warm'),\n",
       " ('froid', 'cold'),\n",
       " ('plein', 'full'),\n",
       " ('nouveau', 'new'),\n",
       " ('vieux', 'old'),\n",
       " ('bon', 'good'),\n",
       " ('mauvais', 'bad'),\n",
       " ('pourri', 'rotten'),\n",
       " ('sale', 'dirty'),\n",
       " ('droit', 'straight'),\n",
       " ('rond', 'round'),\n",
       " ('tranchant, pointu, aigu', 'sharp'),\n",
       " ('émoussé', 'dull'),\n",
       " ('lisse', 'smooth'),\n",
       " ('mouillé', 'wet'),\n",
       " ('sec', 'dry'),\n",
       " ('juste, correct', 'correct'),\n",
       " ('proche', 'near'),\n",
       " ('loin', 'far'),\n",
       " ('à droite', 'right'),\n",
       " ('à gauche', 'left'),\n",
       " ('à', 'at'),\n",
       " ('dans', 'in'),\n",
       " ('avec', 'with'),\n",
       " ('et', 'and'),\n",
       " ('si', 'if'),\n",
       " ('parce que', 'because'),\n",
       " ('nom', 'name')]"
      ]
     },
     "execution_count": 83,
     "metadata": {},
     "output_type": "execute_result"
    }
   ],
   "source": [
    "fr2en = swadesh.entries(['fr','en'])\n",
    "fr2en"
   ]
  },
  {
   "cell_type": "code",
   "execution_count": 84,
   "metadata": {},
   "outputs": [
    {
     "data": {
      "text/plain": [
       "'dog'"
      ]
     },
     "execution_count": 84,
     "metadata": {},
     "output_type": "execute_result"
    }
   ],
   "source": [
    "translate = dict(fr2en)\n",
    "translate['chien']"
   ]
  },
  {
   "cell_type": "code",
   "execution_count": 85,
   "metadata": {},
   "outputs": [
    {
     "data": {
      "text/plain": [
       "'dog'"
      ]
     },
     "execution_count": 85,
     "metadata": {},
     "output_type": "execute_result"
    }
   ],
   "source": [
    "de2en = swadesh.entries(['de', 'en'])\n",
    "es2en = swadesh.entries(['es', 'en']) \n",
    "translate.update(dict(es2en))\n",
    "translate.update(dict(de2en))\n",
    "translate['perro']"
   ]
  },
  {
   "cell_type": "code",
   "execution_count": 88,
   "metadata": {},
   "outputs": [
    {
     "data": {
      "text/plain": [
       "('kaa',\n",
       " [('ps', 'V'),\n",
       "  ('pt', 'A'),\n",
       "  ('ge', 'gag'),\n",
       "  ('tkp', 'nek i pas'),\n",
       "  ('dcsv', 'true'),\n",
       "  ('vx', '1'),\n",
       "  ('sc', '???'),\n",
       "  ('dt', '29/Oct/2005'),\n",
       "  ('ex', 'Apoka ira kaaroi aioa-ia reoreopaoro.'),\n",
       "  ('xp', 'Kaikai i pas long nek bilong Apoka bikos em i kaikai na toktok.'),\n",
       "  ('xe', 'Apoka is gagging from food while talking.')])"
      ]
     },
     "execution_count": 88,
     "metadata": {},
     "output_type": "execute_result"
    }
   ],
   "source": [
    "# A Toolbox file consists of a collection of entries, where each entry is made up of one or more fields.\n",
    "# Most fields are optional or repeatable, which means that this kind of lexical resource \n",
    "#cannot be treated as a table or spreadsheet.\n",
    "from nltk.corpus import toolbox\n",
    "toolbox.entries('rotokas.dic')[0]\n",
    "# 'kaa' means gag ge=GlossintoEnglish other fields have translation examples"
   ]
  },
  {
   "cell_type": "markdown",
   "metadata": {},
   "source": [
    "### WordNet\n",
    "semantically-oriented dictionary of English"
   ]
  },
  {
   "cell_type": "code",
   "execution_count": 90,
   "metadata": {},
   "outputs": [
    {
     "data": {
      "text/plain": [
       "[Synset('car.n.01')]"
      ]
     },
     "execution_count": 90,
     "metadata": {},
     "output_type": "execute_result"
    }
   ],
   "source": [
    "from nltk.corpus import wordnet as wn\n",
    "wn.synsets('motorcar')"
   ]
  },
  {
   "cell_type": "code",
   "execution_count": 91,
   "metadata": {},
   "outputs": [
    {
     "data": {
      "text/plain": [
       "['car', 'auto', 'automobile', 'machine', 'motorcar']"
      ]
     },
     "execution_count": 91,
     "metadata": {},
     "output_type": "execute_result"
    }
   ],
   "source": [
    " wn.synset('car.n.01').lemma_names()"
   ]
  },
  {
   "cell_type": "code",
   "execution_count": 92,
   "metadata": {},
   "outputs": [
    {
     "data": {
      "text/plain": [
       "'a motor vehicle with four wheels; usually propelled by an internal combustion engine'"
      ]
     },
     "execution_count": 92,
     "metadata": {},
     "output_type": "execute_result"
    }
   ],
   "source": [
    "wn.synset('car.n.01').definition()"
   ]
  },
  {
   "cell_type": "code",
   "execution_count": 93,
   "metadata": {},
   "outputs": [
    {
     "data": {
      "text/plain": [
       "['he needs a car to get to work']"
      ]
     },
     "execution_count": 93,
     "metadata": {},
     "output_type": "execute_result"
    }
   ],
   "source": [
    "wn.synset('car.n.01').examples()"
   ]
  },
  {
   "cell_type": "code",
   "execution_count": 94,
   "metadata": {},
   "outputs": [
    {
     "data": {
      "text/plain": [
       "[Lemma('car.n.01.car'),\n",
       " Lemma('car.n.01.auto'),\n",
       " Lemma('car.n.01.automobile'),\n",
       " Lemma('car.n.01.machine'),\n",
       " Lemma('car.n.01.motorcar')]"
      ]
     },
     "execution_count": 94,
     "metadata": {},
     "output_type": "execute_result"
    }
   ],
   "source": [
    "#This pairing of a synset with a word is called a lemma.\n",
    "wn.synset('car.n.01').lemmas() "
   ]
  },
  {
   "cell_type": "code",
   "execution_count": 95,
   "metadata": {},
   "outputs": [
    {
     "data": {
      "text/plain": [
       "Lemma('car.n.01.automobile')"
      ]
     },
     "execution_count": 95,
     "metadata": {},
     "output_type": "execute_result"
    }
   ],
   "source": [
    "wn.lemma('car.n.01.automobile')"
   ]
  },
  {
   "cell_type": "code",
   "execution_count": 96,
   "metadata": {},
   "outputs": [
    {
     "data": {
      "text/plain": [
       "Synset('car.n.01')"
      ]
     },
     "execution_count": 96,
     "metadata": {},
     "output_type": "execute_result"
    }
   ],
   "source": [
    "wn.lemma('car.n.01.automobile').synset()"
   ]
  },
  {
   "cell_type": "code",
   "execution_count": 97,
   "metadata": {},
   "outputs": [
    {
     "name": "stdout",
     "output_type": "stream",
     "text": [
      "['car', 'auto', 'automobile', 'machine', 'motorcar']\n",
      "['car', 'railcar', 'railway_car', 'railroad_car']\n",
      "['car', 'gondola']\n",
      "['car', 'elevator_car']\n",
      "['cable_car', 'car']\n"
     ]
    }
   ],
   "source": [
    "for synset in wn.synsets('car'):\n",
    "    print(synset.lemma_names())"
   ]
  },
  {
   "cell_type": "code",
   "execution_count": 98,
   "metadata": {},
   "outputs": [
    {
     "data": {
      "text/plain": [
       "Synset('ambulance.n.01')"
      ]
     },
     "execution_count": 98,
     "metadata": {},
     "output_type": "execute_result"
    }
   ],
   "source": [
    "motorcar = wn.synset('car.n.01')\n",
    "types_of_motorcar = motorcar.hyponyms()\n",
    "types_of_motorcar[0]"
   ]
  },
  {
   "cell_type": "code",
   "execution_count": 99,
   "metadata": {},
   "outputs": [
    {
     "data": {
      "text/plain": [
       "['Model_T',\n",
       " 'S.U.V.',\n",
       " 'SUV',\n",
       " 'Stanley_Steamer',\n",
       " 'ambulance',\n",
       " 'beach_waggon',\n",
       " 'beach_wagon',\n",
       " 'bus',\n",
       " 'cab',\n",
       " 'compact',\n",
       " 'compact_car',\n",
       " 'convertible',\n",
       " 'coupe',\n",
       " 'cruiser',\n",
       " 'electric',\n",
       " 'electric_automobile',\n",
       " 'electric_car',\n",
       " 'estate_car',\n",
       " 'gas_guzzler',\n",
       " 'hack',\n",
       " 'hardtop',\n",
       " 'hatchback',\n",
       " 'heap',\n",
       " 'horseless_carriage',\n",
       " 'hot-rod',\n",
       " 'hot_rod',\n",
       " 'jalopy',\n",
       " 'jeep',\n",
       " 'landrover',\n",
       " 'limo',\n",
       " 'limousine',\n",
       " 'loaner',\n",
       " 'minicar',\n",
       " 'minivan',\n",
       " 'pace_car',\n",
       " 'patrol_car',\n",
       " 'phaeton',\n",
       " 'police_car',\n",
       " 'police_cruiser',\n",
       " 'prowl_car',\n",
       " 'race_car',\n",
       " 'racer',\n",
       " 'racing_car',\n",
       " 'roadster',\n",
       " 'runabout',\n",
       " 'saloon',\n",
       " 'secondhand_car',\n",
       " 'sedan',\n",
       " 'sport_car',\n",
       " 'sport_utility',\n",
       " 'sport_utility_vehicle',\n",
       " 'sports_car',\n",
       " 'squad_car',\n",
       " 'station_waggon',\n",
       " 'station_wagon',\n",
       " 'stock_car',\n",
       " 'subcompact',\n",
       " 'subcompact_car',\n",
       " 'taxi',\n",
       " 'taxicab',\n",
       " 'tourer',\n",
       " 'touring_car',\n",
       " 'two-seater',\n",
       " 'used-car',\n",
       " 'waggon',\n",
       " 'wagon']"
      ]
     },
     "execution_count": 99,
     "metadata": {},
     "output_type": "execute_result"
    }
   ],
   "source": [
    "sorted(lemma.name() for synset in types_of_motorcar for lemma in synset.lemmas()) #navigate down"
   ]
  },
  {
   "cell_type": "code",
   "execution_count": 100,
   "metadata": {},
   "outputs": [
    {
     "data": {
      "text/plain": [
       "[Synset('motor_vehicle.n.01')]"
      ]
     },
     "execution_count": 100,
     "metadata": {},
     "output_type": "execute_result"
    }
   ],
   "source": [
    "motorcar.hypernyms()"
   ]
  },
  {
   "cell_type": "code",
   "execution_count": 104,
   "metadata": {},
   "outputs": [
    {
     "data": {
      "text/plain": [
       "2"
      ]
     },
     "execution_count": 104,
     "metadata": {},
     "output_type": "execute_result"
    }
   ],
   "source": [
    "paths = motorcar.hypernym_paths()\n",
    "len(paths)"
   ]
  },
  {
   "cell_type": "code",
   "execution_count": 102,
   "metadata": {},
   "outputs": [
    {
     "data": {
      "text/plain": [
       "['entity.n.01',\n",
       " 'physical_entity.n.01',\n",
       " 'object.n.01',\n",
       " 'whole.n.02',\n",
       " 'artifact.n.01',\n",
       " 'instrumentality.n.03',\n",
       " 'container.n.01',\n",
       " 'wheeled_vehicle.n.01',\n",
       " 'self-propelled_vehicle.n.01',\n",
       " 'motor_vehicle.n.01',\n",
       " 'car.n.01']"
      ]
     },
     "execution_count": 102,
     "metadata": {},
     "output_type": "execute_result"
    }
   ],
   "source": [
    "[synset.name() for synset in paths[0]]"
   ]
  },
  {
   "cell_type": "code",
   "execution_count": 105,
   "metadata": {},
   "outputs": [
    {
     "data": {
      "text/plain": [
       "['entity.n.01',\n",
       " 'physical_entity.n.01',\n",
       " 'object.n.01',\n",
       " 'whole.n.02',\n",
       " 'artifact.n.01',\n",
       " 'instrumentality.n.03',\n",
       " 'conveyance.n.03',\n",
       " 'vehicle.n.01',\n",
       " 'wheeled_vehicle.n.01',\n",
       " 'self-propelled_vehicle.n.01',\n",
       " 'motor_vehicle.n.01',\n",
       " 'car.n.01']"
      ]
     },
     "execution_count": 105,
     "metadata": {},
     "output_type": "execute_result"
    }
   ],
   "source": [
    "[synset.name() for synset in paths[1]]"
   ]
  },
  {
   "cell_type": "markdown",
   "metadata": {},
   "source": [
    "Hypernyms and hyponyms are called lexical relations because they relate one synset to another. These two relations navigate up and down the \"is-a\" hierarchy. Another important way to navigate the WordNet network is from items to their components (meronyms) or to the things they are contained in (holonyms)"
   ]
  },
  {
   "cell_type": "code",
   "execution_count": 106,
   "metadata": {},
   "outputs": [
    {
     "data": {
      "text/plain": [
       "[Synset('burl.n.02'),\n",
       " Synset('crown.n.07'),\n",
       " Synset('limb.n.02'),\n",
       " Synset('stump.n.01'),\n",
       " Synset('trunk.n.01')]"
      ]
     },
     "execution_count": 106,
     "metadata": {},
     "output_type": "execute_result"
    }
   ],
   "source": [
    "wn.synset('tree.n.01').part_meronyms()"
   ]
  },
  {
   "cell_type": "code",
   "execution_count": 107,
   "metadata": {},
   "outputs": [
    {
     "data": {
      "text/plain": [
       "[Synset('heartwood.n.01'), Synset('sapwood.n.01')]"
      ]
     },
     "execution_count": 107,
     "metadata": {},
     "output_type": "execute_result"
    }
   ],
   "source": [
    "wn.synset('tree.n.01').substance_meronyms()"
   ]
  },
  {
   "cell_type": "code",
   "execution_count": 109,
   "metadata": {},
   "outputs": [
    {
     "data": {
      "text/plain": [
       "[Synset('forest.n.01')]"
      ]
     },
     "execution_count": 109,
     "metadata": {},
     "output_type": "execute_result"
    }
   ],
   "source": [
    "wn.synset('tree.n.01').member_holonyms()"
   ]
  },
  {
   "cell_type": "code",
   "execution_count": 110,
   "metadata": {},
   "outputs": [
    {
     "data": {
      "text/plain": [
       "[Synset('step.v.01')]"
      ]
     },
     "execution_count": 110,
     "metadata": {},
     "output_type": "execute_result"
    }
   ],
   "source": [
    "wn.synset('walk.v.01').entailments()"
   ]
  },
  {
   "cell_type": "code",
   "execution_count": 111,
   "metadata": {},
   "outputs": [
    {
     "data": {
      "text/plain": [
       "[Synset('chew.v.01'), Synset('swallow.v.01')]"
      ]
     },
     "execution_count": 111,
     "metadata": {},
     "output_type": "execute_result"
    }
   ],
   "source": [
    "wn.synset('eat.v.01').entailments()"
   ]
  },
  {
   "cell_type": "code",
   "execution_count": 112,
   "metadata": {},
   "outputs": [
    {
     "data": {
      "text/plain": [
       "[Synset('arouse.v.07'), Synset('disappoint.v.01')]"
      ]
     },
     "execution_count": 112,
     "metadata": {},
     "output_type": "execute_result"
    }
   ],
   "source": [
    "wn.synset('tease.v.03').entailments()"
   ]
  },
  {
   "cell_type": "code",
   "execution_count": 113,
   "metadata": {},
   "outputs": [
    {
     "data": {
      "text/plain": [
       "[Lemma('demand.n.02.demand')]"
      ]
     },
     "execution_count": 113,
     "metadata": {},
     "output_type": "execute_result"
    }
   ],
   "source": [
    "wn.lemma('supply.n.02.supply').antonyms()"
   ]
  },
  {
   "cell_type": "code",
   "execution_count": 114,
   "metadata": {},
   "outputs": [
    {
     "data": {
      "text/plain": [
       "[Synset('baleen_whale.n.01')]"
      ]
     },
     "execution_count": 114,
     "metadata": {},
     "output_type": "execute_result"
    }
   ],
   "source": [
    "right = wn.synset('right_whale.n.01')\n",
    "minke = wn.synset('minke_whale.n.01')\n",
    "right.lowest_common_hypernyms(minke)"
   ]
  },
  {
   "cell_type": "code",
   "execution_count": 115,
   "metadata": {},
   "outputs": [
    {
     "data": {
      "text/plain": [
       "14"
      ]
     },
     "execution_count": 115,
     "metadata": {},
     "output_type": "execute_result"
    }
   ],
   "source": [
    "wn.synset('baleen_whale.n.01').min_depth()"
   ]
  },
  {
   "cell_type": "code",
   "execution_count": 116,
   "metadata": {},
   "outputs": [
    {
     "data": {
      "text/plain": [
       "13"
      ]
     },
     "execution_count": 116,
     "metadata": {},
     "output_type": "execute_result"
    }
   ],
   "source": [
    "wn.synset('whale.n.02').min_depth()"
   ]
  },
  {
   "cell_type": "code",
   "execution_count": 117,
   "metadata": {},
   "outputs": [
    {
     "data": {
      "text/plain": [
       "8"
      ]
     },
     "execution_count": 117,
     "metadata": {},
     "output_type": "execute_result"
    }
   ],
   "source": [
    "wn.synset('vertebrate.n.01').min_depth()"
   ]
  },
  {
   "cell_type": "code",
   "execution_count": 118,
   "metadata": {},
   "outputs": [
    {
     "data": {
      "text/plain": [
       "0"
      ]
     },
     "execution_count": 118,
     "metadata": {},
     "output_type": "execute_result"
    }
   ],
   "source": [
    "wn.synset('entity.n.01').min_depth()"
   ]
  },
  {
   "cell_type": "code",
   "execution_count": 119,
   "metadata": {},
   "outputs": [
    {
     "data": {
      "text/plain": [
       "0.25"
      ]
     },
     "execution_count": 119,
     "metadata": {},
     "output_type": "execute_result"
    }
   ],
   "source": [
    "right.path_similarity(minke)"
   ]
  },
  {
   "cell_type": "code",
   "execution_count": null,
   "metadata": {},
   "outputs": [],
   "source": [
    "# Accessing Text Corpora and Lexical Resources\n",
    "\n",
    "from nltk.corpus import gutenberg\n",
    "gutenberg.fileids()\n",
    "\n",
    "emma = gutenberg.words('austen-emma.txt')\n",
    "len(emma)\n",
    "\n",
    "for fileid in gutenberg.fileids():\n",
    "    num_chars = len(gutenberg.raw(fileid))\n",
    "    num_words = len(gutenberg.words(fileid))\n",
    "    num_sents = len(gutenberg.sents(fileid))\n",
    "    num_vocab = len(set(w.lower() for w in gutenberg.words(fileid)))\n",
    "    print(round(num_chars/num_words), round(num_words/num_sents), round(num_words/num_vocab), fileid)\n",
    "\n",
    "macbeth_sentences = gutenberg.sents('shakespeare-macbeth.txt')\n",
    "macbeth_sentences\n",
    "\n",
    "longest_len = max(len(s) for s in macbeth_sentences)\n",
    "[s for s in macbeth_sentences if len(s) == longest_len]\n",
    "\n",
    "### Web and Chat text\n",
    "\n",
    "from nltk.corpus import webtext\n",
    "for fileid in webtext.fileids():\n",
    "    print(fileid, webtext.raw(fileid)[:65],'....')\n",
    "\n",
    "from nltk.corpus import nps_chat # chat messages anonimized\n",
    "chatroom = nps_chat.posts('10-19-20s_706posts.xml')\n",
    "chatroom[123]\n",
    "\n",
    "from nltk.corpus import brown #million word corpus with various categories\n",
    "brown.categories()\n",
    "\n",
    "brown.words(categories='news')\n",
    "\n",
    "brown.words(fileids=['cg22'])\n",
    "\n",
    "brown.sents(categories=['news','editorial','reviews'])\n",
    "\n",
    "import nltk\n",
    "news_text = brown.words(categories='news')\n",
    "fdist = nltk.FreqDist(w.lower() for w in news_text)\n",
    "modals = ['can','could','may','might','must','will']\n",
    "for m in modals:\n",
    "    print(m + ':',fdist[m],end=' ')\n",
    "\n",
    "cfg = nltk.ConditionalFreqDist((genre,word)\n",
    "                            for genre in brown.categories()\n",
    "                            for word in brown.words(categories=genre))\n",
    "genres = ['news','religion','hobbies','science_fiction','romance','humor']\n",
    "modals = ['can','could','may','might','must','will']\n",
    "cfg.tabulate(conditions=genres,samples=modals)\n",
    "\n",
    "### Reuter corpus news documents\n",
    "\n",
    "from nltk.corpus import reuters\n",
    "reuters.fileids()[:10]\n",
    "\n",
    "reuters.categories()[:10]\n",
    "\n",
    "reuters.categories('training/9865') #each document can have multiple categories\n",
    "\n",
    "reuters.fileids('barley')[:5]\n",
    "\n",
    "reuters.words('training/9865')[:14]\n",
    "\n",
    "reuters.words(categories=['barley','corn'])\n",
    "\n",
    "### Inaugural address corpus, speech text of 55 texts all in one.\n",
    "\n",
    "from nltk.corpus import inaugural\n",
    "inaugural.fileids()[:5]\n",
    "\n",
    "cfd = nltk.ConditionalFreqDist(\n",
    "(target,fileid[:4])\n",
    "for fileid in inaugural.fileids()\n",
    "for w in inaugural.words(fileid)\n",
    "for target in ['america','citizen']\n",
    "if w.lower().startswith(target))\n",
    "cfd.plot()\n",
    "\n",
    "### Annotated Text Corpora\n",
    "Many text corpora contain linguistic annotations, representing POS tags, named entities, syntactic structures, semantic roles, and so forth\n",
    "\n",
    "### Using your own Corpus\n",
    "\n",
    "from nltk.corpus import PlaintextCorpusReader\n",
    "corpus_root = '/usr/share/dict'\n",
    "wordlists = PlaintextCorpusReader(corpus_root, '.*')\n",
    "wordlists.fileids()\n",
    "\n",
    "wordlists.words()\n",
    "\n",
    "wordlists.words('README.select-wordlist')[10:]\n",
    "\n",
    "## Conditional Frequency Distributions\n",
    "\n",
    "genre_word = [(genre,word)\n",
    "                for genre in ['news','romance']\n",
    "                 for word in brown.words(categories=genre)]\n",
    "len(genre_word)\n",
    "\n",
    "genre_word[:4]\n",
    "\n",
    "cfd = nltk.ConditionalFreqDist(genre_word)\n",
    "print(cfd)\n",
    "\n",
    "cfd.conditions()\n",
    "\n",
    "cfd['news'].most_common(20)\n",
    "\n",
    "cfd['romance']['could']\n",
    "\n",
    "from nltk.corpus import udhr\n",
    "languages = ['Chickasaw', 'English', 'German_Deutsch','Greenlandic_Inuktikut', 'Hungarian_Magyar', 'Ibibio_Efik']\n",
    "cfd = nltk.ConditionalFreqDist(\n",
    "(lang,len(word))\n",
    "for lang in languages\n",
    "for word in udhr.words(lang+'-Latin1'))\n",
    "cfd.conditions()\n",
    "\n",
    "cfd.tabulate(conditions=['English','German_Deutsch'],samples=range(10),cumulative=True)\n",
    "\n",
    "def generate_model(cfdist, word, num=15):\n",
    "    for i in range(num):\n",
    "        print(word, end=' ')\n",
    "        word = cfdist[word].max()\n",
    "\n",
    "text = nltk.corpus.genesis.words('english-kjv.txt')\n",
    "bigrams = nltk.bigrams(text)\n",
    "cfd = nltk.ConditionalFreqDist(bigrams)\n",
    "cfd['living']\n",
    "\n",
    "generate_model(cfd,'living')\n",
    "\n",
    "def unusual_words(text):\n",
    "    text_vocab = set(w.lower() for w in text if w.isalpha())\n",
    "    english_vocab = set(w.lower() for w in nltk.corpus.words.words())\n",
    "    unusual = text_vocab - english_vocab\n",
    "    return sorted(unusual)\n",
    "unusual_words(nltk.corpus.nps_chat.words())\n",
    "\n",
    "# stop words high-frequency words like the, to and also that we sometimes want to filter out of a\n",
    "# document before further processing. Stopwords usually have little lexical content, and their\n",
    "#presence in a text fails to distinguish it from other texts.\n",
    "\n",
    "from nltk.corpus import stopwords\n",
    "stopwords.words('english')\n",
    "\n",
    "names = nltk.corpus.names\n",
    "male_names = names.words('male.txt')\n",
    "female_names = names.words('female.txt')\n",
    "[w for w in male_names if w in female_names]\n",
    "\n",
    "cfd = nltk.ConditionalFreqDist(\n",
    "(fileid,name[-1])\n",
    "for fileid in names.fileids()\n",
    "for name in names.words(fileid))\n",
    "cfd.plot()\n",
    "\n",
    "### Comparative wordlists lists of about 200 common words in several languages.\n",
    "\n",
    "from nltk.corpus import swadesh\n",
    "swadesh.fileids()\n",
    "\n",
    "swadesh.words('en')\n",
    "\n",
    "fr2en = swadesh.entries(['fr','en'])\n",
    "fr2en\n",
    "\n",
    "translate = dict(fr2en)\n",
    "translate['chien']\n",
    "\n",
    "de2en = swadesh.entries(['de', 'en'])\n",
    "es2en = swadesh.entries(['es', 'en']) \n",
    "translate.update(dict(es2en))\n",
    "translate.update(dict(de2en))\n",
    "translate['perro']\n",
    "\n",
    "# A Toolbox file consists of a collection of entries, where each entry is made up of one or more fields.\n",
    "# Most fields are optional or repeatable, which means that this kind of lexical resource \n",
    "#cannot be treated as a table or spreadsheet.\n",
    "from nltk.corpus import toolbox\n",
    "toolbox.entries('rotokas.dic')[0]\n",
    "# 'kaa' means gag ge=GlossintoEnglish other fields have translation examples\n",
    "\n",
    "### WordNet\n",
    "semantically-oriented dictionary of English\n",
    "\n",
    "from nltk.corpus import wordnet as wn\n",
    "wn.synsets('motorcar')\n",
    "\n",
    " wn.synset('car.n.01').lemma_names()\n",
    "\n",
    "wn.synset('car.n.01').definition()\n",
    "\n",
    "wn.synset('car.n.01').examples()\n",
    "\n",
    "#This pairing of a synset with a word is called a lemma.\n",
    "wn.synset('car.n.01').lemmas() \n",
    "\n",
    "wn.lemma('car.n.01.automobile')\n",
    "\n",
    "wn.lemma('car.n.01.automobile').synset()\n",
    "\n",
    "for synset in wn.synsets('car'):\n",
    "    print(synset.lemma_names())\n",
    "\n",
    "motorcar = wn.synset('car.n.01')\n",
    "types_of_motorcar = motorcar.hyponyms()\n",
    "types_of_motorcar[0]\n",
    "\n",
    "sorted(lemma.name() for synset in types_of_motorcar for lemma in synset.lemmas()) #navigate down\n",
    "\n",
    "motorcar.hypernyms()\n",
    "\n",
    "paths = motorcar.hypernym_paths()\n",
    "len(paths)\n",
    "\n",
    "[synset.name() for synset in paths[0]]\n",
    "\n",
    "[synset.name() for synset in paths[1]]\n",
    "\n",
    "Hypernyms and hyponyms are called lexical relations because they relate one synset to another. These two relations navigate up and down the \"is-a\" hierarchy. Another important way to navigate the WordNet network is from items to their components (meronyms) or to the things they are contained in (holonyms)\n",
    "\n",
    "wn.synset('tree.n.01').part_meronyms()\n",
    "\n",
    "wn.synset('tree.n.01').substance_meronyms()\n",
    "\n",
    "wn.synset('tree.n.01').member_holonyms()\n",
    "\n",
    "wn.synset('walk.v.01').entailments()\n",
    "\n",
    "wn.synset('eat.v.01').entailments()\n",
    "\n",
    "wn.synset('tease.v.03').entailments()\n",
    "\n",
    "wn.lemma('supply.n.02.supply').antonyms()\n",
    "\n",
    "right = wn.synset('right_whale.n.01')\n",
    "minke = wn.synset('minke_whale.n.01')\n",
    "right.lowest_common_hypernyms(minke)\n",
    "\n",
    "wn.synset('baleen_whale.n.01').min_depth()\n",
    "\n",
    "wn.synset('whale.n.02').min_depth()\n",
    "\n",
    "wn.synset('vertebrate.n.01').min_depth()\n",
    "\n",
    "wn.synset('entity.n.01').min_depth()\n",
    "\n",
    "right.path_similarity(minke)"
   ]
  }
 ],
 "metadata": {
  "kernelspec": {
   "display_name": "Python 3",
   "language": "python",
   "name": "python3"
  },
  "language_info": {
   "codemirror_mode": {
    "name": "ipython",
    "version": 3
   },
   "file_extension": ".py",
   "mimetype": "text/x-python",
   "name": "python",
   "nbconvert_exporter": "python",
   "pygments_lexer": "ipython3",
   "version": "3.5.3"
  }
 },
 "nbformat": 4,
 "nbformat_minor": 2
}
