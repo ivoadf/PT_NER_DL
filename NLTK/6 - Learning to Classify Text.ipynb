{
 "cells": [
  {
   "cell_type": "code",
   "execution_count": 1,
   "metadata": {},
   "outputs": [
    {
     "data": {
      "text/plain": [
       "{'last_letter': 'k'}"
      ]
     },
     "execution_count": 1,
     "metadata": {},
     "output_type": "execute_result"
    }
   ],
   "source": [
    "import nltk\n",
    "def gender_features(word):\n",
    "    return {'last_letter': word[-1]}\n",
    "gender_features('Shrek')"
   ]
  },
  {
   "cell_type": "code",
   "execution_count": 4,
   "metadata": {},
   "outputs": [
    {
     "data": {
      "text/plain": [
       "'male'"
      ]
     },
     "execution_count": 4,
     "metadata": {},
     "output_type": "execute_result"
    }
   ],
   "source": [
    "from nltk.corpus import names\n",
    "labeled_names = ([(name, 'male') for name in names.words('male.txt')] +\n",
    "                 [(name, 'female') for name in names.words('female.txt')])\n",
    "import random\n",
    "random.shuffle(labeled_names)\n",
    "featuresets = [(gender_features(n), gender) for (n, gender) in labeled_names]\n",
    "train_set, test_set = featuresets[500:], featuresets[:500]\n",
    "classifier = nltk.NaiveBayesClassifier.train(train_set)\n",
    "classifier.classify(gender_features('Neo'))"
   ]
  },
  {
   "cell_type": "code",
   "execution_count": 5,
   "metadata": {},
   "outputs": [
    {
     "data": {
      "text/plain": [
       "'female'"
      ]
     },
     "execution_count": 5,
     "metadata": {},
     "output_type": "execute_result"
    }
   ],
   "source": [
    "classifier.classify(gender_features('Trinity'))"
   ]
  },
  {
   "cell_type": "code",
   "execution_count": 6,
   "metadata": {},
   "outputs": [
    {
     "name": "stdout",
     "output_type": "stream",
     "text": [
      "0.752\n"
     ]
    }
   ],
   "source": [
    "print(nltk.classify.accuracy(classifier, test_set))"
   ]
  },
  {
   "cell_type": "code",
   "execution_count": 7,
   "metadata": {},
   "outputs": [
    {
     "name": "stdout",
     "output_type": "stream",
     "text": [
      "Most Informative Features\n",
      "             last_letter = 'a'            female : male   =     34.6 : 1.0\n",
      "             last_letter = 'k'              male : female =     31.2 : 1.0\n",
      "             last_letter = 'f'              male : female =     15.9 : 1.0\n",
      "             last_letter = 'p'              male : female =     11.8 : 1.0\n",
      "             last_letter = 'v'              male : female =      9.8 : 1.0\n"
     ]
    }
   ],
   "source": [
    "classifier.show_most_informative_features(5)"
   ]
  },
  {
   "cell_type": "code",
   "execution_count": 8,
   "metadata": {},
   "outputs": [
    {
     "name": "stdout",
     "output_type": "stream",
     "text": [
      "0.802\n"
     ]
    }
   ],
   "source": [
    "def gender_features(word):\n",
    "    return {'last_letter': word[-1],\n",
    "           'length': len(word),\n",
    "           'first_letter': word[0]}\n",
    "#nltk structure that acts like list but does not store all objects\n",
    "#in memory\n",
    "from nltk.classify import apply_features\n",
    "train_set = apply_features(gender_features, labeled_names[500:])\n",
    "test_set = apply_features(gender_features, labeled_names[:500])\n",
    "classifier = nltk.NaiveBayesClassifier.train(train_set)\n",
    "print(nltk.classify.accuracy(classifier, test_set))"
   ]
  },
  {
   "cell_type": "code",
   "execution_count": 9,
   "metadata": {},
   "outputs": [
    {
     "name": "stdout",
     "output_type": "stream",
     "text": [
      "0.772\n"
     ]
    }
   ],
   "source": [
    "#using too many features can lead to overfitting the training data\n",
    "def gender_features2(name):\n",
    "    features = {}\n",
    "    features[\"first_letter\"] = name[0].lower()\n",
    "    features[\"last_letter\"] = name[-1].lower()\n",
    "    for letter in 'abcdefghijklmnopqrstuvwxyz':\n",
    "        features[\"count({})\".format(letter)] = name.lower().count(letter)\n",
    "        features[\"has({})\".format(letter)] = (letter in name.lower())\n",
    "    return features\n",
    "featuresets = [(gender_features2(n), gender) for (n, gender) in labeled_names]\n",
    "train_set, test_set = featuresets[500:], featuresets[:500]\n",
    "classifier = nltk.NaiveBayesClassifier.train(train_set)\n",
    "print(nltk.classify.accuracy(classifier, test_set))"
   ]
  },
  {
   "cell_type": "code",
   "execution_count": 10,
   "metadata": {},
   "outputs": [
    {
     "name": "stdout",
     "output_type": "stream",
     "text": [
      "0.755\n"
     ]
    }
   ],
   "source": [
    "#error analysis\n",
    "#devtest set is used to perform error analysis\n",
    "train_names = labeled_names[1500:]\n",
    "devtest_names = labeled_names[500:1500]\n",
    "test_names = labeled_names[:500]\n",
    "\n",
    "train_set = [(gender_features(n), gender) for (n, gender) in train_names]\n",
    "devtest_set = [(gender_features(n), gender) for (n, gender) in devtest_names]\n",
    "test_set = [(gender_features(n), gender) for (n, gender) in test_names]\n",
    "\n",
    "classifier = nltk.NaiveBayesClassifier.train(train_set)\n",
    "print(nltk.classify.accuracy(classifier, devtest_set))"
   ]
  },
  {
   "cell_type": "code",
   "execution_count": 12,
   "metadata": {},
   "outputs": [
    {
     "name": "stdout",
     "output_type": "stream",
     "text": [
      "correct=female   guess=male     name=Alyss                         \n",
      "correct=female   guess=male     name=Amargo                        \n",
      "correct=female   guess=male     name=Ardeen                        \n",
      "correct=female   guess=male     name=Aryn                          \n",
      "correct=female   guess=male     name=Austin                        \n",
      "correct=female   guess=male     name=Beatriz                       \n",
      "correct=female   guess=male     name=Berget                        \n",
      "correct=female   guess=male     name=Bev                           \n",
      "correct=female   guess=male     name=Brandais                      \n",
      "correct=female   guess=male     name=Brier                         \n",
      "correct=female   guess=male     name=Brigid                        \n",
      "correct=female   guess=male     name=Brit                          \n",
      "correct=female   guess=male     name=Cal                           \n",
      "correct=female   guess=male     name=Charis                        \n",
      "correct=female   guess=male     name=Charlot                       \n",
      "correct=female   guess=male     name=Cher                          \n",
      "correct=female   guess=male     name=Chris                         \n",
      "correct=female   guess=male     name=Clem                          \n",
      "correct=female   guess=male     name=Cleo                          \n",
      "correct=female   guess=male     name=Clio                          \n",
      "correct=female   guess=male     name=Clovis                        \n",
      "correct=female   guess=male     name=Dallas                        \n",
      "correct=female   guess=male     name=Deloris                       \n",
      "correct=female   guess=male     name=Denys                         \n",
      "correct=female   guess=male     name=Dion                          \n",
      "correct=female   guess=male     name=Eran                          \n",
      "correct=female   guess=male     name=Fan                           \n",
      "correct=female   guess=male     name=Fawn                          \n",
      "correct=female   guess=male     name=Fiann                         \n",
      "correct=female   guess=male     name=Floris                        \n",
      "correct=female   guess=male     name=Fred                          \n",
      "correct=female   guess=male     name=Gates                         \n",
      "correct=female   guess=male     name=Guendolen                     \n",
      "correct=female   guess=male     name=Gwendolyn                     \n",
      "correct=female   guess=male     name=Harley                        \n",
      "correct=female   guess=male     name=Hedvig                        \n",
      "correct=female   guess=male     name=Helen-Elizabeth               \n",
      "correct=female   guess=male     name=Hillary                       \n",
      "correct=female   guess=male     name=Ingeborg                      \n",
      "correct=female   guess=male     name=Ingrid                        \n",
      "correct=female   guess=male     name=Iris                          \n",
      "correct=female   guess=male     name=Ivy                           \n",
      "correct=female   guess=male     name=Jazmin                        \n",
      "correct=female   guess=male     name=Jeniffer                      \n",
      "correct=female   guess=male     name=Jennifer                      \n",
      "correct=female   guess=male     name=Jo Ann                        \n",
      "correct=female   guess=male     name=Kass                          \n",
      "correct=female   guess=male     name=Lil                           \n",
      "correct=female   guess=male     name=Lulu                          \n",
      "correct=female   guess=male     name=Mariam                        \n",
      "correct=female   guess=male     name=Marit                         \n",
      "correct=female   guess=male     name=Max                           \n",
      "correct=female   guess=male     name=Melicent                      \n",
      "correct=female   guess=male     name=Mildred                       \n",
      "correct=female   guess=male     name=Noreen                        \n",
      "correct=female   guess=male     name=Olly                          \n",
      "correct=female   guess=male     name=Pam                           \n",
      "correct=female   guess=male     name=Pat                           \n",
      "correct=female   guess=male     name=Pegeen                        \n",
      "correct=female   guess=male     name=Phylys                        \n",
      "correct=female   guess=male     name=Ragnhild                      \n",
      "correct=female   guess=male     name=Rahal                         \n",
      "correct=female   guess=male     name=Rey                           \n",
      "correct=female   guess=male     name=Robbin                        \n",
      "correct=female   guess=male     name=Romy                          \n",
      "correct=female   guess=male     name=Sal                           \n",
      "correct=female   guess=male     name=Saraann                       \n",
      "correct=female   guess=male     name=Sherilyn                      \n",
      "correct=female   guess=male     name=Sheryl                        \n",
      "correct=female   guess=male     name=Shirl                         \n",
      "correct=female   guess=male     name=Shirleen                      \n",
      "correct=female   guess=male     name=Sybil                         \n",
      "correct=female   guess=male     name=Teddy                         \n",
      "correct=female   guess=male     name=Terri-Jo                      \n",
      "correct=female   guess=male     name=Tobey                         \n",
      "correct=female   guess=male     name=Tony                          \n",
      "correct=female   guess=male     name=Veradis                       \n",
      "correct=female   guess=male     name=Wendeline                     \n",
      "correct=female   guess=male     name=Wendie                        \n",
      "correct=female   guess=male     name=Wilone                        \n",
      "correct=female   guess=male     name=Winonah                       \n",
      "correct=female   guess=male     name=Yehudit                       \n",
      "correct=male     guess=female   name=Abdel                         \n",
      "correct=male     guess=female   name=Agustin                       \n",
      "correct=male     guess=female   name=Ajai                          \n",
      "correct=male     guess=female   name=Alfie                         \n",
      "correct=male     guess=female   name=Alfonse                       \n",
      "correct=male     guess=female   name=Allah                         \n",
      "correct=male     guess=female   name=Allen                         \n",
      "correct=male     guess=female   name=Anatole                       \n",
      "correct=male     guess=female   name=Andrej                        \n",
      "correct=male     guess=female   name=Antin                         \n",
      "correct=male     guess=female   name=Arron                         \n",
      "correct=male     guess=female   name=Averell                       \n",
      "correct=male     guess=female   name=Averill                       \n",
      "correct=male     guess=female   name=Baily                         \n",
      "correct=male     guess=female   name=Barclay                       \n",
      "correct=male     guess=female   name=Barney                        \n",
      "correct=male     guess=female   name=Barth                         \n",
      "correct=male     guess=female   name=Bela                          \n",
      "correct=male     guess=female   name=Billie                        \n",
      "correct=male     guess=female   name=Billy                         \n",
      "correct=male     guess=female   name=Broddie                       \n",
      "correct=male     guess=female   name=Cammy                         \n",
      "correct=male     guess=female   name=Carlin                        \n",
      "correct=male     guess=female   name=Cecil                         \n",
      "correct=male     guess=female   name=Chaddie                       \n",
      "correct=male     guess=female   name=Che                           \n",
      "correct=male     guess=female   name=Chen                          \n",
      "correct=male     guess=female   name=Clare                         \n",
      "correct=male     guess=female   name=Clarence                      \n",
      "correct=male     guess=female   name=Clive                         \n",
      "correct=male     guess=female   name=Coleman                       \n",
      "correct=male     guess=female   name=Corey                         \n",
      "correct=male     guess=female   name=Corwin                        \n",
      "correct=male     guess=female   name=Courtney                      \n",
      "correct=male     guess=female   name=Cyril                         \n",
      "correct=male     guess=female   name=Daffy                         \n",
      "correct=male     guess=female   name=Dana                          \n",
      "correct=male     guess=female   name=Dickey                        \n",
      "correct=male     guess=female   name=Dominique                     \n",
      "correct=male     guess=female   name=Doyle                         \n",
      "correct=male     guess=female   name=Duffie                        \n",
      "correct=male     guess=female   name=Dwain                         \n",
      "correct=male     guess=female   name=Dwane                         \n",
      "correct=male     guess=female   name=Eddie                         \n",
      "correct=male     guess=female   name=Elijah                        \n",
      "correct=male     guess=female   name=Enoch                         \n",
      "correct=male     guess=female   name=Esme                          \n",
      "correct=male     guess=female   name=Fidel                         \n",
      "correct=male     guess=female   name=Filipe                        \n",
      "correct=male     guess=female   name=Filmore                       \n",
      "correct=male     guess=female   name=Franky                        \n",
      "correct=male     guess=female   name=Freddie                       \n",
      "correct=male     guess=female   name=Garcia                        \n",
      "correct=male     guess=female   name=Garth                         \n",
      "correct=male     guess=female   name=Giovanni                      \n",
      "correct=male     guess=female   name=Godfry                        \n",
      "correct=male     guess=female   name=Grove                         \n",
      "correct=male     guess=female   name=Guillaume                     \n",
      "correct=male     guess=female   name=Henrique                      \n",
      "correct=male     guess=female   name=Huntlee                       \n",
      "correct=male     guess=female   name=Jameson                       \n",
      "correct=male     guess=female   name=Jean-Francois                 \n",
      "correct=male     guess=female   name=Jefferey                      \n",
      "correct=male     guess=female   name=Jefry                         \n",
      "correct=male     guess=female   name=Jeramie                       \n",
      "correct=male     guess=female   name=Jeromy                        \n",
      "correct=male     guess=female   name=Jerri                         \n",
      "correct=male     guess=female   name=Johan                         \n",
      "correct=male     guess=female   name=Jonah                         \n",
      "correct=male     guess=female   name=Jose                          \n",
      "correct=male     guess=female   name=Joseph                        \n",
      "correct=male     guess=female   name=Joshua                        \n",
      "correct=male     guess=female   name=Kalman                        \n",
      "correct=male     guess=female   name=Karsten                       \n",
      "correct=male     guess=female   name=Kelsey                        \n",
      "correct=male     guess=female   name=Kenyon                        \n",
      "correct=male     guess=female   name=Kingsly                       \n",
      "correct=male     guess=female   name=Klee                          \n",
      "correct=male     guess=female   name=Knox                          \n",
      "correct=male     guess=female   name=Lance                         \n",
      "correct=male     guess=female   name=Lane                          \n",
      "correct=male     guess=female   name=Laurance                      \n",
      "correct=male     guess=female   name=Lawerence                     \n",
      "correct=male     guess=female   name=Lawson                        \n",
      "correct=male     guess=female   name=Lemmie                        \n",
      "correct=male     guess=female   name=Lennie                        \n",
      "correct=male     guess=female   name=Lenny                         \n",
      "correct=male     guess=female   name=Leslie                        \n",
      "correct=male     guess=female   name=Levi                          \n",
      "correct=male     guess=female   name=Levy                          \n",
      "correct=male     guess=female   name=Lincoln                       \n",
      "correct=male     guess=female   name=Lindsay                       \n",
      "correct=male     guess=female   name=Locke                         \n",
      "correct=male     guess=female   name=Lonny                         \n",
      "correct=male     guess=female   name=Loren                         \n",
      "correct=male     guess=female   name=Lynn                          \n",
      "correct=male     guess=female   name=Mahesh                        \n",
      "correct=male     guess=female   name=Manny                         \n",
      "correct=male     guess=female   name=Marlin                        \n",
      "correct=male     guess=female   name=Marshall                      \n",
      "correct=male     guess=female   name=Marty                         \n",
      "correct=male     guess=female   name=Marwin                        \n",
      "correct=male     guess=female   name=Maurie                        \n",
      "correct=male     guess=female   name=Maury                         \n",
      "correct=male     guess=female   name=Maximilian                    \n",
      "correct=male     guess=female   name=Maximilien                    \n",
      "correct=male     guess=female   name=Micheal                       \n",
      "correct=male     guess=female   name=Michel                        \n",
      "correct=male     guess=female   name=Mika                          \n",
      "correct=male     guess=female   name=Mitchel                       \n",
      "correct=male     guess=female   name=Monroe                        \n",
      "correct=male     guess=female   name=Monte                         \n",
      "correct=male     guess=female   name=Morly                         \n",
      "correct=male     guess=female   name=Mortie                        \n",
      "correct=male     guess=female   name=Murdoch                       \n",
      "correct=male     guess=female   name=Murray                        \n",
      "correct=male     guess=female   name=Neddy                         \n",
      "correct=male     guess=female   name=Nikita                        \n",
      "correct=male     guess=female   name=Nikki                         \n",
      "correct=male     guess=female   name=Nikolai                       \n",
      "correct=male     guess=female   name=Niven                         \n",
      "correct=male     guess=female   name=Obie                          \n",
      "correct=male     guess=female   name=Odie                          \n",
      "correct=male     guess=female   name=Paddy                         \n",
      "correct=male     guess=female   name=Pepe                          \n",
      "correct=male     guess=female   name=Perry                         \n",
      "correct=male     guess=female   name=Piggy                         \n",
      "correct=male     guess=female   name=Prince                        \n",
      "correct=male     guess=female   name=Reece                         \n",
      "correct=male     guess=female   name=Reggy                         \n",
      "correct=male     guess=female   name=Rocky                         \n",
      "correct=male     guess=female   name=Rodolphe                      \n",
      "correct=male     guess=female   name=Rustie                        \n",
      "correct=male     guess=female   name=Rutledge                      \n",
      "correct=male     guess=female   name=Sammy                         \n",
      "correct=male     guess=female   name=Scotti                        \n",
      "correct=male     guess=female   name=Scottie                       \n",
      "correct=male     guess=female   name=Serge                         \n",
      "correct=male     guess=female   name=Shaine                        \n",
      "correct=male     guess=female   name=Sheffy                        \n",
      "correct=male     guess=female   name=Skelly                        \n",
      "correct=male     guess=female   name=Sparky                        \n",
      "correct=male     guess=female   name=Spence                        \n",
      "correct=male     guess=female   name=Stanleigh                     \n",
      "correct=male     guess=female   name=Stanley                       \n",
      "correct=male     guess=female   name=Steve                         \n",
      "correct=male     guess=female   name=Stevy                         \n",
      "correct=male     guess=female   name=Tammie                        \n",
      "correct=male     guess=female   name=Tarrance                      \n",
      "correct=male     guess=female   name=Tedie                         \n",
      "correct=male     guess=female   name=Thorndike                     \n",
      "correct=male     guess=female   name=Timothy                       \n",
      "correct=male     guess=female   name=Tome                          \n",
      "correct=male     guess=female   name=Udale                         \n",
      "correct=male     guess=female   name=Uli                           \n",
      "correct=male     guess=female   name=Vachel                        \n",
      "correct=male     guess=female   name=Vassily                       \n",
      "correct=male     guess=female   name=Verney                        \n",
      "correct=male     guess=female   name=Vince                         \n",
      "correct=male     guess=female   name=Westbrooke                    \n",
      "correct=male     guess=female   name=Zacherie                      \n",
      "correct=male     guess=female   name=Zachery                       \n",
      "correct=male     guess=female   name=Zane                          \n"
     ]
    }
   ],
   "source": [
    "errors = []\n",
    "for (name, tag) in devtest_names:\n",
    "     guess = classifier.classify(gender_features(name))\n",
    "     if guess != tag:\n",
    "         errors.append( (tag, guess, name) )\n",
    "            \n",
    "for (tag, guess, name) in sorted(errors):\n",
    "    print('correct={:<8} guess={:<8s} name={:<30}'.format(tag, guess, name))"
   ]
  },
  {
   "cell_type": "code",
   "execution_count": 13,
   "metadata": {},
   "outputs": [
    {
     "name": "stdout",
     "output_type": "stream",
     "text": [
      "0.778\n"
     ]
    }
   ],
   "source": [
    "'''names ending in yn are predominantly female,\n",
    "despite names ending in n being prefominantly male'''\n",
    "def gender_features(word):\n",
    "     return {'suffix1': word[-1:],\n",
    "             'suffix2': word[-2:]}\n",
    "train_set = [(gender_features(n), gender) for (n, gender) in train_names]\n",
    "devtest_set = [(gender_features(n), gender) for (n, gender) in devtest_names]\n",
    "test_set = [(gender_features(n), gender) for (n, gender) in test_names]\n",
    "\n",
    "classifier = nltk.NaiveBayesClassifier.train(train_set)\n",
    "print(nltk.classify.accuracy(classifier, devtest_set))"
   ]
  },
  {
   "cell_type": "code",
   "execution_count": 15,
   "metadata": {},
   "outputs": [
    {
     "name": "stdout",
     "output_type": "stream",
     "text": [
      "{'contains(borderlines)': False, 'contains(exotically)': False, 'contains(downcast)': False, 'contains(turn)': False, 'contains(cheating)': False, 'contains(eludes)': False, 'contains(geologist)': False, 'contains(herbal)': False, 'contains(happening)': False, 'contains(infallibility)': False, 'contains(tradiational)': False, 'contains(cares)': False, 'contains(scholl)': False, 'contains(spaceflight)': False, 'contains(orange)': False, 'contains(kaczynski)': False, 'contains(lanced)': False, 'contains(prevert)': False, 'contains(sayles)': False, 'contains(&#)': False, 'contains(collectibles)': False, 'contains(verbalized)': False, 'contains(36th)': False, 'contains(propoganda)': False, 'contains(matalin)': False, 'contains(richness)': False, 'contains(devastation)': False, 'contains(certain)': False, 'contains(roster)': False, 'contains(stonily)': False, 'contains(rossellinia)': False, 'contains(proposing)': False, 'contains(undefeatable)': False, 'contains(synthesizer)': False, 'contains(predominately)': False, 'contains(thanklessly)': False, 'contains(innappropriate)': False, 'contains(counterfeiter)': False, 'contains(filing)': False, 'contains(gossipy)': False, 'contains(115)': False, 'contains(shepherd)': False, 'contains(yoda)': False, 'contains(han)': False, 'contains(phallus)': False, 'contains(carnality)': False, 'contains(muddies)': False, 'contains(olek)': False, 'contains(abort)': False, 'contains(goonies)': False, 'contains(outgoing)': False, 'contains(straights)': False, 'contains(captivate)': False, 'contains(rotates)': False, 'contains(cancelled)': False, 'contains(c3)': False, 'contains(accosted)': False, 'contains(intrigues)': False, 'contains(_poltergeist_)': False, 'contains(infantrymen)': False, 'contains(conjunction)': False, 'contains(diverse)': False, 'contains(dabney)': False, 'contains(lechter)': False, 'contains(counsel)': False, 'contains(blemheim)': False, 'contains(dawson)': False, 'contains(remnants)': False, 'contains(rob)': False, 'contains(trust)': False, 'contains(fronted)': False, 'contains(coordinator)': False, 'contains(pignon)': False, 'contains(evenly)': False, 'contains(stiles)': False, 'contains(might)': False, 'contains(gloom)': False, 'contains(structured)': False, 'contains(puzo)': False, 'contains(acrobat)': False, 'contains(reincarnated)': False, 'contains(fowler)': False, 'contains(communicates)': False, 'contains(lighthearted)': False, 'contains(dachshund)': False, 'contains(deedee)': False, 'contains(939)': False, 'contains(upside)': False, 'contains(fairman)': False, 'contains(pasadena)': False, 'contains(practices)': False, 'contains(schmidt)': False, 'contains(teamed)': False, 'contains(shao)': False, 'contains(ella)': False, 'contains(guernica)': False, 'contains(pais)': False, 'contains(heavier)': False, 'contains(sith)': False, 'contains(character)': False, 'contains(richly)': False, 'contains(motherless)': False, 'contains(maverick)': False, 'contains(parasitic)': False, 'contains(speculator)': False, 'contains(regrettable)': False, 'contains(plissken)': False, 'contains(779)': False, 'contains(childbearings)': False, 'contains(glum)': False, 'contains(imo)': False, 'contains(roaches)': False, 'contains(paycheck)': False, 'contains(inversion)': False, 'contains(kafka)': False, 'contains(ashman)': False, 'contains(courier)': False, 'contains(lengthens)': False, 'contains(ruiz)': False, 'contains(wont)': False, 'contains(motss)': False, 'contains(recognisable)': False, 'contains(root)': True, 'contains(unbroken)': False, 'contains(superbowl)': False, 'contains(disorganization)': False, 'contains(independent)': False, 'contains(extraneous)': False, 'contains(sharon)': False, 'contains(toting)': False, 'contains(winters)': False, 'contains(rejections)': False, 'contains(stringfield)': False, 'contains(hahaha)': False, 'contains(globus)': False, 'contains(mitsubishi)': False, 'contains(passangers)': False, 'contains(superstar)': False, 'contains(trucksploitation)': False, 'contains(lecter)': False, 'contains(lomper)': False, 'contains(whacko)': False, 'contains(labelled)': False, 'contains(flip)': False, 'contains(verdict)': False, 'contains(samaritan)': False, 'contains(osnard)': False, 'contains(lucent)': False, 'contains(grassroots)': False, 'contains(colorblind)': False, 'contains(fusing)': False, 'contains(burglars)': False, 'contains(chillingly)': False, 'contains(gator)': False, 'contains(expression)': False, 'contains(shit)': False, 'contains(untold)': False, 'contains(modernized)': False, 'contains(timberland)': False, 'contains(conceivable)': False, 'contains(deprecating)': False, 'contains(monstrosity)': False, 'contains(rejuvenating)': False, 'contains(wicca)': False, 'contains(ignoring)': False, 'contains(nighthawks)': False, 'contains(disabled)': False, 'contains(unreality)': False, 'contains(starve)': False, 'contains(progressed)': False, 'contains(1794)': False, 'contains(thora)': False, 'contains(headhunter)': False, 'contains(isn)': False, 'contains(guccione)': False, 'contains(lasse)': False, 'contains(culminate)': False, 'contains(session)': False, 'contains(loanshark)': False, 'contains(exploratory)': False, 'contains(promotions)': False, 'contains(manuscript)': False, 'contains(tia)': False, 'contains(frayn)': False, 'contains(sending)': False, 'contains(widescreen)': False, 'contains(wizards)': False, 'contains(cruising)': False, 'contains(obviousness)': False, 'contains(pates)': False, 'contains(function)': False, 'contains(snobby)': False, 'contains(link)': False, 'contains(atmospheric)': False, 'contains(murray)': False, 'contains(bred)': False, 'contains(noraruth)': False, 'contains(fbi)': False, 'contains(thurman)': False, 'contains(factory)': False, 'contains(staunton)': False, 'contains(honours)': False, 'contains(discussion)': False, 'contains(regretfully)': False, 'contains(lunkheads)': False, 'contains(crap)': False, 'contains(detract)': False, 'contains(furnace)': False, 'contains(pithy)': False, 'contains(manderley)': False, 'contains(homogenized)': False, 'contains(prettiest)': False, 'contains(@)': False, 'contains(burdick)': False, 'contains(ki)': False, 'contains(craftsmen)': False, 'contains(winslett)': False, 'contains(chevalier)': False, 'contains(judaism)': False, 'contains(batgirl)': False, 'contains(starring)': False, 'contains(polly)': False, 'contains(hitwoman)': False, 'contains(bartleby)': False, 'contains(styrofoam)': False, 'contains(fifth)': False, 'contains(diaries)': False, 'contains(preferably)': False, 'contains(breakups)': False, 'contains(amadeus)': False, 'contains(swinging)': False, 'contains(stepahne)': False, 'contains(thunderstorms)': False, 'contains(irreverent)': False, 'contains(problem)': False, 'contains(mathou)': False, 'contains(krishna)': False, 'contains(climact)': False, 'contains(deliberately)': False, 'contains(grudges)': False, 'contains(investigator)': False, 'contains(doomsaying)': False, 'contains(halfway)': False, 'contains(stentorian)': False, 'contains(unpublished)': False, 'contains(comprised)': False, 'contains(pounce)': False, 'contains(shell)': False, 'contains(martindale)': False, 'contains(mesh)': False, 'contains(bonnefroy)': False, 'contains(ramboids)': False, 'contains(dice)': False, 'contains(demonstrably)': False, 'contains(zappa)': False, 'contains(water)': False, 'contains(slot)': False, 'contains(servant)': False, 'contains(6th)': False, 'contains(groans)': False, 'contains(humphry)': False, 'contains(challenging)': False, 'contains(graphic)': False, 'contains(offscreen)': False, 'contains(fischer)': False, 'contains(lie)': False, 'contains(perpetrator)': False, 'contains(substances)': False, 'contains(thal)': False, 'contains(guts)': False, 'contains(payne)': False, 'contains(calculated)': False, 'contains(tamara)': False, 'contains(visualizing)': False, 'contains(lessened)': False, 'contains(team)': False, 'contains(grizzly)': False, 'contains(scroll)': False, 'contains(dawkins)': False, 'contains(pavlov)': False, 'contains(hab)': False, 'contains(squinting)': False, 'contains(flaunted)': False, 'contains(tricked)': False, 'contains(supermodels)': False, 'contains(crash)': False, 'contains(imprison)': False, 'contains(tarheels)': False, 'contains(640)': False, 'contains(closets)': False, 'contains(scheduling)': False, 'contains(nbsp)': False, 'contains(conversational)': False, 'contains(techs)': False, 'contains(dexterity)': False, 'contains(puzzling)': False, 'contains(cake)': False, 'contains(chunky)': False, 'contains(usa)': False, 'contains(exaggerations)': False, 'contains(appalling)': False, 'contains(eyeroll)': False, 'contains(chameleonic)': False, 'contains(trace)': False, 'contains(irreverence)': False, 'contains(psychosis)': False, 'contains(ideal)': False, 'contains(marianna)': False, 'contains(nobuko)': False, 'contains(sideswipes)': False, 'contains(peacably)': False, 'contains(slashfest)': False, 'contains(finesses)': False, 'contains(bevy)': False, 'contains(ditch)': False, 'contains(steeped)': False, 'contains(65th)': False, 'contains(evade)': False, 'contains(gaerity)': False, 'contains(value)': False, 'contains(100)': False, 'contains(squeaky)': False, 'contains(unpolished)': False, 'contains(unsuspenseful)': False, 'contains(begets)': False, 'contains(adores)': False, 'contains(sullivans)': False, 'contains(meager)': False, 'contains(falls)': False, 'contains(conspirators)': False, 'contains(defied)': False, 'contains(erickson)': False, 'contains(herrmann)': False, 'contains(taggart)': False, 'contains(statistical)': False, 'contains(elation)': False, 'contains(shuffle)': False, 'contains(nair)': False, 'contains(navigator)': False, 'contains(corporal)': False, 'contains(clair)': False, 'contains(maudlin)': False, 'contains(xerox)': False, 'contains(retired)': False, 'contains(enhancing)': False, 'contains(darabont)': False, 'contains(usage)': False, \"contains(')\": True, 'contains(sonic)': False, 'contains(ditties)': False, 'contains(upstate)': False, 'contains(congress)': False, 'contains(hardest)': False, 'contains(magnificient)': False, 'contains(emblazoned)': False, 'contains(lobotomies)': False, 'contains(geezer)': False, 'contains(ancestors)': False, 'contains(sentimentally)': False, 'contains(natives)': False, 'contains(microphage)': False, 'contains(miscalculation)': False, 'contains(tubby)': False, 'contains(judah)': False, 'contains(drawbridge)': False, 'contains(swansong)': False, 'contains(munchkin)': False, 'contains(zurg)': False, 'contains(teenager)': False, 'contains(book)': False, 'contains(palladium)': False, 'contains(leslie)': False, 'contains(strident)': False, 'contains(shoving)': False, 'contains(fugitive)': False, 'contains(bullet)': False, 'contains(entice)': False, 'contains(nuttiness)': False, 'contains(swiped)': False, 'contains(knows)': False, 'contains(elmaloglou)': False, 'contains(meter)': False, 'contains(wife)': True, 'contains(grounded)': False, 'contains(transfusions)': False, 'contains(shoestring)': False, 'contains(acme)': False, 'contains(lame)': False, 'contains(sharpest)': False, 'contains(overly)': False, 'contains(skateboarding)': False, 'contains(headful)': False, 'contains(mutilating)': False, 'contains(otherness)': False, 'contains(specificity)': False, 'contains(methodically)': False, 'contains(swingers)': False, 'contains(onwards)': False, 'contains(monstrous)': False, 'contains(telegraphic)': False, 'contains(shoes)': False, 'contains(hispanic)': False, 'contains(golfer)': False, 'contains(hauer)': False, 'contains(paradine)': False, 'contains(approximately)': False, 'contains(vivre)': False, 'contains(stature)': False, 'contains(crate)': False, 'contains(sleek)': False, 'contains(ology)': False, 'contains(compromises)': False, 'contains(sluttish)': False, 'contains(_does_)': False, 'contains(discoverer)': False, 'contains(nyah)': False, 'contains(hobbling)': False, 'contains(vaild)': False, 'contains(boringly)': False, 'contains(rooster)': False, 'contains(nestled)': False, 'contains(ranks)': False, 'contains(reprising)': False, 'contains(fink)': False, 'contains(teasers)': False, 'contains(graced)': False, 'contains(academy)': False, 'contains(negatives)': False, 'contains(fallible)': False, 'contains(swordplay)': False, 'contains(motivated)': False, 'contains(gory)': False, 'contains(minutiae)': False, 'contains(civilised)': False, 'contains(remove)': False, 'contains(realy)': False, 'contains(denying)': False, 'contains(yearbook)': False, 'contains(veins)': False, 'contains(hub)': False, 'contains(van)': False, 'contains(grandeur)': False, 'contains(offends)': False, 'contains(warda)': False, 'contains(bluish)': False, 'contains(practicing)': False, 'contains(promiss)': False, 'contains(plummer)': False, 'contains(rapper)': False, 'contains(teams)': False, 'contains(lend)': False, 'contains(liberals)': False, 'contains(gusty)': False, 'contains(equiped)': False, 'contains(chaired)': False, 'contains(ming)': False, 'contains(cowboys)': False, 'contains(cydonia)': False, 'contains(associated)': False, 'contains(consumated)': False, 'contains(nurses)': False, 'contains(bluntness)': False, 'contains(pretends)': False, 'contains(verplanck)': False, 'contains(limply)': False, 'contains(home)': False, 'contains(angular)': False, 'contains(bigotry)': False, 'contains(decades)': False, 'contains(sans)': False, 'contains(module)': False, 'contains(introspective)': False, 'contains(leto)': False, 'contains(covetous)': False, 'contains(1692)': False, 'contains(thubten)': False, 'contains(refinery)': False, 'contains(leiter)': False, 'contains(dextrous)': False, 'contains(inputs)': False, 'contains(constrictor)': False, 'contains(portinari)': False, 'contains(hawking)': False, 'contains(commit)': False, 'contains(moonshine)': False, 'contains(delegates)': False, 'contains(normandy)': False, 'contains(razor)': False, 'contains(littles)': False, 'contains(janitor)': False, 'contains(batteries)': False, 'contains(remington)': False, 'contains(dormitory)': False, 'contains(seals)': False, 'contains(zeist)': False, 'contains(unequivocal)': False, 'contains(whimpers)': False, 'contains(zingers)': False, 'contains(pervert)': False, 'contains(just)': True, 'contains(amenities)': False, 'contains(streep)': False, 'contains(sunniness)': False, 'contains(finish)': False, 'contains(skimming)': False, 'contains(neurological)': False, 'contains(hoosiers)': False, 'contains(anticlimax)': False, 'contains(painted)': False, 'contains(blankety)': False, 'contains(appetite)': False, 'contains(microbombs)': False, 'contains(spirals)': False, 'contains(fervour)': False, 'contains(shortcut)': False, 'contains(um)': False, 'contains(ground)': False, 'contains(kolya)': False, 'contains(panning)': False, 'contains(african)': False, 'contains(hamburger)': False, 'contains(wga)': False, 'contains(treacherous)': False, 'contains(summit)': False, 'contains(titles)': False, 'contains(fl)': False, 'contains(philips)': False, 'contains(vining)': False, 'contains(ghidrah)': False, 'contains(mcgill)': False, 'contains(unapologetically)': False, 'contains(cellar)': False, 'contains(applause)': False, 'contains(rampage)': False, 'contains(bud)': False, 'contains(bosses)': False, 'contains(shannon)': False, 'contains(syrup)': False, 'contains(moores)': False, 'contains(fundamental)': False, 'contains(grossie)': False, 'contains(y)': False, 'contains(closet)': False, 'contains(krypton)': False, 'contains(disconnected)': False, 'contains(mystics)': False, 'contains(backing)': False, 'contains(comic)': False, 'contains(institution)': False, 'contains(cohn)': False, 'contains(rancor)': False, 'contains(interfering)': False, 'contains(shifted)': False, 'contains(knives)': False, 'contains(sinks)': False, 'contains(chugging)': False, 'contains(boats)': False, 'contains(ryan)': False, 'contains(sayinig)': False, 'contains(angry)': False, 'contains(ailment)': False, 'contains(hitchhike)': False, 'contains(lightsaber)': False, 'contains(winner)': False, 'contains(immersive)': False, 'contains(cryptically)': False, 'contains(tearfully)': False, 'contains(jimmi)': False, 'contains(although)': False, 'contains(birdhouse)': False, 'contains(messiest)': False, 'contains(hulce)': False, 'contains(bard)': False, 'contains(secures)': False, 'contains(utter)': False, 'contains(sgt)': False, 'contains(scrambled)': False, 'contains(throbbing)': False, 'contains(part)': False, 'contains(embellish)': False, 'contains(tentacles)': False, 'contains(predicting)': False, 'contains(kersey)': False, 'contains(ebonics)': False, 'contains(midknight)': False, 'contains(swindled)': False, 'contains(leery)': False, 'contains(summaries)': False, 'contains(gathering)': False, 'contains(ro)': False, 'contains(suits)': False, 'contains(berkeley)': False, 'contains(bandanna)': False, 'contains(demons)': False, 'contains(turvey)': False, 'contains(accomplice)': False, 'contains(brahma)': False, 'contains(sydni)': False, 'contains(covered)': False, 'contains(supplier)': False, 'contains(hellbent)': False, 'contains(kimba)': False, 'contains(etched)': False, 'contains(portrtayal)': False, 'contains(goldman)': False, 'contains(total)': False, 'contains(monumental)': False, 'contains(lucilla)': False, 'contains(mib)': False, 'contains(liman)': False, 'contains(bamboo)': False, 'contains(scientifically)': False, 'contains(residing)': False, 'contains(donahue)': False, 'contains(unceremoniously)': False, 'contains(rites)': False, 'contains(veracity)': False, 'contains(cornish)': False, 'contains(consummate)': False, 'contains(ritchies)': False, 'contains(thuroughly)': False, 'contains(cringeworthy)': False, 'contains(walton)': False, 'contains(role)': False, 'contains(gunpoint)': False, 'contains(wring)': False, 'contains(shiftlessness)': False, 'contains(incompletely)': False, 'contains(sappily)': False, 'contains(noirs)': False, 'contains(uncharismatic)': False, 'contains(rudy)': False, 'contains(cheapens)': False, 'contains(accentuating)': False, 'contains(trekkers)': False, 'contains(handing)': False, 'contains(underwent)': False, 'contains(weddell)': False, 'contains(progeny)': False, 'contains(greater)': False, 'contains(dispatch)': False, 'contains(doesn)': False, 'contains(put)': False, 'contains(cerebellum)': False, 'contains(lindinger)': False, 'contains(condescension)': False, 'contains(sore)': False, 'contains(mothering)': False, 'contains(superstars)': False, 'contains(nntp)': False, 'contains(edward)': False, 'contains(david)': False, 'contains(arrrrrrrghhhh)': False, 'contains(mucus)': False, 'contains(trailed)': False, 'contains(clips)': False, 'contains(1896)': False, 'contains(followups)': False, 'contains(judges)': False, 'contains(poodle)': False, 'contains(pampered)': False, 'contains(freaky)': False, 'contains(incidental)': False, 'contains(sunk)': False, 'contains(zinnemman)': False, 'contains(snuffing)': False, 'contains(matriarchal)': False, 'contains(clifford)': False, 'contains(rafael)': False, 'contains(encourage)': False, 'contains(ngoc)': False, 'contains(wiseguy)': False, 'contains(resisting)': False, 'contains(trillions)': False, 'contains(averse)': False, 'contains(watchability)': False, 'contains(riddick)': False, 'contains(floom)': False, 'contains(meanies)': False, 'contains(supervirus)': False, 'contains(dubbing)': False, 'contains(shortly)': False, 'contains(entering)': False, 'contains(knox)': False, 'contains(icecream)': False, 'contains(exclaim)': False, 'contains(wheel)': False, 'contains(pig)': False, 'contains(kindhearted)': False, 'contains(qin)': False, 'contains(lusts)': False, 'contains(panorama)': False, 'contains(stoppable)': False, 'contains(sessions)': False, 'contains(corralled)': False, 'contains(alterations)': False, 'contains(cerebrality)': False, 'contains(arbiters)': False, 'contains(attributes)': False, 'contains(memento)': False, 'contains(class)': False, 'contains(articles)': False, 'contains(bemoans)': False, 'contains(fehmiu)': False, 'contains(stapleton)': False, 'contains(adulthood)': False, 'contains(centre)': False, 'contains(uppedity)': False, 'contains(pfferpot)': False, 'contains(schwarztman)': False, 'contains(dissembles)': False, 'contains(cessation)': False, 'contains(porno)': False, 'contains(reaching)': False, 'contains(those)': False, 'contains(doesn9t)': False, 'contains(toole)': False, 'contains(milder)': False, 'contains(mishears)': False, 'contains(sandwiched)': False, 'contains(prosaic)': False, 'contains(weakening)': False, 'contains(zorro)': False, 'contains(command)': False, 'contains(stow)': False, 'contains(_william_shakespeare)': False, 'contains(stories)': False, 'contains(rosenberg)': False, 'contains(whalberg)': False, 'contains(trendsetters)': False, 'contains(idle)': False, 'contains(attributable)': False, 'contains(_some_)': False, 'contains(reads)': False, 'contains(drop)': False, 'contains(humiliations)': False, 'contains(mj)': False, 'contains(shocker)': False, 'contains(tingle)': False, 'contains(tigerland)': False, 'contains(brutish)': False, 'contains(dignities)': False, 'contains(sideshow)': False, 'contains(mirrors)': False, 'contains(pecked)': False, 'contains(vinyl)': False, 'contains(gobbledygook)': False, 'contains(york_)': False, 'contains(curfew)': False, 'contains(legitimate)': False, 'contains(highwaymen)': False, 'contains(separations)': False, 'contains(_54_)': False, 'contains(organs)': False, 'contains(unnoticed)': False, 'contains(schematic)': False, 'contains(delve)': False, 'contains(laps)': False, 'contains(regime)': False, 'contains(health)': False, 'contains(summary)': False, 'contains(cranking)': False, 'contains(pitying)': False, 'contains(pill)': False, 'contains(panties)': False, 'contains(niall)': False, 'contains(analytical)': False, 'contains(anatomical)': False, 'contains(heenan)': False, 'contains(whereas)': False, 'contains(distilling)': False, 'contains(soundbites)': False, 'contains(merteuil)': False, 'contains(gangstar)': False, 'contains(holders)': False, 'contains(overbearingly)': False, 'contains(overacts)': False, 'contains(denzel)': False, 'contains(spawns)': False, 'contains(goldfish)': False, 'contains(chauffeur)': False, 'contains(_schindler)': False, 'contains(actuality)': False, 'contains(daydream)': False, 'contains(oddest)': False, 'contains(drumroll)': False, 'contains(panavision)': False, 'contains(poodles)': False, 'contains(rossi)': False, 'contains(imaging)': False, 'contains(sympathizer)': False, 'contains(acted)': False, 'contains(defeaning)': False, 'contains(tangentially)': False, 'contains(groceries)': False, 'contains(quadruple)': False, 'contains(knifed)': False, 'contains(turgeon)': False, 'contains(properly)': False, 'contains(cups)': False, 'contains(beal)': False, 'contains(irving)': False, 'contains(snip)': False, 'contains(_patlabor_)': False, 'contains(waves)': False, 'contains(psycholically)': False, 'contains(gook)': False, 'contains(disarray)': False, 'contains(marni)': False, 'contains(bestowed)': False, 'contains(shivers)': False, 'contains(discredit)': False, 'contains(sublte)': False, 'contains(accessible)': False, 'contains(hunt)': False, 'contains(ecstasy)': False, 'contains(mysterioso)': False, 'contains(iranian)': False, 'contains(led)': False, 'contains(nonense)': False, 'contains(giorgio)': False, 'contains(seargent)': False, 'contains(repetitions)': False, 'contains(shorty)': False, 'contains(predicate)': False, 'contains(personification)': False, 'contains(papaya)': False, 'contains(dostoevsky)': False, 'contains(holdup)': False, 'contains(gayheart)': False, 'contains(oath)': False, 'contains(fisher)': False, 'contains(breathed)': False, 'contains(regicide)': False, 'contains(oblige)': False, 'contains(biehn)': False, 'contains(archery)': False, 'contains(textbook)': False, 'contains(103)': False, 'contains(recurring)': False, 'contains(griswolds)': False, 'contains(inflicted)': False, 'contains(pollination)': False, 'contains(hyam)': False, 'contains(movies)': True, 'contains(lungs)': False, 'contains(tek)': False, 'contains(edu)': False, 'contains(robb)': False, 'contains(mcbride)': False, 'contains(metzler)': False, 'contains(frivolous)': False, 'contains(bestselling)': False, 'contains(summarizing)': False, 'contains(canvas)': False, 'contains(fennyman)': False, 'contains(casted)': False, 'contains(trapper)': False, 'contains(contemplation)': False, 'contains(tamora)': False, 'contains(reappeared)': False, 'contains(maxine)': False, 'contains(onegin)': False, 'contains(smoked)': False, 'contains(reparations)': False, 'contains(lightheartedness)': False, 'contains(forests)': False, 'contains(loren)': False, 'contains(ladybugs)': False, 'contains(dymanite)': False, 'contains(duality)': False, 'contains(donor)': False, 'contains(muck)': False, 'contains(rod)': False, 'contains(distraction)': False, 'contains(mixer)': False, 'contains(florence)': False, 'contains(showers)': False, 'contains(challenge)': False, 'contains(blunt)': False, 'contains(dissipated)': False, 'contains(pimps)': False, 'contains(ample)': False, 'contains(championing)': False, 'contains(awoken)': False, 'contains(c)': False, 'contains(publishes)': False, 'contains(gretta)': False, 'contains(funky)': False, 'contains(trashcan)': False, 'contains(stopwatch)': False, 'contains(apparatus)': False, 'contains(courthouse)': False, 'contains(prefabricated)': False, 'contains(underappreciated)': False, 'contains(tenacity)': False, 'contains(confidant)': False, 'contains(clavell)': False, 'contains(shelled)': False, 'contains(trekked)': False, 'contains(within)': False, 'contains(meditate)': False, 'contains(reptile)': False, 'contains(isacsson)': False, 'contains(scratched)': False, 'contains(volcanoes)': False, 'contains(channel)': False, 'contains(fichtner)': False, 'contains(surfer)': False, 'contains(toss)': False, 'contains(gu)': False, 'contains(oreo)': False, 'contains(mede)': False, 'contains(natassja)': False, 'contains(emblems)': False, 'contains(ends)': False, 'contains(consist)': False, 'contains(dedicates)': False, 'contains(swelling)': False, 'contains(ami)': False, 'contains(sticker)': False, 'contains(wears)': False, 'contains(illicitly)': False, 'contains(badlands)': False, 'contains(ploy)': False, 'contains(cooking)': False, 'contains(carrying)': False, 'contains(string)': False, 'contains(hendra)': False, 'contains(drastic)': False, 'contains(narrators)': False, 'contains(unerotic)': False, 'contains(pruitt)': False, 'contains(glares)': False, 'contains(unwavering)': False, 'contains(carolyn)': False, 'contains(mutually)': False, 'contains(enola)': False, 'contains(thyme)': False, 'contains(sentimentality)': False, 'contains(saturday)': False, 'contains(chaos)': False, 'contains(mis)': False, 'contains(faster)': False, 'contains(petrucelli)': False, 'contains(floris)': False, 'contains(volunteer)': False, 'contains(bellboy)': False, 'contains(vigil)': False, 'contains(beckoned)': False, 'contains(francois)': False, 'contains(dehumanization)': False, 'contains(unredeemable)': False, 'contains(follow)': False, 'contains(turning)': False, 'contains(lazily)': False, 'contains(colonists)': False, 'contains(estrogen)': False, 'contains(yuri)': False, 'contains(harboring)': False, 'contains(hackman)': False, 'contains(radio)': False, 'contains(manipulations)': False, 'contains(solitary)': False, 'contains(collap)': False, 'contains(herrington)': False, 'contains(pf)': False, 'contains(rubber)': False, 'contains(befriending)': False, 'contains(eaddress)': False, 'contains(maxime)': False, 'contains(vanzant)': False, 'contains(anecdotal)': False, 'contains(costello)': False, 'contains(spared)': False, 'contains(felliniesque)': False, 'contains(kei)': False, 'contains(charms)': False, 'contains(wasted)': False, 'contains(piggy)': False, 'contains(sappiness)': False, 'contains(tannen)': False, 'contains(hua)': False, 'contains(telepathically)': False, 'contains(floats_)': False, 'contains(consultant)': False, 'contains(misogynist)': False, 'contains(multiplexes)': False, 'contains(massironi)': False, 'contains(kellogg)': False, 'contains(trumpet)': False, 'contains(animalities)': False, 'contains(kumble)': False, 'contains(chubby)': False, 'contains(bonnier)': False, 'contains(consummating)': False, 'contains(undercut)': False, 'contains(dirtier)': False, 'contains(timo)': False, 'contains(teaspoons)': False, 'contains(spence)': False, 'contains(gesserits)': False, 'contains(priceless)': False, 'contains(leelee)': False, 'contains(someone)': False, 'contains(frying)': False, 'contains(licensed)': False, 'contains(ferdinand)': False, 'contains(copeland)': False, 'contains(frizzy)': False, 'contains(beware)': False, 'contains(candies)': False, 'contains(cavalry)': False, 'contains(beaufoy)': False, 'contains(prediction)': False, 'contains(doyle)': False, 'contains(bertram)': False, 'contains(publishing)': False, 'contains(paramedic)': False, 'contains(aaron)': False, 'contains(rimbaud)': False, 'contains(masterwork)': False, 'contains(moniters)': False, 'contains(sterotypically)': False, 'contains(rose)': False, 'contains(equipped)': False, 'contains(korshonov)': False, 'contains(crewmen)': False, 'contains(barksdale)': False, 'contains(blurts)': False, 'contains(mindel)': False, 'contains(filipino)': False, 'contains(psychopaths)': False, 'contains(uninfected)': False, 'contains(honoring)': False, 'contains(reminding)': False, 'contains(persnickety)': False, 'contains(bucketsful)': False, 'contains(koons)': False, 'contains(brightly)': False, 'contains(diverting)': False, 'contains(pilkington)': False, 'contains(outgrows)': False, 'contains(unpredictable)': False, \"contains('-)\": False, 'contains(guttenberg)': False, 'contains(protestor)': False, 'contains(topical)': False, 'contains(jana)': False, 'contains(afflicted)': False, 'contains(energetic)': False, 'contains(hockney)': False, 'contains(partment)': False, 'contains(popcorn)': False, 'contains(bouts)': False, 'contains(plexiglas)': False, 'contains(battlefield)': False, 'contains(obtuse)': False, 'contains(alfredo)': False, 'contains(surrounded)': False, 'contains(publish)': False, 'contains(backpedal)': False, 'contains(tax)': False, 'contains(barbarity)': False, 'contains(cruisers)': False, 'contains(influences)': False, 'contains(correlate)': False, 'contains(suspenser)': False, 'contains(magistrate)': False, 'contains(figaro)': False, 'contains(gunslinger)': False, 'contains(marriageable)': False, 'contains(receiveth)': False, 'contains(elgin)': False, 'contains(bernsen)': False, 'contains(spartacus)': False, 'contains(rediscovered)': False, 'contains(300)': False, 'contains(dies)': False, 'contains(pendel)': False, 'contains(solves)': False, 'contains(adoption)': False, 'contains(sancho)': False, 'contains(snagged)': False, 'contains(paul)': False, 'contains(objected)': False, 'contains(vega)': False, 'contains(misdemeanors)': False, 'contains(obstructing)': False, 'contains(thoughtfully)': False, 'contains(tattoo)': False, 'contains(earl)': False, 'contains(contract)': False, 'contains(processions)': False, 'contains(an)': True, 'contains(boathouse)': False, 'contains(exacty)': False, 'contains(marvelously)': False, 'contains(kickboxing)': False, 'contains(industries)': False, 'contains(dickens)': False, 'contains(guiltily)': False, 'contains(dispondent)': False, 'contains(gangly)': False, 'contains(adrianne)': False, 'contains(supergenius)': False, 'contains(banter)': False, 'contains(happily)': False, 'contains(forum)': False, 'contains(reacquaint)': False, 'contains(oriented)': False, 'contains(spilt)': False, 'contains(forgoes)': False, 'contains(reviewing)': False, 'contains(privileges)': False, 'contains(howard)': False, 'contains(composed)': False, 'contains(currents)': False, 'contains(undistinguished)': False, 'contains(roller)': False, 'contains(deportee)': False, 'contains(drumlin)': False, 'contains(villages)': False, 'contains(seeking)': False, 'contains(capano)': False, 'contains(priestley)': False, 'contains(waist)': False, 'contains(fortunately)': False, 'contains(dynamic)': False, 'contains(gift)': False, 'contains(renshaw)': False, 'contains(implausibility)': False, 'contains(sipping)': False, 'contains(wagered)': False, 'contains(hitches)': False, 'contains(bridging)': False, 'contains(overpowered)': False, 'contains(presiding)': False, 'contains(vampira)': False, 'contains(stifle)': False, 'contains(seasoned)': False, 'contains(worrying)': False, 'contains(startrek)': False, 'contains(november)': False, 'contains(adjective)': False, 'contains(note)': False, 'contains(bakker)': False, 'contains(outshine)': False, 'contains(elevated)': False, 'contains(incisive)': False, 'contains(noir)': False, 'contains(forges)': False, 'contains(silk)': False, 'contains(doss)': False, 'contains(skelton)': False, 'contains(interrelated)': False, 'contains(unlovable)': False, 'contains(cumming)': False, 'contains(mail)': False, 'contains(maples)': False, 'contains(corridor)': False, 'contains(40mins)': False, 'contains(grammar)': False, 'contains(gloat)': False, 'contains(comrade)': False, 'contains(helpful)': False, 'contains(bartkiwiak)': False, 'contains(tour)': False, 'contains(joined)': False, 'contains(extremism)': False, 'contains(seemingly)': False, 'contains(obligation)': False, 'contains(kiki)': False, 'contains(rubin)': False, 'contains(sunglasses)': False, 'contains(78)': False, 'contains(interviewees)': False, 'contains(sparring)': False, 'contains(pupils)': False, 'contains(risa)': False, 'contains(scarborough)': False, 'contains(guggenheim)': False, 'contains(gentleman)': False, 'contains(witt)': False, 'contains(chickens)': False, 'contains(humanizing)': False, 'contains(coughs)': False, 'contains(banshee)': False, 'contains(dumb)': False, 'contains(paddling)': False, 'contains(rake)': False, 'contains(disorder)': False, 'contains(hockey)': False, 'contains(miramax)': False, 'contains(focker)': False, 'contains(molecular)': False, 'contains(animate)': False, 'contains(amnesia)': False, 'contains(kilter)': False, 'contains(potshots)': False, 'contains(ji)': False, 'contains(jim)': False, 'contains(nosferatu)': False, 'contains(spera)': False, 'contains(formulaism)': False, 'contains(coolly)': False, 'contains(silences)': False, 'contains(katanga)': False, 'contains(amarillo)': False, 'contains(ripened)': False, 'contains(lynchpin)': False, 'contains(recounts)': False, 'contains(geeky)': False, 'contains(directed)': False, 'contains(chaplin)': False, 'contains(enlivening)': False, 'contains(hired)': False, 'contains(1964)': False, 'contains(conveys)': False, 'contains(morneau)': False, 'contains(zigged)': False, 'contains(resting)': False, 'contains(griswold)': False, 'contains(women_)': False, 'contains(blackboards)': False, 'contains(delicately)': False, 'contains(needles)': False, 'contains(shagwell)': False, 'contains(participate)': False, 'contains(rush)': False, 'contains(holodeck)': False, 'contains(unconnectedness)': False, 'contains(miami)': False, 'contains(gavan)': False, 'contains(enfield)': False, 'contains(fund)': False, 'contains(reissue)': False, 'contains(shoo)': False, 'contains(cheap)': False, 'contains(consideration)': False, 'contains(jarmusch)': False, 'contains(tomes)': False, 'contains(superheroes)': False, 'contains(vita)': False, 'contains(scissor)': False, 'contains(clint)': False, 'contains(takin)': False, 'contains(miracle)': False, 'contains(fembots)': False, 'contains(recipients)': False, 'contains(nicknamed)': False, 'contains(chambermaid)': False, 'contains(diaper)': False, 'contains(crinkled)': False, 'contains(leder)': False, 'contains(supersede)': False, 'contains(colonized)': False, 'contains(sinuous)': False, 'contains(upstage)': False, 'contains(byline)': False, 'contains(carve)': False, 'contains(urbaniak)': False, 'contains(thanks)': False, 'contains(won92t)': False, 'contains(se7en)': False, 'contains(nevada)': False, 'contains(jurisdiction)': False, 'contains(machiavellian)': False, 'contains(aid)': False, 'contains(mccann)': False, 'contains(sympathize)': False, 'contains(voyeur)': False, 'contains(weakened)': False, 'contains(firm)': False, 'contains(slade)': False, 'contains(flaunt)': False, 'contains(deceiver)': False, 'contains(videogames)': False, 'contains(caned)': False, 'contains(belches)': False, 'contains(boudreau)': False, 'contains(margin)': False, 'contains(skarsgaard)': False, 'contains(baltimore)': False, 'contains(youth)': False, 'contains(enthralled)': False, 'contains(downy)': False, 'contains(con)': False, 'contains(stridently)': False, 'contains(marijuana)': False, 'contains(saxophonist)': False, 'contains(squander)': False, 'contains(alberta)': False, 'contains(palantine)': False, 'contains(humanly)': False, 'contains(jjaks)': False, 'contains(charact)': False, 'contains(dippe)': False, 'contains(rainbows)': False, 'contains(connections)': False, 'contains(ghibli)': False, 'contains(sonnets)': False, 'contains(plods)': False, 'contains(coins)': False, 'contains(yesteryear)': False, 'contains(hymns)': False, 'contains(absoltuely)': False, 'contains(fabio)': False, 'contains(graph)': False, 'contains(cucumber)': False, 'contains(cousins)': False, 'contains(stealer)': False, 'contains(jewelry)': False, 'contains(parolees)': False, 'contains(seaport)': False, 'contains(tomboy)': False, 'contains(incorrect)': False, 'contains(concealing)': False, 'contains(angers)': False, 'contains(loli)': False, 'contains(fealty)': False, 'contains(depending)': False, 'contains(stagey)': False, 'contains(pulling)': False, 'contains(unemotional)': False, 'contains(riveting)': False, 'contains(svengali)': False, 'contains(physicals)': False, 'contains(intrusions)': False, 'contains(imposing)': False, 'contains(inquiries)': False, 'contains(threw)': False, 'contains(talon)': False, 'contains(bouquet)': False, 'contains(strides)': False, 'contains(chimes)': False, 'contains(detrimental)': False, 'contains(culkin)': False, 'contains(salinger)': False, 'contains(indulgent)': False, 'contains(shaven)': False, 'contains(hurtle)': False, 'contains(kasdan)': False, 'contains(hung)': False, 'contains(goldeneye)': False, 'contains(josef)': False, 'contains(misconception)': False, 'contains(rascal)': False, 'contains(pasta)': False, 'contains(saintliness)': False, 'contains(showy)': False, 'contains(unspecified)': False, 'contains(clout)': False, 'contains(()': True, 'contains(motives)': False, 'contains(long)': False, 'contains(grasping)': False, 'contains(raucous)': False, 'contains(unerringly)': False, 'contains(providing)': False, 'contains(qualities)': False, 'contains(flights)': False, 'contains(velociraptor)': False, 'contains(screw)': False, 'contains(prosper)': False, 'contains(apparently)': False, 'contains(film)': False, 'contains(dmv)': False, 'contains(ketchum)': False, 'contains(beaming)': False, 'contains(1965)': False, 'contains(id4)': False, 'contains(persons)': False, 'contains(landowners)': False, 'contains(undisclosed)': False, 'contains(automobiles)': False, 'contains(leeper)': False, 'contains(chambers)': False, 'contains(soto)': False, 'contains(hudlin)': False, 'contains(laughing)': False, 'contains(semi)': False, 'contains(playhouse)': False, 'contains(viscously)': False, 'contains(rickie)': False, 'contains(diabolically)': False, 'contains(uncover)': False, 'contains(owl)': False, 'contains(soundbite)': False, 'contains(insulting)': False, 'contains(wooden)': False, 'contains(swimmers)': False, 'contains(fireballs)': False, 'contains(shutting)': False, 'contains(piven)': False, 'contains(vampyre)': False, 'contains(behoove)': False, 'contains(thrusting)': False, 'contains(ridiculed)': False, 'contains(muggers)': False, 'contains(becomes)': False, 'contains(chapters)': False, 'contains(suffer)': False, 'contains(narcotic)': False, 'contains(kulich)': False, 'contains(sentiment)': False, 'contains(rum)': False, 'contains(bicycle)': False, 'contains(litany)': False, 'contains(travels)': False, 'contains(wielders)': False, 'contains(johnson)': False, 'contains(ecclesiastes)': False, 'contains(moses)': False, 'contains(laughter)': False, 'contains(pounded)': False, 'contains(strode)': False, 'contains(inferiority)': False, 'contains(abject)': False, 'contains(lopsided)': False, 'contains(verdant)': False, 'contains(cheesecake)': False, 'contains(fairness)': False, 'contains(jock)': False, 'contains(backslidden)': False, 'contains(2013)': False, 'contains(ruined)': False, 'contains(expenses)': False, 'contains(installed)': False, 'contains(bearded)': False, 'contains(holding)': False, 'contains(coercion)': False, 'contains(incronguously)': False, 'contains(bash)': False, 'contains(mandrake)': False, 'contains(tactile)': False, 'contains(evacuate)': False, 'contains(scam)': False, 'contains(thinking)': False, 'contains(amateurish)': False, 'contains(fool)': False, 'contains(lea)': False, 'contains(notions)': False, 'contains(culinary)': False, 'contains(raucously)': False, 'contains(domingo)': False, 'contains(jezelle)': False, 'contains(rare)': False, 'contains(realise)': False, 'contains(meteorologist)': False, 'contains(fitting)': False, 'contains(responds)': False, 'contains(carcasses)': False, 'contains(slinking)': False, 'contains(belonged)': False, 'contains(weakness)': False, 'contains(achievements)': False, 'contains(albanian)': False, 'contains(brakes)': False, 'contains(overhyped)': False, 'contains(granddaughter)': False, 'contains(trackers)': False, 'contains(materializes)': False, 'contains(tyrannosaurus)': False, 'contains(culprit)': False, 'contains(triumphing)': False, 'contains(cojones)': False, 'contains(unimpressed)': False, 'contains(editions)': False, 'contains(buckle)': False, 'contains(emshwiller)': False, 'contains(royalist)': False, 'contains(mer)': False, 'contains(conquest)': False, 'contains(wins)': False, 'contains(punish)': False, 'contains(whorehouse)': False, 'contains(transfer)': False, 'contains(fingertips)': False, 'contains(fornication)': False, 'contains(mommas)': False, 'contains(mori)': False, 'contains(temperamental)': False, 'contains(synchronised)': False, 'contains(formidably)': False, 'contains(weirdos)': False, 'contains(deliriously)': False, 'contains(devon)': False, 'contains(conceiving)': False, 'contains(clapped)': False, 'contains(jugular)': False, 'contains(lucy)': False, 'contains(holliday)': False, 'contains(endangers)': False, 'contains(geniuses)': False, 'contains(fiasco)': False, 'contains(hints)': False, 'contains(chilled)': False, 'contains(beheaded)': False, 'contains(garofalo)': False, 'contains(lowdown)': False, 'contains(ingested)': False, 'contains(marauding)': False, 'contains(confirmed)': False, 'contains(surehanded)': False, 'contains(secession)': False, 'contains(karloff)': False, 'contains(disturbances)': False, 'contains(inhibit)': False, 'contains(demonstrates)': False, 'contains(franchises)': False, 'contains(pasty)': False, 'contains(formulas)': False, 'contains(supported)': False, 'contains(jo)': False, 'contains(travelogue)': False, 'contains(legion)': False, 'contains(overreacts)': False, 'contains(clearing)': False, 'contains(rocque)': False, 'contains(retention)': False, 'contains(2_)': False, 'contains(maligned)': False, 'contains(insomniac)': False, 'contains(patching)': False, 'contains(oswald)': False, 'contains(regression)': False, 'contains(item)': False, 'contains(musicians)': False, 'contains(munchie)': False, 'contains(undermines)': False, 'contains(kwan)': False, 'contains(orr)': False, 'contains(pickles)': False, 'contains(americanised)': False, 'contains(rabies)': False, 'contains(professorship)': False, 'contains(instills)': False, 'contains(happens)': False, 'contains(ck)': False, 'contains(fundamentalists)': False, 'contains(eighteenth)': False, 'contains(3po)': False, 'contains(trend)': False, 'contains(ditching)': False, 'contains(housing)': False, 'contains(induction)': False, 'contains(68)': False, 'contains(audacity)': False, 'contains(gills)': False, 'contains(urinates)': False, 'contains(tandon)': False, 'contains(unbelief)': False, 'contains(absorbing)': False, 'contains(reported)': False, 'contains(357)': False, 'contains(jerker)': False, 'contains(resilient)': False, 'contains(mural)': False, 'contains(collectors)': False, 'contains(sags)': False, 'contains(medley)': False, 'contains(tutus)': False, 'contains(wan)': False, 'contains(deluding)': False, 'contains(schneid)': False, 'contains(highways)': False, 'contains(banquets)': False, 'contains(51)': False, 'contains(jeepers)': False, 'contains(doctor)': False, 'contains(dalmantions)': False, 'contains(scoop)': False, 'contains(lasers)': False, 'contains(unfit)': False, 'contains(venereal)': False, 'contains(extracting)': False, 'contains(gun)': True, 'contains(earthworm)': False, 'contains(services)': False, 'contains(snipes)': False, 'contains(caricatured)': False, 'contains(scoffs)': False, 'contains(nods)': False, 'contains(section)': False, 'contains(dragonslayer)': False, 'contains(pace)': False, 'contains(teammates)': False, 'contains(momentum)': False, 'contains(wounding)': False, 'contains(castle)': False, 'contains(english)': False, 'contains(delineation)': False, 'contains(camcorder)': False, 'contains(newspapers)': False, 'contains(squeals)': False, 'contains(gromit)': False, 'contains(tops)': False, 'contains(leader)': False, 'contains(psitive)': False, 'contains(guidance)': False, 'contains(concordia)': False, 'contains(precipice)': False, 'contains(wether)': False, 'contains(intercourse)': False, 'contains(teenage)': False, 'contains(yachting)': False, 'contains(cowled)': False, 'contains(puking)': False, 'contains(portal)': False, 'contains(glitch)': False, 'contains(climber)': False, 'contains(kwouk)': False, 'contains(1922)': False, 'contains(several)': False, 'contains(tied)': True, 'contains(planet)': False, 'contains(terseness)': False, 'contains(autumn)': False, 'contains(norm)': False, 'contains(jeroen)': False, 'contains(shoddier)': False, 'contains(interface)': False, 'contains(penthouse)': False, 'contains(stepsons)': False, 'contains(citing)': False, 'contains(assedness)': False, 'contains(boffing)': False, 'contains(hostile)': False, 'contains(_shaft_in_africa_)': False, 'contains(subservient)': False, 'contains(find)': False, 'contains(intentional)': False, 'contains(rates)': False, 'contains(oozing)': False, 'contains(funnest)': False, 'contains(chair)': False, 'contains(turrets)': False, 'contains(petrie)': False, 'contains(tinam)': False, 'contains(olmstead)': False, 'contains(anthro)': False, 'contains(microchip)': False, 'contains(sunshiny)': False, 'contains(election)': False, 'contains(unclaimed)': False, 'contains(layouts)': False, 'contains(k)': False, 'contains(malevolence)': False, 'contains(unempathetic)': False, 'contains(reconciliation)': False, 'contains(baring)': False, 'contains(lebesco)': False, 'contains(penetration)': False, 'contains(thong)': False, 'contains(skarsgard)': False, 'contains(outsiders)': False, 'contains(nuclear)': False, 'contains(horrifically)': False, 'contains(par)': False, 'contains(rightly)': False, 'contains(127)': False, 'contains(tipping)': False, 'contains(kicked)': False, 'contains(addict)': False, 'contains(brethren)': False, 'contains(catwoman)': False, 'contains(wonder)': False, 'contains(concentrations)': False, 'contains(napkin)': False, 'contains(spatulas)': False, 'contains(footed)': False, 'contains(chittering)': False, 'contains(roxy)': False, 'contains(jerked)': False, 'contains(bickle)': False, 'contains(helping)': False, 'contains(bava)': False, 'contains(pursuing)': False, 'contains(roof)': False, 'contains(paus)': False, 'contains(kenner)': False, 'contains(jaunty)': False, 'contains(awaited)': False, 'contains(robotically)': False, 'contains(norad)': False, 'contains(jumbled)': False, 'contains(journalistic)': False, 'contains(competitive)': False, 'contains(lizzy)': False, 'contains(gaffer)': False, 'contains(stylish)': False, 'contains(playmate)': False, 'contains(rote)': False, 'contains(santas)': False, 'contains(flicker)': False, 'contains(alt)': False, 'contains(danza)': False, 'contains(greenleaf)': False, 'contains(interned)': False, 'contains(clearly)': False, 'contains(crank)': False, 'contains(winless)': False, 'contains(bowls)': False, 'contains(bros)': False, 'contains(singh)': False, 'contains(dispels)': False, 'contains(mancini)': False, 'contains(sublimely)': False, 'contains(disintegrated)': False, 'contains(halperin)': False, 'contains(da)': False, 'contains(nature)': False, 'contains(colombia)': False, 'contains(spacious)': False, 'contains(stivaletti)': False, 'contains(dudeness)': False, 'contains(pollock)': False, 'contains(soar)': False, 'contains(encouraging)': False, 'contains(crane)': False, 'contains(disemboweling)': False, 'contains(slum)': False, 'contains(divisive)': False, 'contains(giuseppe)': False, 'contains(ermey)': False, 'contains(bravado)': False, 'contains(funhouse)': False, 'contains(chopin)': False, 'contains(benj)': False, 'contains(moralistic)': False, 'contains(madsen)': False, 'contains(reactions)': False, 'contains(grumpiest)': False, 'contains(contrivance)': False, 'contains(causing)': False, 'contains(palpable)': False, 'contains(sabine)': False, 'contains(kessler)': False, 'contains(producer)': False, 'contains(pointless)': False, 'contains(resist)': False, 'contains(vocalized)': False, 'contains(eartha)': False, 'contains(dryburgh)': False, 'contains(domestic)': False, 'contains(suit)': False, 'contains(pinnochio)': False, 'contains(tolerated)': False, 'contains(disintegrate)': False, 'contains(killed)': False, 'contains(floats)': False, 'contains(babbling)': False, 'contains(dariush)': False, 'contains(marker)': False, 'contains(peccadilloes)': False, 'contains(targeting)': False, 'contains(banality)': False, 'contains(benoni)': False, 'contains(uncaring)': False, 'contains(farces)': False, 'contains(unexpectantly)': False, 'contains(fixer)': False, 'contains(strategist)': False, 'contains(azrael)': False, 'contains(#$%)': False, 'contains(ie)': False, 'contains(s_big_score)': False, 'contains(remained)': False, 'contains(limbo)': False, 'contains(crafts)': False, 'contains(outing)': False, 'contains(bulletproof)': False, 'contains(shimmer)': False, 'contains(investments)': False, 'contains(coworker)': False, 'contains(torpedoes)': False, 'contains(countryman)': False, 'contains(nagging)': False, 'contains(quandary)': False, 'contains(romanian)': False, 'contains(ripley)': False, 'contains(fedex)': False, 'contains(penal)': False, 'contains(disbelieved)': False, 'contains(noticed)': False, 'contains(soons)': False, 'contains(gynecomastia)': False, 'contains(hijinx)': False, 'contains(threatening)': False, 'contains(algeria)': False, 'contains(zapped)': False, 'contains(screenplays)': False, 'contains(professing)': False, 'contains(outings)': False, 'contains(millionare)': False, 'contains(darkman)': False, 'contains(pulpy)': False, 'contains(latest)': False, 'contains(spinetinglingly)': False, 'contains(profoundly)': False, 'contains(retentive)': False, 'contains(weaves)': False, 'contains(reactor)': False, 'contains(indestructible)': False, 'contains(normalcy)': False, 'contains(metropolitan)': False, 'contains(spectaculars)': False, 'contains(freddie)': False, 'contains(kombat_)': False, 'contains(antics)': False, 'contains(defeating)': False, 'contains(lays)': False, 'contains(simplistically)': False, 'contains(london)': False, 'contains(flippant)': False, 'contains(1900s)': False, 'contains(liked)': False, 'contains(fargo)': False, 'contains(buren)': False, 'contains(beautiful_)': False, 'contains(grovel)': False, 'contains(trannsferred)': False, 'contains(taunt)': False, 'contains(lectured)': False, 'contains(structurally)': False, 'contains(catching)': False, 'contains(dilorenzo)': False, 'contains(brightness)': False, 'contains(parr)': False, 'contains(advised)': False, 'contains(luchini)': False, 'contains(drift)': False, 'contains(apply)': False, 'contains(hinckley)': False, 'contains(grates)': False, 'contains(met)': False, 'contains(explainable)': False, 'contains(abiding)': False, 'contains(genres)': False, 'contains(noticeable)': False, 'contains(snore)': False, 'contains(margaret)': False, 'contains(allegorically)': False, 'contains(effervescently)': False, 'contains(harrowing)': False, 'contains(fantasized)': False, 'contains(mallet)': False, 'contains(journalist)': False, 'contains(ladder)': True, 'contains(pass)': False, 'contains(shrug)': False, 'contains(pesence)': False, 'contains(come)': False, 'contains(infirm)': False, 'contains(bagpipes)': False, 'contains(tremor)': False, 'contains(moonlit)': False, 'contains(chareau)': False, 'contains(freewheeling)': False, 'contains(distanced)': False, 'contains(hurts)': False, 'contains(expertise)': False, 'contains(elvis)': False, 'contains(showbiz)': False, 'contains(chans)': False, 'contains(next)': False, 'contains(neater)': False, 'contains(erupted)': False, 'contains(nudie)': False, 'contains(dougherty)': False, 'contains(creepy)': False, 'contains(unquestionably)': False, 'contains(kemler)': False, 'contains(transmitter)': False, 'contains(hangs)': False, 'contains(nincompoop)': False, 'contains(primal)': False, 'contains(das)': False, 'contains(illegitimate)': False, 'contains(adrift)': False, 'contains(wilhelm)': False, 'contains(spleen)': False, 'contains(buddies)': False, 'contains(argonians)': False, 'contains(sooo)': False, 'contains(ah)': False, 'contains(voyeurs)': False, 'contains(downpour)': False, 'contains(ask)': False, 'contains(wacked)': False, 'contains(cultured)': False, 'contains(tara)': False, 'contains(meaner)': False, 'contains(horticulturist)': False, 'contains(threesome)': False, 'contains(thwarts)': False, 'contains(davidovitch)': False, 'contains(hes)': False, 'contains(sadomasochism)': False, 'contains(centerfold)': False, 'contains(transmit)': False, 'contains(prickly)': False, 'contains(dreamquest)': False, 'contains(cliffhanger)': False, 'contains(lately)': False, 'contains(gestures)': False, 'contains(sneeze)': False, 'contains(sterling)': False, 'contains(appeal)': False, 'contains(dizzyingly)': False, 'contains(coincidences)': False, 'contains(murata)': False, 'contains(leni)': False, 'contains(_wartime)': False, 'contains(goons)': False, 'contains(arid)': False, 'contains(macaulay)': False, 'contains(dench)': False, 'contains(underage)': False, 'contains(woud)': False, 'contains(lusting)': False, 'contains(hurlyburly)': False, 'contains(incomparable)': False, 'contains(receptions)': False, 'contains(temporarily)': False, 'contains(boardroom)': False, 'contains(obituaries)': False, 'contains(submits)': False, 'contains(squirming)': False, 'contains(outweighs)': False, 'contains(dreyer)': False, 'contains(danforth)': False, 'contains(iliff)': False, 'contains(frederique)': False, 'contains(vapid)': False, 'contains(maggots)': False, 'contains(berger)': False, 'contains(1799)': False, 'contains(osbourne)': False, 'contains(jamusch)': False, 'contains(bagged)': False, 'contains(summation)': False, 'contains(rehearses)': False, 'contains(truckers)': False, 'contains(sharply)': False, 'contains(cheered)': False, 'contains(seduces)': False, 'contains(airing)': False, 'contains(thickened)': False, 'contains(blend)': False, 'contains(empathic)': False, 'contains(remi)': False, 'contains(smothers)': False, 'contains(maurice)': False, 'contains(crocs)': False, 'contains(mai)': False, 'contains(upon)': False, 'contains(mtcts2)': False, 'contains(percussion)': False, 'contains(chalkboard)': False, 'contains(duct)': False, 'contains(fitzpatrick)': False, 'contains(addictions)': False, 'contains(bonham)': False, 'contains(lunes)': False, 'contains(mc)': False, 'contains(tendencies)': False, 'contains(unleash)': False, 'contains(millions)': False, 'contains(seats)': False, 'contains(gaping)': False, 'contains(floorboard)': False, 'contains(effected)': False, 'contains(loopiness)': False, 'contains(woe)': False, 'contains(rebels)': False, 'contains(composers)': False, 'contains(passion)': False, 'contains(appointed)': False, 'contains(attackers)': False, 'contains(aria)': False, 'contains(corkscrews)': False, 'contains(luxuriantly)': False, 'contains(incredulity)': False, 'contains(accessory)': False, 'contains(zone)': False, 'contains(126)': False, 'contains(defensive)': False, 'contains(whip)': False, 'contains(muffin)': False, 'contains(xavier)': False, 'contains(hines)': False, 'contains(arcane)': False, 'contains(reply)': False, 'contains(siva)': False, 'contains(country)': False, 'contains(spielbergization)': False, 'contains(lusted)': False, 'contains(tgif)': False}\n"
     ]
    }
   ],
   "source": [
    "#Document Classification\n",
    "from nltk.corpus import movie_reviews\n",
    "documents = [(list(movie_reviews.words(fileid)), category)\n",
    "              for category in movie_reviews.categories()\n",
    "              for fileid in movie_reviews.fileids(category)]\n",
    "random.shuffle(documents)\n",
    "\n",
    "all_words = nltk.FreqDist(w.lower() for w in movie_reviews.words())\n",
    "word_features = list(all_words)[:2000]\n",
    "\n",
    "def document_features(document):\n",
    "    document_words = set(document)\n",
    "    features = {}\n",
    "    for word in word_features:\n",
    "        features['contains({})'.format(word)] = (word in document_words)\n",
    "    return features\n",
    "print(document_features(movie_reviews.words('pos/cv957_8737.txt')))"
   ]
  },
  {
   "cell_type": "code",
   "execution_count": 16,
   "metadata": {},
   "outputs": [
    {
     "name": "stdout",
     "output_type": "stream",
     "text": [
      "0.6\n"
     ]
    }
   ],
   "source": [
    "featuresets = [(document_features(d), c) for (d,c) in documents]\n",
    "train_set, test_set = featuresets[100:], featuresets[:100]\n",
    "classifier = nltk.NaiveBayesClassifier.train(train_set)\n",
    "\n",
    "print(nltk.classify.accuracy(classifier, test_set))"
   ]
  },
  {
   "cell_type": "code",
   "execution_count": 17,
   "metadata": {},
   "outputs": [
    {
     "name": "stdout",
     "output_type": "stream",
     "text": [
      "Most Informative Features\n",
      "     contains(insulting) = True              neg : pos    =     10.6 : 1.0\n",
      "    contains(accessible) = True              pos : neg    =      9.7 : 1.0\n",
      "          contains(sans) = True              neg : pos    =      9.0 : 1.0\n",
      "      contains(fairness) = True              neg : pos    =      9.0 : 1.0\n",
      "       contains(detract) = True              pos : neg    =      8.4 : 1.0\n"
     ]
    }
   ],
   "source": [
    "classifier.show_most_informative_features(5)"
   ]
  },
  {
   "cell_type": "code",
   "execution_count": 25,
   "metadata": {},
   "outputs": [
    {
     "name": "stdout",
     "output_type": "stream",
     "text": [
      "['e', ',', '.', 's', 'd']\n"
     ]
    }
   ],
   "source": [
    "#Part of speech tagging\n",
    "from nltk.corpus import brown\n",
    "suffix_fdist = nltk.FreqDist()\n",
    "for word in brown.words():\n",
    "     word = word.lower()\n",
    "     suffix_fdist[word[-1:]] += 1\n",
    "     suffix_fdist[word[-2:]] += 1\n",
    "     suffix_fdist[word[-3:]] += 1\n",
    "common_suffixes = [suffix for (suffix, count) in suffix_fdist.most_common(5)]\n",
    "print(common_suffixes)"
   ]
  },
  {
   "cell_type": "code",
   "execution_count": 26,
   "metadata": {},
   "outputs": [
    {
     "data": {
      "text/plain": [
       "{'endswith(,)': False,\n",
       " 'endswith(.)': False,\n",
       " 'endswith(d)': True,\n",
       " 'endswith(e)': False,\n",
       " 'endswith(s)': False}"
      ]
     },
     "execution_count": 26,
     "metadata": {},
     "output_type": "execute_result"
    }
   ],
   "source": [
    "def pos_features(word):\n",
    "     features = {}\n",
    "     for suffix in common_suffixes:\n",
    "         features['endswith({})'.format(suffix)] = word.lower().endswith(suffix)\n",
    "     return features\n",
    "pos_features(\"England\")"
   ]
  },
  {
   "cell_type": "code",
   "execution_count": 27,
   "metadata": {},
   "outputs": [
    {
     "data": {
      "text/plain": [
       "0.3177523620089508"
      ]
     },
     "execution_count": 27,
     "metadata": {},
     "output_type": "execute_result"
    }
   ],
   "source": [
    "tagged_words = brown.tagged_words(categories='news')\n",
    "featuresets = [(pos_features(n), g) for (n,g) in tagged_words]\n",
    "size = int(len(featuresets) * 0.1)\n",
    "train_set, test_set = featuresets[size:], featuresets[:size]\n",
    "classifier = nltk.DecisionTreeClassifier.train(train_set)\n",
    "nltk.classify.accuracy(classifier, test_set)"
   ]
  },
  {
   "cell_type": "code",
   "execution_count": 28,
   "metadata": {},
   "outputs": [
    {
     "name": "stdout",
     "output_type": "stream",
     "text": [
      "if endswith(,) == False: \n",
      "  if endswith(s) == False: \n",
      "    if endswith(e) == False: \n",
      "      if endswith(.) == False: return '.'\n",
      "      if endswith(.) == True: return '.'\n",
      "    if endswith(e) == True: return 'AT'\n",
      "  if endswith(s) == True: return 'NNS'\n",
      "if endswith(,) == True: return ','\n",
      "\n"
     ]
    }
   ],
   "source": [
    "print(classifier.pseudocode(depth=4))"
   ]
  },
  {
   "cell_type": "code",
   "execution_count": 30,
   "metadata": {},
   "outputs": [
    {
     "data": {
      "text/plain": [
       "{'prev-word': 'an', 'suffix(1)': 'n', 'suffix(2)': 'on', 'suffix(3)': 'ion'}"
      ]
     },
     "execution_count": 30,
     "metadata": {},
     "output_type": "execute_result"
    }
   ],
   "source": [
    "#Exploiting Context\n",
    "def pos_features(sentence, i):\n",
    "    features = {\"suffix(1)\": sentence[i][-1:],\n",
    "                \"suffix(2)\": sentence[i][-2:],\n",
    "                \"suffix(3)\": sentence[i][-3:]}\n",
    "    if i == 0:\n",
    "        features[\"prev-word\"] = \"<START>\"\n",
    "    else:\n",
    "        features[\"prev-word\"] = sentence[i-1]\n",
    "    return features\n",
    "\n",
    "pos_features(brown.sents()[0], 8)"
   ]
  },
  {
   "cell_type": "code",
   "execution_count": 31,
   "metadata": {},
   "outputs": [
    {
     "data": {
      "text/plain": [
       "0.7891596220785678"
      ]
     },
     "execution_count": 31,
     "metadata": {},
     "output_type": "execute_result"
    }
   ],
   "source": [
    "tagged_sents = brown.tagged_sents(categories='news')\n",
    "featuresets = []\n",
    "for tagged_sent in tagged_sents:\n",
    "     untagged_sent = nltk.tag.untag(tagged_sent)\n",
    "     for i, (word, tag) in enumerate(tagged_sent):\n",
    "         featuresets.append( (pos_features(untagged_sent, i), tag) )\n",
    "size = int(len(featuresets) * 0.1)\n",
    "train_set, test_set = featuresets[size:], featuresets[:size]\n",
    "classifier = nltk.NaiveBayesClassifier.train(train_set)\n",
    "nltk.classify.accuracy(classifier, test_set)"
   ]
  },
  {
   "cell_type": "code",
   "execution_count": 36,
   "metadata": {},
   "outputs": [
    {
     "data": {
      "text/plain": [
       "[('I', 'PPSS'),\n",
       " ('love', 'VB'),\n",
       " ('me', 'PPO'),\n",
       " ('some', 'DTI'),\n",
       " ('sunshine', 'NN')]"
      ]
     },
     "execution_count": 36,
     "metadata": {},
     "output_type": "execute_result"
    }
   ],
   "source": [
    "#Sequence classification\n",
    "#Decision of the next tag is based on history of decisions\n",
    "#Commit to every decision that it makes\n",
    "def pos_features(sentence, i, history):\n",
    "     features = {\"suffix(1)\": sentence[i][-1:],\n",
    "                 \"suffix(2)\": sentence[i][-2:],\n",
    "                 \"suffix(3)\": sentence[i][-3:]}\n",
    "     if i == 0:\n",
    "         features[\"prev-word\"] = \"<START>\"\n",
    "         features[\"prev-tag\"] = \"<START>\"\n",
    "     else:\n",
    "         features[\"prev-word\"] = sentence[i-1]\n",
    "         features[\"prev-tag\"] = history[i-1]\n",
    "     return features\n",
    "\n",
    "class ConsecutivePosTagger(nltk.TaggerI):\n",
    "\n",
    "    def __init__(self, train_sents):\n",
    "        train_set = []\n",
    "        for tagged_sent in train_sents:\n",
    "            untagged_sent = nltk.tag.untag(tagged_sent)\n",
    "            history = []\n",
    "            for i, (word, tag) in enumerate(tagged_sent):\n",
    "                featureset = pos_features(untagged_sent, i, history)\n",
    "                train_set.append( (featureset, tag) )\n",
    "                history.append(tag)\n",
    "        self.classifier = nltk.NaiveBayesClassifier.train(train_set)\n",
    "\n",
    "    def tag(self, sentence):\n",
    "        history = []\n",
    "        for i, word in enumerate(sentence):\n",
    "            featureset = pos_features(sentence, i, history)\n",
    "            tag = self.classifier.classify(featureset)\n",
    "            history.append(tag)\n",
    "        return zip(sentence, history)\n",
    "tagged_sents = brown.tagged_sents(categories='news')\n",
    "size = int(len(tagged_sents) * 0.1)\n",
    "train_sents, test_sents = tagged_sents[size:], tagged_sents[:size]\n",
    "tagger = ConsecutivePosTagger(train_sents)\n",
    "list(tagger.tag([\"I\",\"love\",\"me\",\"some\",\"sunshine\"]))"
   ]
  },
  {
   "cell_type": "code",
   "execution_count": 37,
   "metadata": {},
   "outputs": [
    {
     "name": "stdout",
     "output_type": "stream",
     "text": [
      "0.7980528511821975\n"
     ]
    }
   ],
   "source": [
    "print(tagger.evaluate(test_sents))"
   ]
  },
  {
   "cell_type": "code",
   "execution_count": 38,
   "metadata": {},
   "outputs": [
    {
     "data": {
      "text/plain": [
       "'Hidden markov models - assign scores to all of the possible\\nsequences of part-of-speech tags and choose the sequence whose\\noverall score is highest\\n\\nAll possible sequences generate a very large number of permutations,\\nlimit to the last word or n words.\\n\\nThis approach is used on Maximum Entropy Markov Models\\nand Linear-Chain Conditional Random Field Models\\n'"
      ]
     },
     "execution_count": 38,
     "metadata": {},
     "output_type": "execute_result"
    }
   ],
   "source": [
    "'''Hidden markov models - assign scores to all of the possible\n",
    "sequences of part-of-speech tags and choose the sequence whose\n",
    "overall score is highest\n",
    "\n",
    "All possible sequences generate a very large number of permutations,\n",
    "limit to the last word or n words.\n",
    "\n",
    "This approach is used on Maximum Entropy Markov Models\n",
    "and Linear-Chain Conditional Random Field Models\n",
    "'''"
   ]
  },
  {
   "cell_type": "code",
   "execution_count": 48,
   "metadata": {},
   "outputs": [
    {
     "data": {
      "text/plain": [
       "0.9377104377104377"
      ]
     },
     "execution_count": 48,
     "metadata": {},
     "output_type": "execute_result"
    }
   ],
   "source": [
    "#Sentence segmentation, can be viewed as a classification task \n",
    "#for punctuation.\n",
    "\n",
    "sents = nltk.corpus.treebank_raw.sents()\n",
    "tokens = []\n",
    "boundaries = set()\n",
    "offset = 0\n",
    "for sent in sents:\n",
    "    tokens.extend(sent)\n",
    "    offset += len(sent)\n",
    "    boundaries.add(offset-1)\n",
    "    \n",
    "def punct_features(tokens, i):\n",
    "    features = {'punct': tokens[i]}\n",
    "    if i+1 >= len(tokens):\n",
    "        features['next-word-capitalized'] = False\n",
    "    else:\n",
    "        features['next-word-capitalized'] = tokens[i+1][0].isupper()\n",
    "    if i == 0:\n",
    "        features['prev-word'] = '<START>'\n",
    "        features['prev-word-is-one-char'] = False\n",
    "    else:\n",
    "        features['prev-word'] = tokens[i-1]\n",
    "        features['prev-word-is-one-char'] = len(tokens[i-1]) == 1\n",
    "    return features\n",
    "\n",
    "featuresets = [(punct_features(tokens, i), (i in boundaries))\n",
    "               for i in range(1, len(tokens)-1)\n",
    "               if tokens[i] in '.?!']\n",
    "\n",
    "size = int(len(featuresets) * 0.1)\n",
    "train_set, test_set = featuresets[size:], featuresets[:size]\n",
    "classifier = nltk.NaiveBayesClassifier.train(train_set)\n",
    "nltk.classify.accuracy(classifier, test_set)"
   ]
  },
  {
   "cell_type": "code",
   "execution_count": 49,
   "metadata": {},
   "outputs": [
    {
     "data": {
      "text/plain": [
       "[['Hello', 'mister', '.'], ['How', 'you', 'doin', '?']]"
      ]
     },
     "execution_count": 49,
     "metadata": {},
     "output_type": "execute_result"
    }
   ],
   "source": [
    "def segment_sentences(words):\n",
    "    start = 0\n",
    "    sents = []\n",
    "    for i, word in enumerate(words):\n",
    "        if word in '.?!' and classifier.classify(punct_features(words, i)) == True:\n",
    "            sents.append(words[start:i+1])\n",
    "            start = i+1\n",
    "    if start < len(words):\n",
    "        sents.append(words[start:])\n",
    "    return sents\n",
    "\n",
    "segment_sentences([\"Hello\",\"mister\",\".\",\"How\",\"you\",\"doin\",\"?\"])"
   ]
  },
  {
   "cell_type": "code",
   "execution_count": 50,
   "metadata": {},
   "outputs": [
    {
     "name": "stdout",
     "output_type": "stream",
     "text": [
      "0.668\n"
     ]
    }
   ],
   "source": [
    "#Indentifying dialogue act types\n",
    "#greetings, questions, answers, assertions, and clarifications\n",
    "#can all be thought of as types of speech-based actions\n",
    "\n",
    "posts = nltk.corpus.nps_chat.xml_posts()[:10000]\n",
    "def dialogue_act_features(post):\n",
    "    features = {}\n",
    "    for word in nltk.word_tokenize(post):\n",
    "        features['contains({})'.format(word.lower())] = True\n",
    "    return features\n",
    "featuresets = [(dialogue_act_features(post.text), post.get('class'))\n",
    "               for post in posts]\n",
    "size = int(len(featuresets) * 0.1)\n",
    "train_set, test_set = featuresets[size:], featuresets[:size]\n",
    "classifier = nltk.NaiveBayesClassifier.train(train_set)\n",
    "print(nltk.classify.accuracy(classifier, test_set))"
   ]
  },
  {
   "cell_type": "code",
   "execution_count": 53,
   "metadata": {},
   "outputs": [
    {
     "data": {
      "text/plain": [
       "'Statement'"
      ]
     },
     "execution_count": 53,
     "metadata": {},
     "output_type": "execute_result"
    }
   ],
   "source": [
    "classifier.classify(dialogue_act_features(\"ahah you are funny lol\"))"
   ]
  },
  {
   "cell_type": "code",
   "execution_count": 54,
   "metadata": {},
   "outputs": [
    {
     "name": "stdout",
     "output_type": "stream",
     "text": [
      "{'at', 'Soviet', 'fight', 'Iran', 'four', 'Asia', 'Davudi', 'operation', 'together', 'Shanghai', 'Parviz', 'republics', 'China', 'that', 'was', 'fledgling', 'SCO', 'central', 'Russia', 'association', 'Organisation', 'representing', 'binds', 'terrorism.', 'Co', 'former', 'meeting'}\n"
     ]
    }
   ],
   "source": [
    "#Recognize textual entailment\n",
    "#Say if statement H (Hypothesis) is true or false based on text T\n",
    "\n",
    "def rte_features(rtepair):\n",
    "    extractor = nltk.RTEFeatureExtractor(rtepair)\n",
    "    features = {}\n",
    "    features['word_overlap'] = len(extractor.overlap('word'))\n",
    "    features['word_hyp_extra'] = len(extractor.hyp_extra('word'))\n",
    "    features['ne_overlap'] = len(extractor.overlap('ne'))\n",
    "    features['ne_hyp_extra'] = len(extractor.hyp_extra('ne'))\n",
    "    return features\n",
    "rtepair = nltk.corpus.rte.pairs(['rte3_dev.xml'])[33]\n",
    "extractor = nltk.RTEFeatureExtractor(rtepair)\n",
    "print(extractor.text_words)"
   ]
  },
  {
   "cell_type": "code",
   "execution_count": 55,
   "metadata": {},
   "outputs": [
    {
     "name": "stdout",
     "output_type": "stream",
     "text": [
      "{'China', 'member', 'SCO.'}\n"
     ]
    }
   ],
   "source": [
    "print(extractor.hyp_words)"
   ]
  },
  {
   "cell_type": "code",
   "execution_count": 56,
   "metadata": {},
   "outputs": [
    {
     "name": "stdout",
     "output_type": "stream",
     "text": [
      "set()\n"
     ]
    }
   ],
   "source": [
    "print(extractor.overlap('word'))"
   ]
  },
  {
   "cell_type": "code",
   "execution_count": 57,
   "metadata": {},
   "outputs": [
    {
     "name": "stdout",
     "output_type": "stream",
     "text": [
      "{'China'}\n"
     ]
    }
   ],
   "source": [
    "print(extractor.overlap('ne'))"
   ]
  },
  {
   "cell_type": "code",
   "execution_count": 58,
   "metadata": {},
   "outputs": [
    {
     "name": "stdout",
     "output_type": "stream",
     "text": [
      "{'member'}\n"
     ]
    }
   ],
   "source": [
    "print(extractor.hyp_extra('word'))"
   ]
  },
  {
   "cell_type": "code",
   "execution_count": 60,
   "metadata": {},
   "outputs": [
    {
     "name": "stdout",
     "output_type": "stream",
     "text": [
      "-0.0\n"
     ]
    }
   ],
   "source": [
    "import math\n",
    "def entropy(labels):\n",
    "    freqdist = nltk.FreqDist(labels)\n",
    "    probs = [freqdist.freq(l) for l in freqdist]\n",
    "    return -sum(p * math.log(p,2) for p in probs)\n",
    "print(entropy(['male', 'male', 'male', 'male'])) "
   ]
  },
  {
   "cell_type": "code",
   "execution_count": 61,
   "metadata": {},
   "outputs": [
    {
     "name": "stdout",
     "output_type": "stream",
     "text": [
      "-0.0\n"
     ]
    }
   ],
   "source": [
    "print(entropy(['female', 'female', 'female', 'female'])) "
   ]
  },
  {
   "cell_type": "code",
   "execution_count": 62,
   "metadata": {},
   "outputs": [
    {
     "name": "stdout",
     "output_type": "stream",
     "text": [
      "1.0\n"
     ]
    }
   ],
   "source": [
    "print(entropy(['female', 'male', 'female', 'male']))"
   ]
  },
  {
   "cell_type": "code",
   "execution_count": null,
   "metadata": {},
   "outputs": [],
   "source": []
  }
 ],
 "metadata": {
  "kernelspec": {
   "display_name": "Python 3",
   "language": "python",
   "name": "python3"
  },
  "language_info": {
   "codemirror_mode": {
    "name": "ipython",
    "version": 3
   },
   "file_extension": ".py",
   "mimetype": "text/x-python",
   "name": "python",
   "nbconvert_exporter": "python",
   "pygments_lexer": "ipython3",
   "version": "3.5.3"
  }
 },
 "nbformat": 4,
 "nbformat_minor": 2
}
