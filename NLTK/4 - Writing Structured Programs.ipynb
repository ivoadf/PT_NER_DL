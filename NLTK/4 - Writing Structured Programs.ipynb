{
 "cells": [
  {
   "cell_type": "markdown",
   "metadata": {},
   "source": [
    "# Writing Structured Programs"
   ]
  },
  {
   "cell_type": "code",
   "execution_count": 1,
   "metadata": {},
   "outputs": [
    {
     "data": {
      "text/plain": [
       "[[], [], []]"
      ]
     },
     "execution_count": 1,
     "metadata": {},
     "output_type": "execute_result"
    }
   ],
   "source": [
    "empty = []\n",
    "nested = [empty,empty,empty]\n",
    "nested"
   ]
  },
  {
   "cell_type": "code",
   "execution_count": 2,
   "metadata": {},
   "outputs": [
    {
     "data": {
      "text/plain": [
       "[['Python'], ['Python'], ['Python']]"
      ]
     },
     "execution_count": 2,
     "metadata": {},
     "output_type": "execute_result"
    }
   ],
   "source": [
    "nested[1].append('Python')\n",
    "nested"
   ]
  },
  {
   "cell_type": "code",
   "execution_count": 3,
   "metadata": {},
   "outputs": [
    {
     "data": {
      "text/plain": [
       "[[], [], []]"
      ]
     },
     "execution_count": 3,
     "metadata": {},
     "output_type": "execute_result"
    }
   ],
   "source": [
    "nested = [[]] * 3\n",
    "nested"
   ]
  },
  {
   "cell_type": "code",
   "execution_count": 4,
   "metadata": {},
   "outputs": [
    {
     "data": {
      "text/plain": [
       "[['Python'], ['Python'], ['Python']]"
      ]
     },
     "execution_count": 4,
     "metadata": {},
     "output_type": "execute_result"
    }
   ],
   "source": [
    "nested[1].append('Python')\n",
    "nested"
   ]
  },
  {
   "cell_type": "code",
   "execution_count": 6,
   "metadata": {},
   "outputs": [
    {
     "data": {
      "text/plain": [
       "[['Python'], ['Monty'], ['Python']]"
      ]
     },
     "execution_count": 6,
     "metadata": {},
     "output_type": "execute_result"
    }
   ],
   "source": [
    "nested[1] = ['Monty']\n",
    "nested"
   ]
  },
  {
   "cell_type": "code",
   "execution_count": 7,
   "metadata": {},
   "outputs": [
    {
     "data": {
      "text/plain": [
       "True"
      ]
     },
     "execution_count": 7,
     "metadata": {},
     "output_type": "execute_result"
    }
   ],
   "source": [
    "size = 5\n",
    "python = ['Python']\n",
    "snake_nest = [python]*size\n",
    "snake_nest[0] == snake_nest[1] == snake_nest[2] == snake_nest[3] == snake_nest[4]"
   ]
  },
  {
   "cell_type": "code",
   "execution_count": 8,
   "metadata": {},
   "outputs": [
    {
     "data": {
      "text/plain": [
       "True"
      ]
     },
     "execution_count": 8,
     "metadata": {},
     "output_type": "execute_result"
    }
   ],
   "source": [
    "snake_nest[0] is snake_nest[1] is snake_nest[2] is snake_nest[3] is snake_nest[4]"
   ]
  },
  {
   "cell_type": "code",
   "execution_count": 9,
   "metadata": {},
   "outputs": [
    {
     "data": {
      "text/plain": [
       "True"
      ]
     },
     "execution_count": 9,
     "metadata": {},
     "output_type": "execute_result"
    }
   ],
   "source": [
    "import random\n",
    "position = random.choice(range(size))\n",
    "snake_nest[position] = ['Python']\n",
    "snake_nest[0] == snake_nest[1] == snake_nest[2] == snake_nest[3] == snake_nest[4]"
   ]
  },
  {
   "cell_type": "code",
   "execution_count": 10,
   "metadata": {},
   "outputs": [
    {
     "data": {
      "text/plain": [
       "False"
      ]
     },
     "execution_count": 10,
     "metadata": {},
     "output_type": "execute_result"
    }
   ],
   "source": [
    "snake_nest[0] is snake_nest[1] is snake_nest[2] is snake_nest[3] is snake_nest[4]"
   ]
  },
  {
   "cell_type": "code",
   "execution_count": 11,
   "metadata": {},
   "outputs": [
    {
     "data": {
      "text/plain": [
       "[139672203645640,\n",
       " 139672203645640,\n",
       " 139672203645640,\n",
       " 139672203647304,\n",
       " 139672203645640]"
      ]
     },
     "execution_count": 11,
     "metadata": {},
     "output_type": "execute_result"
    }
   ],
   "source": [
    "[id(snake) for snake in snake_nest]"
   ]
  },
  {
   "cell_type": "code",
   "execution_count": 12,
   "metadata": {},
   "outputs": [
    {
     "data": {
      "text/plain": [
       "False"
      ]
     },
     "execution_count": 12,
     "metadata": {},
     "output_type": "execute_result"
    }
   ],
   "source": [
    "sent = ['No', 'good', 'fish', 'goes', 'anywhere', 'without', 'a', 'porpoise', '.']\n",
    "all(len(w) > 4 for w in sent)"
   ]
  },
  {
   "cell_type": "code",
   "execution_count": 13,
   "metadata": {},
   "outputs": [
    {
     "data": {
      "text/plain": [
       "True"
      ]
     },
     "execution_count": 13,
     "metadata": {},
     "output_type": "execute_result"
    }
   ],
   "source": [
    "any(len(w) > 4 for w in sent)"
   ]
  },
  {
   "cell_type": "code",
   "execution_count": 14,
   "metadata": {},
   "outputs": [],
   "source": [
    "#for item in s\titerate over the items of s\n",
    "#for item in sorted(s)\titerate over the items of s in order\n",
    "#for item in set(s)\titerate over unique elements of s\n",
    "#for item in reversed(s)\titerate over elements of s in reverse\n",
    "#for item in set(s).difference(t)\titerate over elements of s not in t"
   ]
  },
  {
   "cell_type": "code",
   "execution_count": 15,
   "metadata": {},
   "outputs": [
    {
     "data": {
      "text/plain": [
       "['I', 'turned', 'the', 'spectroroute', 'off']"
      ]
     },
     "execution_count": 15,
     "metadata": {},
     "output_type": "execute_result"
    }
   ],
   "source": [
    "words = ['I', 'turned', 'off', 'the', 'spectroroute']\n",
    "words[2], words[3], words[4] = words[3], words[4], words[2]\n",
    "words"
   ]
  },
  {
   "cell_type": "code",
   "execution_count": 16,
   "metadata": {},
   "outputs": [
    {
     "data": {
      "text/plain": [
       "<zip at 0x7f07f815ecc8>"
      ]
     },
     "execution_count": 16,
     "metadata": {},
     "output_type": "execute_result"
    }
   ],
   "source": [
    "words = ['I', 'turned', 'off', 'the', 'spectroroute']\n",
    "tags = ['noun', 'verb', 'prep', 'det', 'noun']\n",
    "zip(words, tags)"
   ]
  },
  {
   "cell_type": "code",
   "execution_count": 17,
   "metadata": {},
   "outputs": [
    {
     "data": {
      "text/plain": [
       "[('I', 'noun'),\n",
       " ('turned', 'verb'),\n",
       " ('off', 'prep'),\n",
       " ('the', 'det'),\n",
       " ('spectroroute', 'noun')]"
      ]
     },
     "execution_count": 17,
     "metadata": {},
     "output_type": "execute_result"
    }
   ],
   "source": [
    "list(zip(words, tags))"
   ]
  },
  {
   "cell_type": "code",
   "execution_count": 18,
   "metadata": {},
   "outputs": [
    {
     "data": {
      "text/plain": [
       "[(0, 'I'), (1, 'turned'), (2, 'off'), (3, 'the'), (4, 'spectroroute')]"
      ]
     },
     "execution_count": 18,
     "metadata": {},
     "output_type": "execute_result"
    }
   ],
   "source": [
    "list(enumerate(words))"
   ]
  },
  {
   "cell_type": "code",
   "execution_count": 21,
   "metadata": {},
   "outputs": [
    {
     "data": {
      "text/plain": [
       "'word'"
      ]
     },
     "execution_count": 21,
     "metadata": {},
     "output_type": "execute_result"
    }
   ],
   "source": [
    "from nltk import word_tokenize\n",
    "text = '''\"When I use a word,\" Humpty Dumpty said in rather a scornful tone,\n",
    "\"it means just what I choose it to mean - neither more nor less.\"'''\n",
    "#stores in memory all words, can be slow\n",
    "max([w.lower() for w in word_tokenize(text)])"
   ]
  },
  {
   "cell_type": "code",
   "execution_count": 22,
   "metadata": {},
   "outputs": [
    {
     "data": {
      "text/plain": [
       "'word'"
      ]
     },
     "execution_count": 22,
     "metadata": {},
     "output_type": "execute_result"
    }
   ],
   "source": [
    "#streams data to the function directly\n",
    "max(w.lower() for w in word_tokenize(text))"
   ]
  },
  {
   "cell_type": "code",
   "execution_count": 24,
   "metadata": {},
   "outputs": [
    {
     "name": "stdout",
     "output_type": "stream",
     "text": [
      "[[{7}, {7}, {7}, {7}, {7}, {7}, {7}],\n",
      " [{7}, {7}, {7}, {7}, {7}, {7}, {7}],\n",
      " [{7}, {7}, {7}, {7}, {7}, {7}, {7}]]\n"
     ]
    }
   ],
   "source": [
    "import pprint\n",
    "m, n = 3 , 7\n",
    "array = [[set()] * n] * m\n",
    "array[2][5].add(7)\n",
    "pprint.pprint(array)"
   ]
  },
  {
   "cell_type": "code",
   "execution_count": 25,
   "metadata": {},
   "outputs": [
    {
     "name": "stdout",
     "output_type": "stream",
     "text": [
      "[[set(), set(), set(), set(), set(), set(), set()],\n",
      " [set(), set(), set(), set(), set(), set(), set()],\n",
      " [set(), set(), set(), set(), set(), {'Alice'}, set()]]\n"
     ]
    }
   ],
   "source": [
    "array = [[set() for i in range(n)] for j in range(m)]\n",
    "array[2][5].add('Alice')\n",
    "pprint.pprint(array)"
   ]
  },
  {
   "cell_type": "code",
   "execution_count": 35,
   "metadata": {},
   "outputs": [
    {
     "data": {
      "text/plain": [
       "'det'"
      ]
     },
     "execution_count": 35,
     "metadata": {},
     "output_type": "execute_result"
    }
   ],
   "source": [
    "def tag(word):\n",
    "    assert isinstance(word, str), \"argument to tag() must be a string\"\n",
    "    if word in ['a', 'the', 'all']:\n",
    "        return 'det'\n",
    "    else:\n",
    "        return 'noun'\n",
    "tag('the')"
   ]
  },
  {
   "cell_type": "code",
   "execution_count": 36,
   "metadata": {},
   "outputs": [
    {
     "ename": "AssertionError",
     "evalue": "argument to tag() must be a string",
     "output_type": "error",
     "traceback": [
      "\u001b[0;31m---------------------------------------------------------------------------\u001b[0m",
      "\u001b[0;31mAssertionError\u001b[0m                            Traceback (most recent call last)",
      "\u001b[0;32m<ipython-input-36-0461a194e703>\u001b[0m in \u001b[0;36m<module>\u001b[0;34m()\u001b[0m\n\u001b[0;32m----> 1\u001b[0;31m \u001b[0mtag\u001b[0m\u001b[0;34m(\u001b[0m\u001b[0;34m[\u001b[0m\u001b[0;34m'this'\u001b[0m\u001b[0;34m,\u001b[0m\u001b[0;34m'is'\u001b[0m\u001b[0;34m,\u001b[0m\u001b[0;34m'a'\u001b[0m\u001b[0;34m,\u001b[0m\u001b[0;34m'list'\u001b[0m\u001b[0;34m]\u001b[0m\u001b[0;34m)\u001b[0m\u001b[0;34m\u001b[0m\u001b[0m\n\u001b[0m",
      "\u001b[0;32m<ipython-input-35-ff4782d9b4b6>\u001b[0m in \u001b[0;36mtag\u001b[0;34m(word)\u001b[0m\n\u001b[1;32m      1\u001b[0m \u001b[0;32mdef\u001b[0m \u001b[0mtag\u001b[0m\u001b[0;34m(\u001b[0m\u001b[0mword\u001b[0m\u001b[0;34m)\u001b[0m\u001b[0;34m:\u001b[0m\u001b[0;34m\u001b[0m\u001b[0m\n\u001b[0;32m----> 2\u001b[0;31m     \u001b[0;32massert\u001b[0m \u001b[0misinstance\u001b[0m\u001b[0;34m(\u001b[0m\u001b[0mword\u001b[0m\u001b[0;34m,\u001b[0m \u001b[0mstr\u001b[0m\u001b[0;34m)\u001b[0m\u001b[0;34m,\u001b[0m \u001b[0;34m\"argument to tag() must be a string\"\u001b[0m\u001b[0;34m\u001b[0m\u001b[0m\n\u001b[0m\u001b[1;32m      3\u001b[0m     \u001b[0;32mif\u001b[0m \u001b[0mword\u001b[0m \u001b[0;32min\u001b[0m \u001b[0;34m[\u001b[0m\u001b[0;34m'a'\u001b[0m\u001b[0;34m,\u001b[0m \u001b[0;34m'the'\u001b[0m\u001b[0;34m,\u001b[0m \u001b[0;34m'all'\u001b[0m\u001b[0;34m]\u001b[0m\u001b[0;34m:\u001b[0m\u001b[0;34m\u001b[0m\u001b[0m\n\u001b[1;32m      4\u001b[0m         \u001b[0;32mreturn\u001b[0m \u001b[0;34m'det'\u001b[0m\u001b[0;34m\u001b[0m\u001b[0m\n\u001b[1;32m      5\u001b[0m     \u001b[0;32melse\u001b[0m\u001b[0;34m:\u001b[0m\u001b[0;34m\u001b[0m\u001b[0m\n",
      "\u001b[0;31mAssertionError\u001b[0m: argument to tag() must be a string"
     ]
    }
   ],
   "source": [
    "tag(['this','is','a','list'])"
   ]
  },
  {
   "cell_type": "code",
   "execution_count": 37,
   "metadata": {},
   "outputs": [
    {
     "data": {
      "text/plain": [
       "[4, 4, 2, 3, 5, 1, 3, 3, 6, 4, 4, 4, 2, 10, 1]"
      ]
     },
     "execution_count": 37,
     "metadata": {},
     "output_type": "execute_result"
    }
   ],
   "source": [
    "sent = ['Take', 'care', 'of', 'the', 'sense', ',', 'and', 'the',\n",
    "  'sounds', 'will', 'take', 'care', 'of', 'themselves', '.']\n",
    "def extract_property(prop):\n",
    "    return [prop(word) for word in sent]\n",
    "extract_property(len)"
   ]
  },
  {
   "cell_type": "code",
   "execution_count": 38,
   "metadata": {},
   "outputs": [
    {
     "data": {
      "text/plain": [
       "['e', 'e', 'f', 'e', 'e', ',', 'd', 'e', 's', 'l', 'e', 'e', 'f', 's', '.']"
      ]
     },
     "execution_count": 38,
     "metadata": {},
     "output_type": "execute_result"
    }
   ],
   "source": [
    "def last_letter(word):\n",
    "    return word[-1]\n",
    "extract_property(last_letter)"
   ]
  },
  {
   "cell_type": "code",
   "execution_count": 42,
   "metadata": {},
   "outputs": [
    {
     "name": "stdout",
     "output_type": "stream",
     "text": [
      "Grizzlies' fizzled Rizzuto huzzahs dazzler jazz Pezza Pezza Pezza embezzling embezzlement pizza jazz Ozzie nozzle drizzly puzzle puzzle dazzling Sizzling guzzle puzzles dazzling jazz jazz Jazz jazz Jazz jazz jazz Jazz jazz jazz jazz Jazz jazz dizzy jazz Jazz puzzler jazz jazzmen jazz jazz Jazz Jazz Jazz jazz Jazz jazz jazz jazz Jazz jazz jazz jazz jazz jazz jazz jazz jazz jazz Jazz Jazz jazz jazz nozzles nozzle puzzle buzz puzzle blizzard blizzard sizzling puzzled puzzle puzzle muzzle muzzle muezzin blizzard Neo-Jazz jazz muzzle piazzas puzzles puzzles embezzle buzzed snazzy buzzes puzzled puzzled muzzle whizzing jazz Belshazzar Lizzie Lizzie Lizzie Lizzie Lizzie Lizzie Lizzie Lizzie Lizzie's Lizzie Lizzie Lizzie Lizzie Lizzie Lizzie Lizzie Lizzie Lizzie blizzard blizzards blizzard blizzard fuzzy Lazzeri Piazza piazza palazzi Piazza Piazza Palazzo Palazzo Palazzo Piazza Piazza Palazzo palazzo palazzo Palazzo Palazzo Piazza piazza piazza piazza Piazza Piazza Palazzo palazzo Piazza piazza pizza Piazza Palazzo palazzo dazzling puzzling Wozzek dazzling dazzling buzzing Jazz jazz Jazz Jazz jazz jazz jazz jazz Jazz jazz jazz jazz Fuzzy Lizzy Lizzy jazz fuzzy puzzles puzzling puzzling dazzle puzzle dazzling puzzled jazz jazz jazz jazzy whizzed frazzled quizzical puzzling poetry-and-jazz poetry-and-jazz jazz jazz jazz jazz jazz jazz jazz Jazz jazz jazz jazz poetry-and-jazz jazz jazz jazz Dizzy jazz jazz jazz jazz jazz poetry-and-jazz jazz jazz jazz jazz jazz jazz jazz jazz jazz jazz jazz jazz dazzled bedazzlement bedazzled Piazzo nozzles nozzles buzzing dazzles dizzy puzzling puzzling puzzling puzzle muzzle puzzled nozzle Pozzatti Pozzatti Pozzatti puzzled Pozzatti Pozzatti dazzling pizzicato Jazz jazz jazz jazz jazz nozzle grizzled fuzzy muzzle puzzled puzzle muzzle blizzard buzz dizzily drizzle drizzle drizzle sizzled puzzled puzzled puzzled fuzzed buzz buzz buzz buzz-buzz-buzz buzzes fuzzy frizzled drizzle drizzle drizzling drizzling fuzz jazz jazz fuzz puzzle puzzling Nozze mezzo puzzled puzzled dazzling muzzle muzzle muzzle buzzed whizzed sizzled palazzos puzzlement frizzling puzzled puzzled puzzled dazzling muzzles fuzzy jazz ex-jazz sizzle grizzly guzzled buzzing fuzz nuzzled Kizzie Kizzie Kizzie Kezziah Kizzie Kizzie Buzz's Buzz Buzz Buzz Buzz Buzz Buzz Buzz Buzz dizzy piazza buzzing Puzzled dizziness dazzled Piazza Carrozza fuzzy dizzy buzzing buzzing puzzled puzzling puzzled puzzled Quizzical pizza "
     ]
    }
   ],
   "source": [
    "def search1(substring, words):\n",
    "    result = []\n",
    "    for word in words:\n",
    "        if substring in word:\n",
    "            result.append(word)\n",
    "    return result\n",
    "\n",
    "def search2(substring, words):\n",
    "    for word in words:\n",
    "        if substring in word:\n",
    "            yield word #generator, return 1 value at a time, stream like\n",
    "for item in search1('zz', nltk.corpus.brown.words()):\n",
    "    print(item,end=\" \")"
   ]
  },
  {
   "cell_type": "code",
   "execution_count": 43,
   "metadata": {},
   "outputs": [
    {
     "name": "stdout",
     "output_type": "stream",
     "text": [
      "Grizzlies' fizzled Rizzuto huzzahs dazzler jazz Pezza Pezza Pezza embezzling embezzlement pizza jazz Ozzie nozzle drizzly puzzle puzzle dazzling Sizzling guzzle puzzles dazzling jazz jazz Jazz jazz Jazz jazz jazz Jazz jazz jazz jazz Jazz jazz dizzy jazz Jazz puzzler jazz jazzmen jazz jazz Jazz Jazz Jazz jazz Jazz jazz jazz jazz Jazz jazz jazz jazz jazz jazz jazz jazz jazz jazz Jazz Jazz jazz jazz nozzles nozzle puzzle buzz puzzle blizzard blizzard sizzling puzzled puzzle puzzle muzzle muzzle muezzin blizzard Neo-Jazz jazz muzzle piazzas puzzles puzzles embezzle buzzed snazzy buzzes puzzled puzzled muzzle whizzing jazz Belshazzar Lizzie Lizzie Lizzie Lizzie Lizzie Lizzie Lizzie Lizzie Lizzie's Lizzie Lizzie Lizzie Lizzie Lizzie Lizzie Lizzie Lizzie Lizzie blizzard blizzards blizzard blizzard fuzzy Lazzeri Piazza piazza palazzi Piazza Piazza Palazzo Palazzo Palazzo Piazza Piazza Palazzo palazzo palazzo Palazzo Palazzo Piazza piazza piazza piazza Piazza Piazza Palazzo palazzo Piazza piazza pizza Piazza Palazzo palazzo dazzling puzzling Wozzek dazzling dazzling buzzing Jazz jazz Jazz Jazz jazz jazz jazz jazz Jazz jazz jazz jazz Fuzzy Lizzy Lizzy jazz fuzzy puzzles puzzling puzzling dazzle puzzle dazzling puzzled jazz jazz jazz jazzy whizzed frazzled quizzical puzzling poetry-and-jazz poetry-and-jazz jazz jazz jazz jazz jazz jazz jazz Jazz jazz jazz jazz poetry-and-jazz jazz jazz jazz Dizzy jazz jazz jazz jazz jazz poetry-and-jazz jazz jazz jazz jazz jazz jazz jazz jazz jazz jazz jazz jazz dazzled bedazzlement bedazzled Piazzo nozzles nozzles buzzing dazzles dizzy puzzling puzzling puzzling puzzle muzzle puzzled nozzle Pozzatti Pozzatti Pozzatti puzzled Pozzatti Pozzatti dazzling pizzicato Jazz jazz jazz jazz jazz nozzle grizzled fuzzy muzzle puzzled puzzle muzzle blizzard buzz dizzily drizzle drizzle drizzle sizzled puzzled puzzled puzzled fuzzed buzz buzz buzz buzz-buzz-buzz buzzes fuzzy frizzled drizzle drizzle drizzling drizzling fuzz jazz jazz fuzz puzzle puzzling Nozze mezzo puzzled puzzled dazzling muzzle muzzle muzzle buzzed whizzed sizzled palazzos puzzlement frizzling puzzled puzzled puzzled dazzling muzzles fuzzy jazz ex-jazz sizzle grizzly guzzled buzzing fuzz nuzzled Kizzie Kizzie Kizzie Kezziah Kizzie Kizzie Buzz's Buzz Buzz Buzz Buzz Buzz Buzz Buzz Buzz dizzy piazza buzzing Puzzled dizziness dazzled Piazza Carrozza fuzzy dizzy buzzing buzzing puzzled puzzling puzzled puzzled Quizzical pizza "
     ]
    }
   ],
   "source": [
    "for item in search2('zz', nltk.corpus.brown.words()):\n",
    "    print(item,end=\" \")"
   ]
  },
  {
   "cell_type": "code",
   "execution_count": 44,
   "metadata": {},
   "outputs": [
    {
     "data": {
      "text/plain": [
       "['Take', 'care', 'sense', 'sounds', 'take', 'care', 'themselves']"
      ]
     },
     "execution_count": 44,
     "metadata": {},
     "output_type": "execute_result"
    }
   ],
   "source": [
    "#High order functions, functional programming\n",
    "def is_content_word(word):\n",
    "    return word.lower() not in ['a', 'of', 'the', 'and', 'will', ',', '.']\n",
    "sent = ['Take', 'care', 'of', 'the', 'sense', ',', 'and', 'the',\n",
    "        'sounds', 'will', 'take', 'care', 'of', 'themselves', '.']\n",
    "list(filter(is_content_word, sent))"
   ]
  },
  {
   "cell_type": "code",
   "execution_count": 47,
   "metadata": {},
   "outputs": [
    {
     "data": {
      "text/plain": [
       "[25,\n",
       " 43,\n",
       " 35,\n",
       " 37,\n",
       " 24,\n",
       " 24,\n",
       " 43,\n",
       " 2,\n",
       " 26,\n",
       " 25,\n",
       " 14,\n",
       " 14,\n",
       " 28,\n",
       " 24,\n",
       " 59,\n",
       " 23,\n",
       " 25,\n",
       " 17,\n",
       " 34,\n",
       " 2,\n",
       " 33,\n",
       " 33,\n",
       " 33,\n",
       " 33,\n",
       " 3,\n",
       " 12,\n",
       " 31,\n",
       " 3,\n",
       " 28,\n",
       " 34,\n",
       " 22,\n",
       " 6,\n",
       " 9,\n",
       " 20,\n",
       " 15,\n",
       " 16,\n",
       " 16,\n",
       " 20,\n",
       " 11,\n",
       " 13,\n",
       " 17,\n",
       " 14,\n",
       " 10,\n",
       " 30,\n",
       " 22,\n",
       " 23,\n",
       " 37,\n",
       " 34,\n",
       " 20,\n",
       " 28,\n",
       " 32,\n",
       " 31,\n",
       " 22,\n",
       " 21,\n",
       " 9,\n",
       " 20,\n",
       " 17,\n",
       " 28,\n",
       " 32,\n",
       " 18,\n",
       " 21,\n",
       " 2,\n",
       " 26,\n",
       " 43,\n",
       " 31,\n",
       " 3,\n",
       " 35,\n",
       " 33,\n",
       " 28,\n",
       " 33,\n",
       " 41,\n",
       " 30,\n",
       " 13,\n",
       " 20,\n",
       " 25,\n",
       " 27,\n",
       " 36,\n",
       " 37,\n",
       " 16,\n",
       " 18,\n",
       " 35,\n",
       " 1,\n",
       " 37,\n",
       " 31,\n",
       " 13,\n",
       " 18,\n",
       " 19,\n",
       " 12,\n",
       " 18,\n",
       " 13,\n",
       " 16,\n",
       " 33,\n",
       " 18,\n",
       " 19,\n",
       " 29,\n",
       " 12,\n",
       " 11,\n",
       " 9,\n",
       " 3,\n",
       " 23,\n",
       " 36,\n",
       " 14,\n",
       " 22,\n",
       " 37,\n",
       " 29,\n",
       " 24,\n",
       " 31,\n",
       " 20,\n",
       " 38,\n",
       " 19,\n",
       " 12,\n",
       " 39,\n",
       " 31,\n",
       " 20,\n",
       " 22,\n",
       " 3,\n",
       " 30,\n",
       " 24,\n",
       " 15,\n",
       " 53,\n",
       " 49,\n",
       " 31,\n",
       " 24,\n",
       " 30,\n",
       " 21,\n",
       " 21,\n",
       " 11,\n",
       " 20,\n",
       " 26,\n",
       " 26,\n",
       " 22,\n",
       " 7,\n",
       " 9,\n",
       " 25,\n",
       " 32,\n",
       " 26,\n",
       " 7,\n",
       " 34,\n",
       " 30,\n",
       " 14,\n",
       " 42,\n",
       " 37,\n",
       " 36,\n",
       " 36,\n",
       " 3,\n",
       " 20,\n",
       " 34,\n",
       " 24,\n",
       " 25,\n",
       " 29,\n",
       " 22,\n",
       " 16,\n",
       " 3,\n",
       " 14,\n",
       " 44,\n",
       " 33,\n",
       " 14,\n",
       " 21,\n",
       " 31,\n",
       " 36,\n",
       " 36,\n",
       " 12,\n",
       " 9,\n",
       " 9,\n",
       " 3,\n",
       " 25,\n",
       " 41,\n",
       " 11,\n",
       " 22,\n",
       " 13,\n",
       " 38,\n",
       " 13,\n",
       " 14,\n",
       " 6,\n",
       " 25,\n",
       " 21,\n",
       " 15,\n",
       " 29,\n",
       " 18,\n",
       " 19,\n",
       " 51,\n",
       " 18,\n",
       " 6,\n",
       " 28,\n",
       " 32,\n",
       " 38,\n",
       " 25,\n",
       " 5,\n",
       " 34,\n",
       " 22,\n",
       " 34,\n",
       " 21,\n",
       " 3,\n",
       " 8,\n",
       " 27,\n",
       " 16,\n",
       " 31,\n",
       " 34,\n",
       " 23,\n",
       " 14,\n",
       " 3,\n",
       " 17,\n",
       " 15,\n",
       " 21,\n",
       " 23,\n",
       " 10,\n",
       " 21,\n",
       " 9,\n",
       " 4,\n",
       " 39,\n",
       " 39,\n",
       " 36,\n",
       " 3,\n",
       " 28,\n",
       " 48,\n",
       " 38,\n",
       " 24,\n",
       " 16,\n",
       " 10,\n",
       " 20,\n",
       " 20,\n",
       " 3,\n",
       " 41,\n",
       " 22,\n",
       " 11,\n",
       " 25,\n",
       " 16,\n",
       " 56,\n",
       " 3,\n",
       " 14,\n",
       " 32,\n",
       " 45,\n",
       " 24,\n",
       " 8,\n",
       " 3,\n",
       " 34,\n",
       " 4,\n",
       " 49,\n",
       " 49,\n",
       " 23,\n",
       " 8,\n",
       " 6,\n",
       " 28,\n",
       " 29,\n",
       " 26,\n",
       " 15,\n",
       " 46,\n",
       " 3,\n",
       " 35,\n",
       " 9,\n",
       " 24,\n",
       " 14,\n",
       " 3,\n",
       " 23,\n",
       " 33,\n",
       " 1,\n",
       " 17,\n",
       " 36,\n",
       " 1,\n",
       " 15,\n",
       " 1,\n",
       " 14,\n",
       " 24,\n",
       " 3,\n",
       " 52,\n",
       " 37,\n",
       " 10,\n",
       " 16,\n",
       " 11,\n",
       " 3,\n",
       " 8,\n",
       " 9,\n",
       " 29,\n",
       " 27,\n",
       " 24,\n",
       " 3,\n",
       " 26,\n",
       " 24,\n",
       " 25,\n",
       " 23,\n",
       " 30,\n",
       " 4,\n",
       " 29,\n",
       " 23,\n",
       " 12,\n",
       " 24,\n",
       " 14,\n",
       " 3,\n",
       " 16,\n",
       " 8,\n",
       " 27,\n",
       " 29,\n",
       " 33,\n",
       " 3,\n",
       " 10,\n",
       " 17,\n",
       " 12,\n",
       " 32,\n",
       " 17,\n",
       " 31,\n",
       " 4,\n",
       " 22,\n",
       " 14,\n",
       " 14,\n",
       " 24,\n",
       " 41,\n",
       " 3,\n",
       " 30,\n",
       " 1,\n",
       " 39,\n",
       " 30,\n",
       " 27,\n",
       " 35,\n",
       " 49,\n",
       " 2,\n",
       " 39,\n",
       " 23,\n",
       " 45,\n",
       " 27,\n",
       " 30,\n",
       " 29,\n",
       " 17,\n",
       " 47,\n",
       " 2,\n",
       " 32,\n",
       " 58,\n",
       " 38,\n",
       " 51,\n",
       " 40,\n",
       " 2,\n",
       " 52,\n",
       " 68,\n",
       " 31,\n",
       " 18,\n",
       " 1,\n",
       " 25,\n",
       " 29,\n",
       " 41,\n",
       " 17,\n",
       " 15,\n",
       " 17,\n",
       " 2,\n",
       " 36,\n",
       " 20,\n",
       " 18,\n",
       " 24,\n",
       " 26,\n",
       " 17,\n",
       " 19,\n",
       " 16,\n",
       " 2,\n",
       " 25,\n",
       " 32,\n",
       " 23,\n",
       " 20,\n",
       " 20,\n",
       " 47,\n",
       " 27,\n",
       " 2,\n",
       " 22,\n",
       " 32,\n",
       " 23,\n",
       " 16,\n",
       " 26,\n",
       " 41,\n",
       " 3,\n",
       " 40,\n",
       " 12,\n",
       " 11,\n",
       " 11,\n",
       " 21,\n",
       " 28,\n",
       " 17,\n",
       " 13,\n",
       " 37,\n",
       " 17,\n",
       " 28,\n",
       " 8,\n",
       " 1,\n",
       " 34,\n",
       " 11,\n",
       " 36,\n",
       " 25,\n",
       " 35,\n",
       " 24,\n",
       " 27,\n",
       " 1,\n",
       " 20,\n",
       " 20,\n",
       " 44,\n",
       " 33,\n",
       " 2,\n",
       " 53,\n",
       " 34,\n",
       " 32,\n",
       " 26,\n",
       " 28,\n",
       " 30,\n",
       " 9,\n",
       " 23,\n",
       " 11,\n",
       " 36,\n",
       " 37,\n",
       " 24,\n",
       " 15,\n",
       " 24,\n",
       " 4,\n",
       " 44,\n",
       " 22,\n",
       " 31,\n",
       " 23,\n",
       " 47,\n",
       " 23,\n",
       " 10,\n",
       " 27,\n",
       " 25,\n",
       " 39,\n",
       " 21,\n",
       " 18,\n",
       " 16,\n",
       " 34,\n",
       " 31,\n",
       " 8,\n",
       " 27,\n",
       " 30,\n",
       " 41,\n",
       " 16,\n",
       " 39,\n",
       " 38,\n",
       " 18,\n",
       " 21,\n",
       " 26,\n",
       " 36,\n",
       " 32,\n",
       " 23,\n",
       " 41,\n",
       " 16,\n",
       " 25,\n",
       " 32,\n",
       " 33,\n",
       " 42,\n",
       " 25,\n",
       " 19,\n",
       " 22,\n",
       " 8,\n",
       " 16,\n",
       " 14,\n",
       " 14,\n",
       " 27,\n",
       " 27,\n",
       " 50,\n",
       " 37,\n",
       " 36,\n",
       " 16,\n",
       " 38,\n",
       " 40,\n",
       " 39,\n",
       " 36,\n",
       " 28,\n",
       " 27,\n",
       " 37,\n",
       " 22,\n",
       " 25,\n",
       " 24,\n",
       " 29,\n",
       " 19,\n",
       " 19,\n",
       " 34,\n",
       " 32,\n",
       " 21,\n",
       " 37,\n",
       " 13,\n",
       " 33,\n",
       " 49,\n",
       " 34,\n",
       " 24,\n",
       " 30,\n",
       " 13,\n",
       " 14,\n",
       " 20,\n",
       " 1,\n",
       " 48,\n",
       " 37,\n",
       " 24,\n",
       " 25,\n",
       " 39,\n",
       " 26,\n",
       " 35,\n",
       " 17,\n",
       " 16,\n",
       " 3,\n",
       " 29,\n",
       " 23,\n",
       " 2,\n",
       " 15,\n",
       " 39,\n",
       " 18,\n",
       " 11,\n",
       " 13,\n",
       " 35,\n",
       " 2,\n",
       " 29,\n",
       " 28,\n",
       " 22,\n",
       " 25,\n",
       " 28,\n",
       " 24,\n",
       " 44,\n",
       " 2,\n",
       " 8,\n",
       " 20,\n",
       " 73,\n",
       " 24,\n",
       " 33,\n",
       " 10,\n",
       " 3,\n",
       " 24,\n",
       " 30,\n",
       " 37,\n",
       " 29,\n",
       " 24,\n",
       " 23,\n",
       " 3,\n",
       " 24,\n",
       " 8,\n",
       " 27,\n",
       " 17,\n",
       " 35,\n",
       " 30,\n",
       " 33,\n",
       " 20,\n",
       " 28,\n",
       " 35,\n",
       " 42,\n",
       " 40,\n",
       " 7,\n",
       " 1,\n",
       " 25,\n",
       " 24,\n",
       " 32,\n",
       " 17,\n",
       " 30,\n",
       " 14,\n",
       " 17,\n",
       " 24,\n",
       " 1,\n",
       " 36,\n",
       " 46,\n",
       " 30,\n",
       " 2,\n",
       " 31,\n",
       " 15,\n",
       " 22,\n",
       " 26,\n",
       " 18,\n",
       " 18,\n",
       " 19,\n",
       " 31,\n",
       " 19,\n",
       " 21,\n",
       " 40,\n",
       " 23,\n",
       " 20,\n",
       " 2,\n",
       " 15,\n",
       " 16,\n",
       " 32,\n",
       " 29,\n",
       " 18,\n",
       " 25,\n",
       " 26,\n",
       " 11,\n",
       " 1,\n",
       " 23,\n",
       " 35,\n",
       " 24,\n",
       " 24,\n",
       " 23,\n",
       " 10,\n",
       " 36,\n",
       " 23,\n",
       " 30,\n",
       " 29,\n",
       " 17,\n",
       " 2,\n",
       " 32,\n",
       " 25,\n",
       " 26,\n",
       " 41,\n",
       " 3,\n",
       " 21,\n",
       " 20,\n",
       " 19,\n",
       " 23,\n",
       " 36,\n",
       " 19,\n",
       " 4,\n",
       " 67,\n",
       " 19,\n",
       " 22,\n",
       " 4,\n",
       " 7,\n",
       " 25,\n",
       " 4,\n",
       " 15,\n",
       " 13,\n",
       " 22,\n",
       " 14,\n",
       " 7,\n",
       " 36,\n",
       " 21,\n",
       " 29,\n",
       " 12,\n",
       " 15,\n",
       " 18,\n",
       " 19,\n",
       " 26,\n",
       " 9,\n",
       " 25,\n",
       " 9,\n",
       " 4,\n",
       " 15,\n",
       " 17,\n",
       " 36,\n",
       " 11,\n",
       " 16,\n",
       " 37,\n",
       " 13,\n",
       " 3,\n",
       " 19,\n",
       " 14,\n",
       " 24,\n",
       " 14,\n",
       " 32,\n",
       " 15,\n",
       " 4,\n",
       " 22,\n",
       " 23,\n",
       " 27,\n",
       " 27,\n",
       " 23,\n",
       " 29,\n",
       " 9,\n",
       " 23,\n",
       " 2,\n",
       " 35,\n",
       " 21,\n",
       " 24,\n",
       " 9,\n",
       " 7,\n",
       " 9,\n",
       " 12,\n",
       " 2,\n",
       " 13,\n",
       " 6,\n",
       " 5,\n",
       " 8,\n",
       " 15,\n",
       " 27,\n",
       " 16,\n",
       " 26,\n",
       " 4,\n",
       " 36,\n",
       " 13,\n",
       " 21,\n",
       " 25,\n",
       " 19,\n",
       " 21,\n",
       " 13,\n",
       " 8,\n",
       " 24,\n",
       " 30,\n",
       " 39,\n",
       " 14,\n",
       " 30,\n",
       " 21,\n",
       " 5,\n",
       " 17,\n",
       " 10,\n",
       " 28,\n",
       " 24,\n",
       " 24,\n",
       " 4,\n",
       " 24,\n",
       " 19,\n",
       " 30,\n",
       " 6,\n",
       " 27,\n",
       " 17,\n",
       " 7,\n",
       " 4,\n",
       " 49,\n",
       " 12,\n",
       " 14,\n",
       " 20,\n",
       " 19,\n",
       " 22,\n",
       " 4,\n",
       " 28,\n",
       " 30,\n",
       " 8,\n",
       " 24,\n",
       " 21,\n",
       " 18,\n",
       " 16,\n",
       " 23,\n",
       " 17,\n",
       " 7,\n",
       " 1,\n",
       " 27,\n",
       " 45,\n",
       " 29,\n",
       " 10,\n",
       " 2,\n",
       " 20,\n",
       " 20,\n",
       " 34,\n",
       " 17,\n",
       " 19,\n",
       " 10,\n",
       " 20,\n",
       " 3,\n",
       " 34,\n",
       " 20,\n",
       " 17,\n",
       " 18,\n",
       " 32,\n",
       " 17,\n",
       " 18,\n",
       " 11,\n",
       " 24,\n",
       " 16,\n",
       " 14,\n",
       " 15,\n",
       " 12,\n",
       " 42,\n",
       " 3,\n",
       " 14,\n",
       " 32,\n",
       " 33,\n",
       " 32,\n",
       " 24,\n",
       " 3,\n",
       " 22,\n",
       " 38,\n",
       " 28,\n",
       " 37,\n",
       " 32,\n",
       " 15,\n",
       " 2,\n",
       " 28,\n",
       " 12,\n",
       " 32,\n",
       " 49,\n",
       " 28,\n",
       " 28,\n",
       " 15,\n",
       " 2,\n",
       " 42,\n",
       " 26,\n",
       " 32,\n",
       " 33,\n",
       " 4,\n",
       " 29,\n",
       " 14,\n",
       " 18,\n",
       " 34,\n",
       " 32,\n",
       " 32,\n",
       " 2,\n",
       " 20,\n",
       " 15,\n",
       " 33,\n",
       " 17,\n",
       " 22,\n",
       " 27,\n",
       " 9,\n",
       " 13,\n",
       " 17,\n",
       " 15,\n",
       " 23,\n",
       " 2,\n",
       " 17,\n",
       " 17,\n",
       " 37,\n",
       " 32,\n",
       " 38,\n",
       " 19,\n",
       " 12,\n",
       " 39,\n",
       " 31,\n",
       " 2,\n",
       " 29,\n",
       " 14,\n",
       " 22,\n",
       " 32,\n",
       " 37,\n",
       " 26,\n",
       " 23,\n",
       " 29,\n",
       " 36,\n",
       " 16,\n",
       " 2,\n",
       " 35,\n",
       " 19,\n",
       " 19,\n",
       " 17,\n",
       " 16,\n",
       " 30,\n",
       " 13,\n",
       " 22,\n",
       " 62,\n",
       " 2,\n",
       " 26,\n",
       " 24,\n",
       " 22,\n",
       " 3,\n",
       " 22,\n",
       " 9,\n",
       " 28,\n",
       " 17,\n",
       " 18,\n",
       " 9,\n",
       " 20,\n",
       " 4,\n",
       " 19,\n",
       " 25,\n",
       " 17,\n",
       " 22,\n",
       " 12,\n",
       " 18,\n",
       " 16,\n",
       " 20,\n",
       " 6,\n",
       " 15,\n",
       " 26,\n",
       " 15,\n",
       " 10,\n",
       " 13,\n",
       " 41,\n",
       " 10,\n",
       " 22,\n",
       " 3,\n",
       " 23,\n",
       " 23,\n",
       " 19,\n",
       " 17,\n",
       " 16,\n",
       " 2,\n",
       " 22,\n",
       " 28,\n",
       " 21,\n",
       " 20,\n",
       " 2,\n",
       " 20,\n",
       " 30,\n",
       " 17,\n",
       " 16,\n",
       " 3,\n",
       " 26,\n",
       " 17,\n",
       " 22,\n",
       " 47,\n",
       " 18,\n",
       " 36,\n",
       " 16,\n",
       " 11,\n",
       " 16,\n",
       " 28,\n",
       " 18,\n",
       " 19,\n",
       " 18,\n",
       " 3,\n",
       " 40,\n",
       " 29,\n",
       " 41,\n",
       " 3,\n",
       " 32,\n",
       " 18,\n",
       " 28,\n",
       " 18,\n",
       " 12,\n",
       " 10,\n",
       " 33,\n",
       " 32,\n",
       " 7,\n",
       " 4,\n",
       " 33,\n",
       " 25,\n",
       " 22,\n",
       " 16,\n",
       " 4,\n",
       " 16,\n",
       " 9,\n",
       " 23,\n",
       " 13,\n",
       " 19,\n",
       " 27,\n",
       " 4,\n",
       " 28,\n",
       " 25,\n",
       " 15,\n",
       " 22,\n",
       " 16,\n",
       " 8,\n",
       " 9,\n",
       " 25,\n",
       " 33,\n",
       " 45,\n",
       " 27,\n",
       " 12,\n",
       " 33,\n",
       " 43,\n",
       " 23,\n",
       " 25,\n",
       " 14,\n",
       " 14,\n",
       " 10,\n",
       " 38,\n",
       " 27,\n",
       " 27,\n",
       " 47,\n",
       " 2,\n",
       " 22,\n",
       " 42,\n",
       " 10,\n",
       " 25,\n",
       " 23,\n",
       " 3,\n",
       " 22,\n",
       " 19,\n",
       " 23,\n",
       " 24,\n",
       " 24,\n",
       " 31,\n",
       " 25,\n",
       " 29,\n",
       " 46,\n",
       " 62,\n",
       " 22,\n",
       " 7,\n",
       " 32,\n",
       " 50,\n",
       " 35,\n",
       " 19,\n",
       " 27,\n",
       " 33,\n",
       " 4,\n",
       " 19,\n",
       " 19,\n",
       " 17,\n",
       " 13,\n",
       " 20,\n",
       " 21,\n",
       " 24,\n",
       " 25,\n",
       " 32,\n",
       " 37,\n",
       " 25,\n",
       " 14,\n",
       " 35,\n",
       " 26,\n",
       " 5,\n",
       " 17,\n",
       " 13,\n",
       " 8,\n",
       " 16,\n",
       " 20,\n",
       " 12,\n",
       " 23,\n",
       " 36,\n",
       " 19,\n",
       " 20,\n",
       " 17,\n",
       " 59,\n",
       " 3,\n",
       " 9,\n",
       " 19,\n",
       " 12,\n",
       " 35,\n",
       " 19,\n",
       " 5,\n",
       " 6,\n",
       " 3,\n",
       " 7,\n",
       " 7,\n",
       " 11,\n",
       " 3,\n",
       " 23,\n",
       " 8,\n",
       " 7,\n",
       " 26,\n",
       " 32,\n",
       " 24,\n",
       " 16,\n",
       " 24,\n",
       " 3,\n",
       " 40,\n",
       " 33,\n",
       " 17,\n",
       " ...]"
      ]
     },
     "execution_count": 47,
     "metadata": {},
     "output_type": "execute_result"
    }
   ],
   "source": [
    "list(map(len, nltk.corpus.brown.sents(categories='news')))"
   ]
  },
  {
   "cell_type": "code",
   "execution_count": 48,
   "metadata": {},
   "outputs": [
    {
     "data": {
      "text/plain": [
       "'<empty><empty><empty>'"
      ]
     },
     "execution_count": 48,
     "metadata": {},
     "output_type": "execute_result"
    }
   ],
   "source": [
    "#  If we mix these two kinds of parameters, then we must ensure \n",
    "#that the unnamed parameters precede the named ones.\n",
    "def repeat(msg='<empty>', num=1):\n",
    "       return msg * num\n",
    "repeat(num=3)"
   ]
  },
  {
   "cell_type": "code",
   "execution_count": 49,
   "metadata": {},
   "outputs": [
    {
     "data": {
      "text/plain": [
       "'HelloHello'"
      ]
     },
     "execution_count": 49,
     "metadata": {},
     "output_type": "execute_result"
    }
   ],
   "source": [
    "repeat(msg=\"Hello\",num=2)"
   ]
  },
  {
   "cell_type": "code",
   "execution_count": 50,
   "metadata": {},
   "outputs": [
    {
     "name": "stdout",
     "output_type": "stream",
     "text": [
      "(1, 'Hi')\n",
      "{'monty': 'python'}\n"
     ]
    }
   ],
   "source": [
    "def generic(*args, **kwargs):\n",
    "    print(args)\n",
    "    print(kwargs)\n",
    "generic(1,\"Hi\",monty=\"python\")"
   ]
  },
  {
   "cell_type": "code",
   "execution_count": 51,
   "metadata": {},
   "outputs": [],
   "source": [
    "#python debugger\n",
    "#>>> import pdb\n",
    "#>>> import mymodule\n",
    "#>>> pdb.run('mymodule.myfunction()')"
   ]
  },
  {
   "cell_type": "code",
   "execution_count": 55,
   "metadata": {},
   "outputs": [
    {
     "name": "stdout",
     "output_type": "stream",
     "text": [
      "{'religion': [0, 0, 0, 0, 0, 0], 'hobbies': [0, 0, 0, 0, 0, 0], 'adventure': [0, 0, 0, 0, 0, 0], 'government': [0, 0, 0, 0, 0, 0], 'news': [0, 0, 0, 0, 0, 0]}\n"
     ]
    },
    {
     "data": {
      "image/png": "[encoded data removed]",
      "text/plain": [
       "<matplotlib.figure.Figure at 0x7f07cb23ba58>"
      ]
     },
     "metadata": {},
     "output_type": "display_data"
    }
   ],
   "source": [
    "from numpy import arange\n",
    "from matplotlib import pyplot\n",
    "\n",
    "colors = 'rgbcmyk' # red, green, blue, cyan, magenta, yellow, black\n",
    "\n",
    "def bar_chart(categories, words, counts):\n",
    "    \"Plot a bar chart showing counts for each word by category\"\n",
    "    ind = arange(len(words))\n",
    "    width = 1 / (len(categories) + 1)\n",
    "    bar_groups = []\n",
    "    for c in range(len(categories)):\n",
    "        bars = pyplot.bar(ind+c*width, counts[categories[c]], width,\n",
    "                         color=colors[c % len(colors)])\n",
    "        bar_groups.append(bars)\n",
    "    pyplot.xticks(ind+width, words)\n",
    "    pyplot.legend([b[0] for b in bar_groups], categories, loc='upper left')\n",
    "    pyplot.ylabel('Frequency')\n",
    "    pyplot.title('Frequency of Six Modal Verbs by Genre')\n",
    "    pyplot.show()\n",
    "\n",
    "genres = ['news', 'religion', 'hobbies', 'government', 'adventure']\n",
    "modals = ['can', 'could', 'may', 'might', 'must', 'will']\n",
    "cfdist = nltk.ConditionalFreqDist(\n",
    "    (genre,word)\n",
    "    for genre in genres\n",
    "    for word in nltk.corpus.brown.words(categories=genre)\n",
    "    if words in modals)\n",
    "counts = {}\n",
    "for genre in genres:\n",
    "    counts[genre] = [cfdist[genre][word] for word in modals]\n",
    "bar_chart(genres,modals,counts)"
   ]
  },
  {
   "cell_type": "code",
   "execution_count": 61,
   "metadata": {},
   "outputs": [
    {
     "data": {
      "image/png": "[encoded data removed]",
      "text/plain": [
       "<matplotlib.figure.Figure at 0x7f07c7e0a4a8>"
      ]
     },
     "metadata": {},
     "output_type": "display_data"
    }
   ],
   "source": [
    "import networkx as nx\n",
    "import matplotlib\n",
    "from nltk.corpus import wordnet as wn\n",
    "\n",
    "def traverse(graph, start, node):\n",
    "    graph.depth[node.name] = node.shortest_path_distance(start)\n",
    "    for child in node.hyponyms():\n",
    "        graph.add_edge(node.name, child.name)\n",
    "        traverse(graph, start, child)\n",
    "\n",
    "def hyponym_graph(start):\n",
    "    G = nx.Graph()\n",
    "    G.depth = {}\n",
    "    traverse(G, start, start)\n",
    "    return G\n",
    "\n",
    "def graph_draw(graph):\n",
    "    nx.draw_networkx(graph,\n",
    "         node_size = [16 * graph.degree(n) for n in graph],\n",
    "         node_color = [graph.depth[n] for n in graph],\n",
    "         with_labels = False)\n",
    "    matplotlib.pyplot.show()\n",
    "\n",
    "dog = wn.synset('dog.n.01')\n",
    "graph = hyponym_graph(dog)\n",
    "graph_draw(graph)"
   ]
  },
  {
   "cell_type": "code",
   "execution_count": null,
   "metadata": {},
   "outputs": [],
   "source": []
  }
 ],
 "metadata": {
  "kernelspec": {
   "display_name": "Python 3",
   "language": "python",
   "name": "python3"
  },
  "language_info": {
   "codemirror_mode": {
    "name": "ipython",
    "version": 3
   },
   "file_extension": ".py",
   "mimetype": "text/x-python",
   "name": "python",
   "nbconvert_exporter": "python",
   "pygments_lexer": "ipython3",
   "version": "3.5.3"
  }
 },
 "nbformat": 4,
 "nbformat_minor": 2
}
